{
  "nbformat": 4,
  "nbformat_minor": 0,
  "metadata": {
    "kernelspec": {
      "display_name": "Python 3",
      "language": "python",
      "name": "python3"
    },
    "language_info": {
      "codemirror_mode": {
        "name": "ipython",
        "version": 3
      },
      "file_extension": ".py",
      "mimetype": "text/x-python",
      "name": "python",
      "nbconvert_exporter": "python",
      "pygments_lexer": "ipython3",
      "version": "3.7.4"
    },
    "colab": {
      "name": "аналитика в недвижимости.ipynb",
      "provenance": [],
      "collapsed_sections": [
        "ekSUOzAomkno"
      ]
    }
  },
  "cells": [
    {
      "cell_type": "markdown",
      "metadata": {
        "id": "pTjoM6jfmkhg",
        "colab_type": "text"
      },
      "source": [
        "# Исследование объявлений о продаже квартир\n",
        "\n",
        "В вашем распоряжении данные сервиса Яндекс.Недвижимость — архив объявлений о продаже квартир в Санкт-Петербурге и соседних населённых пунктов за несколько лет. Нужно научиться определять рыночную стоимость объектов недвижимости. Ваша задача — установить параметры. Это позволит построить автоматизированную систему: она отследит аномалии и мошенническую деятельность. \n",
        "\n",
        "По каждой квартире на продажу доступны два вида данных. Первые вписаны пользователем, вторые — получены автоматически на основе картографических данных. Например, расстояние до центра, аэропорта, ближайшего парка и водоёма. "
      ]
    },
    {
      "cell_type": "markdown",
      "metadata": {
        "id": "kmKlkuNSmkhp",
        "colab_type": "text"
      },
      "source": [
        "---\n",
        "Описание данных: \n",
        "- *airports_nearest* — расстояние до ближайшего аэропорта в метрах (м)\n",
        "- *balcony* — число балконов\n",
        "- *ceiling_height* — высота потолков (м)\n",
        "- *cityCenters_nearest* — расстояние до центра города (м)\n",
        "- *days_exposition* — сколько дней было размещено объявление (от публикации до снятия)\n",
        "- *first_day_exposition* — дата публикации\n",
        "- *floor* — этаж\n",
        "- ...\n",
        "    \n",
        "    \n",
        "---"
      ]
    },
    {
      "cell_type": "markdown",
      "metadata": {
        "id": "iWdyXT1Rmkh8",
        "colab_type": "text"
      },
      "source": [
        "### Шаг 1. Откройте файл с данными и изучите общую информацию. "
      ]
    },
    {
      "cell_type": "markdown",
      "metadata": {
        "id": "AYiAVjNImkiA",
        "colab_type": "text"
      },
      "source": [
        "Описание данных:\n",
        "\n",
        "- airports_nearest — расстояние до ближайшего аэропорта в метрах (м)\n",
        "- balcony — число балконов\n",
        "- ceiling_height — высота потолков (м)\n",
        "- cityCenters_nearest — расстояние до центра города (м)\n",
        "- days_exposition — сколько дней было размещено объявление (от публикации до снятия)\n",
        "- first_day_exposition — дата публикации\n",
        "- floor — этаж\n",
        "- floors_total — всего этажей в доме\n",
        "- is_apartment — апартаменты (булев тип)\n",
        "- kitchen_area — площадь кухни в квадратных метрах (м²)\n",
        "- last_price — цена на момент снятия с публикации\n",
        "- living_area — жилая площадь в квадратных метрах(м²)\n",
        "- locality_name — название населённого пункта\n",
        "- open_plan — свободная планировка (булев тип)\n",
        "- parks_around3000 — число парков в радиусе 3 км\n",
        "- parks_nearest — расстояние до ближайшего парка (м)\n",
        "- ponds_around3000 — число водоёмов в радиусе 3 км\n",
        "- ponds_nearest — расстояние до ближайшего водоёма (м)\n",
        "- rooms — число комнат\n",
        "- studio — квартира-студия (булев тип)\n",
        "- total_area — площадь квартиры в квадратных метрах (м²)\n",
        "- total_images — число фотографий квартиры в объявлении"
      ]
    },
    {
      "cell_type": "code",
      "metadata": {
        "id": "tSbEVo_YmkiF",
        "colab_type": "code",
        "colab": {}
      },
      "source": [
        "import pandas as pd\n",
        "import matplotlib.pyplot as plt"
      ],
      "execution_count": 0,
      "outputs": []
    },
    {
      "cell_type": "markdown",
      "metadata": {
        "id": "MadrVvKKmkiV",
        "colab_type": "text"
      },
      "source": [
        "Прочитаем файл и посмотрим общую информацию."
      ]
    },
    {
      "cell_type": "code",
      "metadata": {
        "id": "6VVlSgVAmkia",
        "colab_type": "code",
        "colab": {},
        "outputId": "cd37af7d-ec37-449a-b2f0-2235d5234137"
      },
      "source": [
        "df = pd.read_csv('/datasets/real_estate_data.csv', sep='\\t')\n",
        "df.head()"
      ],
      "execution_count": 0,
      "outputs": [
        {
          "output_type": "execute_result",
          "data": {
            "text/html": [
              "<div>\n",
              "<style scoped>\n",
              "    .dataframe tbody tr th:only-of-type {\n",
              "        vertical-align: middle;\n",
              "    }\n",
              "\n",
              "    .dataframe tbody tr th {\n",
              "        vertical-align: top;\n",
              "    }\n",
              "\n",
              "    .dataframe thead th {\n",
              "        text-align: right;\n",
              "    }\n",
              "</style>\n",
              "<table border=\"1\" class=\"dataframe\">\n",
              "  <thead>\n",
              "    <tr style=\"text-align: right;\">\n",
              "      <th></th>\n",
              "      <th>total_images</th>\n",
              "      <th>last_price</th>\n",
              "      <th>total_area</th>\n",
              "      <th>first_day_exposition</th>\n",
              "      <th>rooms</th>\n",
              "      <th>ceiling_height</th>\n",
              "      <th>floors_total</th>\n",
              "      <th>living_area</th>\n",
              "      <th>floor</th>\n",
              "      <th>is_apartment</th>\n",
              "      <th>...</th>\n",
              "      <th>kitchen_area</th>\n",
              "      <th>balcony</th>\n",
              "      <th>locality_name</th>\n",
              "      <th>airports_nearest</th>\n",
              "      <th>cityCenters_nearest</th>\n",
              "      <th>parks_around3000</th>\n",
              "      <th>parks_nearest</th>\n",
              "      <th>ponds_around3000</th>\n",
              "      <th>ponds_nearest</th>\n",
              "      <th>days_exposition</th>\n",
              "    </tr>\n",
              "  </thead>\n",
              "  <tbody>\n",
              "    <tr>\n",
              "      <td>0</td>\n",
              "      <td>20</td>\n",
              "      <td>13000000.0</td>\n",
              "      <td>108.0</td>\n",
              "      <td>2019-03-07T00:00:00</td>\n",
              "      <td>3</td>\n",
              "      <td>2.70</td>\n",
              "      <td>16.0</td>\n",
              "      <td>51.0</td>\n",
              "      <td>8</td>\n",
              "      <td>NaN</td>\n",
              "      <td>...</td>\n",
              "      <td>25.0</td>\n",
              "      <td>NaN</td>\n",
              "      <td>Санкт-Петербург</td>\n",
              "      <td>18863.0</td>\n",
              "      <td>16028.0</td>\n",
              "      <td>1.0</td>\n",
              "      <td>482.0</td>\n",
              "      <td>2.0</td>\n",
              "      <td>755.0</td>\n",
              "      <td>NaN</td>\n",
              "    </tr>\n",
              "    <tr>\n",
              "      <td>1</td>\n",
              "      <td>7</td>\n",
              "      <td>3350000.0</td>\n",
              "      <td>40.4</td>\n",
              "      <td>2018-12-04T00:00:00</td>\n",
              "      <td>1</td>\n",
              "      <td>NaN</td>\n",
              "      <td>11.0</td>\n",
              "      <td>18.6</td>\n",
              "      <td>1</td>\n",
              "      <td>NaN</td>\n",
              "      <td>...</td>\n",
              "      <td>11.0</td>\n",
              "      <td>2.0</td>\n",
              "      <td>посёлок Шушары</td>\n",
              "      <td>12817.0</td>\n",
              "      <td>18603.0</td>\n",
              "      <td>0.0</td>\n",
              "      <td>NaN</td>\n",
              "      <td>0.0</td>\n",
              "      <td>NaN</td>\n",
              "      <td>81.0</td>\n",
              "    </tr>\n",
              "    <tr>\n",
              "      <td>2</td>\n",
              "      <td>10</td>\n",
              "      <td>5196000.0</td>\n",
              "      <td>56.0</td>\n",
              "      <td>2015-08-20T00:00:00</td>\n",
              "      <td>2</td>\n",
              "      <td>NaN</td>\n",
              "      <td>5.0</td>\n",
              "      <td>34.3</td>\n",
              "      <td>4</td>\n",
              "      <td>NaN</td>\n",
              "      <td>...</td>\n",
              "      <td>8.3</td>\n",
              "      <td>0.0</td>\n",
              "      <td>Санкт-Петербург</td>\n",
              "      <td>21741.0</td>\n",
              "      <td>13933.0</td>\n",
              "      <td>1.0</td>\n",
              "      <td>90.0</td>\n",
              "      <td>2.0</td>\n",
              "      <td>574.0</td>\n",
              "      <td>558.0</td>\n",
              "    </tr>\n",
              "    <tr>\n",
              "      <td>3</td>\n",
              "      <td>0</td>\n",
              "      <td>64900000.0</td>\n",
              "      <td>159.0</td>\n",
              "      <td>2015-07-24T00:00:00</td>\n",
              "      <td>3</td>\n",
              "      <td>NaN</td>\n",
              "      <td>14.0</td>\n",
              "      <td>NaN</td>\n",
              "      <td>9</td>\n",
              "      <td>NaN</td>\n",
              "      <td>...</td>\n",
              "      <td>NaN</td>\n",
              "      <td>0.0</td>\n",
              "      <td>Санкт-Петербург</td>\n",
              "      <td>28098.0</td>\n",
              "      <td>6800.0</td>\n",
              "      <td>2.0</td>\n",
              "      <td>84.0</td>\n",
              "      <td>3.0</td>\n",
              "      <td>234.0</td>\n",
              "      <td>424.0</td>\n",
              "    </tr>\n",
              "    <tr>\n",
              "      <td>4</td>\n",
              "      <td>2</td>\n",
              "      <td>10000000.0</td>\n",
              "      <td>100.0</td>\n",
              "      <td>2018-06-19T00:00:00</td>\n",
              "      <td>2</td>\n",
              "      <td>3.03</td>\n",
              "      <td>14.0</td>\n",
              "      <td>32.0</td>\n",
              "      <td>13</td>\n",
              "      <td>NaN</td>\n",
              "      <td>...</td>\n",
              "      <td>41.0</td>\n",
              "      <td>NaN</td>\n",
              "      <td>Санкт-Петербург</td>\n",
              "      <td>31856.0</td>\n",
              "      <td>8098.0</td>\n",
              "      <td>2.0</td>\n",
              "      <td>112.0</td>\n",
              "      <td>1.0</td>\n",
              "      <td>48.0</td>\n",
              "      <td>121.0</td>\n",
              "    </tr>\n",
              "  </tbody>\n",
              "</table>\n",
              "<p>5 rows × 22 columns</p>\n",
              "</div>"
            ],
            "text/plain": [
              "   total_images  last_price  total_area first_day_exposition  rooms  \\\n",
              "0            20  13000000.0       108.0  2019-03-07T00:00:00      3   \n",
              "1             7   3350000.0        40.4  2018-12-04T00:00:00      1   \n",
              "2            10   5196000.0        56.0  2015-08-20T00:00:00      2   \n",
              "3             0  64900000.0       159.0  2015-07-24T00:00:00      3   \n",
              "4             2  10000000.0       100.0  2018-06-19T00:00:00      2   \n",
              "\n",
              "   ceiling_height  floors_total  living_area  floor is_apartment  ...  \\\n",
              "0            2.70          16.0         51.0      8          NaN  ...   \n",
              "1             NaN          11.0         18.6      1          NaN  ...   \n",
              "2             NaN           5.0         34.3      4          NaN  ...   \n",
              "3             NaN          14.0          NaN      9          NaN  ...   \n",
              "4            3.03          14.0         32.0     13          NaN  ...   \n",
              "\n",
              "   kitchen_area  balcony    locality_name  airports_nearest  \\\n",
              "0          25.0      NaN  Санкт-Петербург           18863.0   \n",
              "1          11.0      2.0   посёлок Шушары           12817.0   \n",
              "2           8.3      0.0  Санкт-Петербург           21741.0   \n",
              "3           NaN      0.0  Санкт-Петербург           28098.0   \n",
              "4          41.0      NaN  Санкт-Петербург           31856.0   \n",
              "\n",
              "  cityCenters_nearest  parks_around3000  parks_nearest  ponds_around3000  \\\n",
              "0             16028.0               1.0          482.0               2.0   \n",
              "1             18603.0               0.0            NaN               0.0   \n",
              "2             13933.0               1.0           90.0               2.0   \n",
              "3              6800.0               2.0           84.0               3.0   \n",
              "4              8098.0               2.0          112.0               1.0   \n",
              "\n",
              "   ponds_nearest  days_exposition  \n",
              "0          755.0              NaN  \n",
              "1            NaN             81.0  \n",
              "2          574.0            558.0  \n",
              "3          234.0            424.0  \n",
              "4           48.0            121.0  \n",
              "\n",
              "[5 rows x 22 columns]"
            ]
          },
          "metadata": {
            "tags": []
          },
          "execution_count": 3
        }
      ]
    },
    {
      "cell_type": "code",
      "metadata": {
        "id": "-_iJN9FXmkiq",
        "colab_type": "code",
        "colab": {},
        "outputId": "d49521fc-90b6-469f-9f15-363d38c164b9"
      },
      "source": [
        "df.info()"
      ],
      "execution_count": 0,
      "outputs": [
        {
          "output_type": "stream",
          "text": [
            "<class 'pandas.core.frame.DataFrame'>\n",
            "RangeIndex: 23699 entries, 0 to 23698\n",
            "Data columns (total 22 columns):\n",
            "total_images            23699 non-null int64\n",
            "last_price              23699 non-null float64\n",
            "total_area              23699 non-null float64\n",
            "first_day_exposition    23699 non-null object\n",
            "rooms                   23699 non-null int64\n",
            "ceiling_height          14504 non-null float64\n",
            "floors_total            23613 non-null float64\n",
            "living_area             21796 non-null float64\n",
            "floor                   23699 non-null int64\n",
            "is_apartment            2775 non-null object\n",
            "studio                  23699 non-null bool\n",
            "open_plan               23699 non-null bool\n",
            "kitchen_area            21421 non-null float64\n",
            "balcony                 12180 non-null float64\n",
            "locality_name           23650 non-null object\n",
            "airports_nearest        18157 non-null float64\n",
            "cityCenters_nearest     18180 non-null float64\n",
            "parks_around3000        18181 non-null float64\n",
            "parks_nearest           8079 non-null float64\n",
            "ponds_around3000        18181 non-null float64\n",
            "ponds_nearest           9110 non-null float64\n",
            "days_exposition         20518 non-null float64\n",
            "dtypes: bool(2), float64(14), int64(3), object(3)\n",
            "memory usage: 3.7+ MB\n"
          ],
          "name": "stdout"
        }
      ]
    },
    {
      "cell_type": "markdown",
      "metadata": {
        "id": "YQkPIruEmki9",
        "colab_type": "text"
      },
      "source": [
        "### Вывод"
      ]
    },
    {
      "cell_type": "markdown",
      "metadata": {
        "id": "iEURq95ymkjE",
        "colab_type": "text"
      },
      "source": [
        "Было обнаружено, что в исходном файле разделитель не запятая, а знак табуляции. Также в 13 колонках есть пропущенные значения, а в колонках *last_price*, *first_day_exposition*, *floors_total*, *balcony*, *parks_around3000*, *ponds_around3000*, *days_exposition* следует изменить тип данных для удобства.\n"
      ]
    },
    {
      "cell_type": "markdown",
      "metadata": {
        "id": "0sx4s04PmkjM",
        "colab_type": "text"
      },
      "source": [
        "### Шаг 2. Предобработка данных"
      ]
    },
    {
      "cell_type": "code",
      "metadata": {
        "id": "9sLzE2CemkjQ",
        "colab_type": "code",
        "colab": {},
        "outputId": "12313e4b-1719-4e15-8e4d-46afe859016f"
      },
      "source": [
        "df['balcony'].isna().sum()"
      ],
      "execution_count": 0,
      "outputs": [
        {
          "output_type": "execute_result",
          "data": {
            "text/plain": [
              "11519"
            ]
          },
          "metadata": {
            "tags": []
          },
          "execution_count": 5
        }
      ]
    },
    {
      "cell_type": "markdown",
      "metadata": {
        "id": "D8qEA2yZmkjf",
        "colab_type": "text"
      },
      "source": [
        "Логично, предположить, что т.к. число балконов - это данные вводимые пользователем, то пропущенное значение говорит о том, что балкона в квартире нет. Можно заменить нулями."
      ]
    },
    {
      "cell_type": "code",
      "metadata": {
        "id": "aDp-46oHmkjj",
        "colab_type": "code",
        "colab": {}
      },
      "source": [
        "df['balcony'] = df['balcony'].fillna(0)"
      ],
      "execution_count": 0,
      "outputs": []
    },
    {
      "cell_type": "code",
      "metadata": {
        "id": "QhnsubWhmkjw",
        "colab_type": "code",
        "colab": {},
        "outputId": "02b3c07f-0ad1-4364-a308-5ae7d8a2ed11"
      },
      "source": [
        "df['is_apartment'].value_counts()"
      ],
      "execution_count": 0,
      "outputs": [
        {
          "output_type": "execute_result",
          "data": {
            "text/plain": [
              "False    2725\n",
              "True       50\n",
              "Name: is_apartment, dtype: int64"
            ]
          },
          "metadata": {
            "tags": []
          },
          "execution_count": 7
        }
      ]
    },
    {
      "cell_type": "markdown",
      "metadata": {
        "id": "vmquxwTOmkj9",
        "colab_type": "text"
      },
      "source": [
        "Оказывается, есть приличная доля квартир, которые не относятся ни к одному из трех указанных типов:"
      ]
    },
    {
      "cell_type": "code",
      "metadata": {
        "id": "bVWk4B93mkkA",
        "colab_type": "code",
        "colab": {},
        "outputId": "6d811e39-cca6-4104-b3c5-acb01a9b1576"
      },
      "source": [
        "df.query('studio==False and open_plan==False and is_apartment==False')['total_images'].count()"
      ],
      "execution_count": 0,
      "outputs": [
        {
          "output_type": "execute_result",
          "data": {
            "text/plain": [
              "2703"
            ]
          },
          "metadata": {
            "tags": []
          },
          "execution_count": 8
        }
      ]
    },
    {
      "cell_type": "code",
      "metadata": {
        "id": "WCo8iutgmkkP",
        "colab_type": "code",
        "colab": {},
        "outputId": "b588853a-e16f-4e72-8660-c70b73575cfa"
      },
      "source": [
        "df.query('studio==False and open_plan==False and is_apartment.isna()')['total_images'].count() #число не студий и не open plan"
      ],
      "execution_count": 0,
      "outputs": [
        {
          "output_type": "execute_result",
          "data": {
            "text/plain": [
              "20730"
            ]
          },
          "metadata": {
            "tags": []
          },
          "execution_count": 9
        }
      ]
    },
    {
      "cell_type": "markdown",
      "metadata": {
        "id": "lixvVp10mkkb",
        "colab_type": "text"
      },
      "source": [
        "Раз пользователь не указал, что его квартира является апартаментами, логично предположить, что не является, т.к. в столбцах *studio* и *open_plan* пропусков нет. Заменим пропуски на False."
      ]
    },
    {
      "cell_type": "code",
      "metadata": {
        "id": "nbiwiNdjmkkf",
        "colab_type": "code",
        "colab": {},
        "outputId": "901d9521-fd13-40d7-ec53-8d3eb8d60162"
      },
      "source": [
        "df['is_apartment'] = df['is_apartment'].fillna(False)\n",
        "df['is_apartment'].value_counts()"
      ],
      "execution_count": 0,
      "outputs": [
        {
          "output_type": "execute_result",
          "data": {
            "text/plain": [
              "False    23649\n",
              "True        50\n",
              "Name: is_apartment, dtype: int64"
            ]
          },
          "metadata": {
            "tags": []
          },
          "execution_count": 10
        }
      ]
    },
    {
      "cell_type": "markdown",
      "metadata": {
        "id": "5T6VRgkzmkkr",
        "colab_type": "text"
      },
      "source": [
        "Поищем дубликаты:"
      ]
    },
    {
      "cell_type": "code",
      "metadata": {
        "id": "09dy_9c9mkkv",
        "colab_type": "code",
        "colab": {},
        "outputId": "4c29b306-1d64-465e-f49b-3b5e0e49b789"
      },
      "source": [
        "df.duplicated().sum()"
      ],
      "execution_count": 0,
      "outputs": [
        {
          "output_type": "execute_result",
          "data": {
            "text/plain": [
              "0"
            ]
          },
          "metadata": {
            "tags": []
          },
          "execution_count": 11
        }
      ]
    },
    {
      "cell_type": "markdown",
      "metadata": {
        "id": "321mCbQymkk_",
        "colab_type": "text"
      },
      "source": [
        "Приведем *first_day_exposition* к типу данным datetime в формате \"год-месяц-день\", чтобы в дальнейшем было удобнее извлекать отдельные значения (месяц, год и т.п.). Отсечём время даты публикации, т.к. эти излишние подробности для нас нерелевантны."
      ]
    },
    {
      "cell_type": "code",
      "metadata": {
        "id": "GAMgmf4fmklD",
        "colab_type": "code",
        "colab": {},
        "outputId": "c810d6fb-612e-4659-c7cd-4aafe51ac8b1"
      },
      "source": [
        "df['first_day_exposition'] = pd.to_datetime(df['first_day_exposition'], format='%Y-%m-%d')\n",
        "df['first_day_exposition'].head() #проверка"
      ],
      "execution_count": 0,
      "outputs": [
        {
          "output_type": "execute_result",
          "data": {
            "text/plain": [
              "0   2019-03-07\n",
              "1   2018-12-04\n",
              "2   2015-08-20\n",
              "3   2015-07-24\n",
              "4   2018-06-19\n",
              "Name: first_day_exposition, dtype: datetime64[ns]"
            ]
          },
          "metadata": {
            "tags": []
          },
          "execution_count": 12
        }
      ]
    },
    {
      "cell_type": "markdown",
      "metadata": {
        "id": "YAHw8oWcmklT",
        "colab_type": "text"
      },
      "source": [
        "Колонку *balcony* приведем к целочисленному типу, т.к. эти значения дробными не могут быть. В других колонках не будем менять тип float на int, где это целесообразно, так как мы все равно будем часто обращаться к средним значениям этих величин, а они в любом случае будут дробными."
      ]
    },
    {
      "cell_type": "code",
      "metadata": {
        "id": "k-yr5uojmklX",
        "colab_type": "code",
        "colab": {},
        "outputId": "8a376e7b-4d5d-4a42-b7d0-fe7627e1bb8a"
      },
      "source": [
        "df['balcony'] = df['balcony'].astype('int')\n",
        "print(df.query('is_apartment == True and studio==True'))\n",
        "print(df.query('is_apartment == True and open_plan==True'))\n",
        "print(df.query('studio == True and open_plan==True'))"
      ],
      "execution_count": 0,
      "outputs": [
        {
          "output_type": "stream",
          "text": [
            "Empty DataFrame\n",
            "Columns: [total_images, last_price, total_area, first_day_exposition, rooms, ceiling_height, floors_total, living_area, floor, is_apartment, studio, open_plan, kitchen_area, balcony, locality_name, airports_nearest, cityCenters_nearest, parks_around3000, parks_nearest, ponds_around3000, ponds_nearest, days_exposition]\n",
            "Index: []\n",
            "\n",
            "[0 rows x 22 columns]\n",
            "Empty DataFrame\n",
            "Columns: [total_images, last_price, total_area, first_day_exposition, rooms, ceiling_height, floors_total, living_area, floor, is_apartment, studio, open_plan, kitchen_area, balcony, locality_name, airports_nearest, cityCenters_nearest, parks_around3000, parks_nearest, ponds_around3000, ponds_nearest, days_exposition]\n",
            "Index: []\n",
            "\n",
            "[0 rows x 22 columns]\n",
            "Empty DataFrame\n",
            "Columns: [total_images, last_price, total_area, first_day_exposition, rooms, ceiling_height, floors_total, living_area, floor, is_apartment, studio, open_plan, kitchen_area, balcony, locality_name, airports_nearest, cityCenters_nearest, parks_around3000, parks_nearest, ponds_around3000, ponds_nearest, days_exposition]\n",
            "Index: []\n",
            "\n",
            "[0 rows x 22 columns]\n"
          ],
          "name": "stdout"
        }
      ]
    },
    {
      "cell_type": "markdown",
      "metadata": {
        "id": "rQAQs3k1mklj",
        "colab_type": "text"
      },
      "source": [
        "Видим, что квартира может принадлежать только какому-то одному типу: студия, апартаменты, свободная планировка и другое (то, что не входит ни в одну из этих трех категорий)."
      ]
    },
    {
      "cell_type": "code",
      "metadata": {
        "id": "wUzEG-zVmkln",
        "colab_type": "code",
        "colab": {},
        "outputId": "1af2bd56-5f05-4e11-e385-a9f56a44603d"
      },
      "source": [
        "df.query('studio==True')"
      ],
      "execution_count": 0,
      "outputs": [
        {
          "output_type": "execute_result",
          "data": {
            "text/html": [
              "<div>\n",
              "<style scoped>\n",
              "    .dataframe tbody tr th:only-of-type {\n",
              "        vertical-align: middle;\n",
              "    }\n",
              "\n",
              "    .dataframe tbody tr th {\n",
              "        vertical-align: top;\n",
              "    }\n",
              "\n",
              "    .dataframe thead th {\n",
              "        text-align: right;\n",
              "    }\n",
              "</style>\n",
              "<table border=\"1\" class=\"dataframe\">\n",
              "  <thead>\n",
              "    <tr style=\"text-align: right;\">\n",
              "      <th></th>\n",
              "      <th>total_images</th>\n",
              "      <th>last_price</th>\n",
              "      <th>total_area</th>\n",
              "      <th>first_day_exposition</th>\n",
              "      <th>rooms</th>\n",
              "      <th>ceiling_height</th>\n",
              "      <th>floors_total</th>\n",
              "      <th>living_area</th>\n",
              "      <th>floor</th>\n",
              "      <th>is_apartment</th>\n",
              "      <th>...</th>\n",
              "      <th>kitchen_area</th>\n",
              "      <th>balcony</th>\n",
              "      <th>locality_name</th>\n",
              "      <th>airports_nearest</th>\n",
              "      <th>cityCenters_nearest</th>\n",
              "      <th>parks_around3000</th>\n",
              "      <th>parks_nearest</th>\n",
              "      <th>ponds_around3000</th>\n",
              "      <th>ponds_nearest</th>\n",
              "      <th>days_exposition</th>\n",
              "    </tr>\n",
              "  </thead>\n",
              "  <tbody>\n",
              "    <tr>\n",
              "      <td>144</td>\n",
              "      <td>1</td>\n",
              "      <td>2450000.0</td>\n",
              "      <td>27.00</td>\n",
              "      <td>2017-03-30</td>\n",
              "      <td>0</td>\n",
              "      <td>NaN</td>\n",
              "      <td>24.0</td>\n",
              "      <td>15.50</td>\n",
              "      <td>2</td>\n",
              "      <td>False</td>\n",
              "      <td>...</td>\n",
              "      <td>NaN</td>\n",
              "      <td>2</td>\n",
              "      <td>посёлок Мурино</td>\n",
              "      <td>NaN</td>\n",
              "      <td>NaN</td>\n",
              "      <td>NaN</td>\n",
              "      <td>NaN</td>\n",
              "      <td>NaN</td>\n",
              "      <td>NaN</td>\n",
              "      <td>181.0</td>\n",
              "    </tr>\n",
              "    <tr>\n",
              "      <td>440</td>\n",
              "      <td>8</td>\n",
              "      <td>2480000.0</td>\n",
              "      <td>27.11</td>\n",
              "      <td>2018-03-12</td>\n",
              "      <td>0</td>\n",
              "      <td>NaN</td>\n",
              "      <td>17.0</td>\n",
              "      <td>24.75</td>\n",
              "      <td>4</td>\n",
              "      <td>False</td>\n",
              "      <td>...</td>\n",
              "      <td>NaN</td>\n",
              "      <td>2</td>\n",
              "      <td>Санкт-Петербург</td>\n",
              "      <td>38171.0</td>\n",
              "      <td>15015.0</td>\n",
              "      <td>0.0</td>\n",
              "      <td>NaN</td>\n",
              "      <td>2.0</td>\n",
              "      <td>982.0</td>\n",
              "      <td>64.0</td>\n",
              "    </tr>\n",
              "    <tr>\n",
              "      <td>608</td>\n",
              "      <td>2</td>\n",
              "      <td>1850000.0</td>\n",
              "      <td>25.00</td>\n",
              "      <td>2019-02-20</td>\n",
              "      <td>0</td>\n",
              "      <td>NaN</td>\n",
              "      <td>10.0</td>\n",
              "      <td>NaN</td>\n",
              "      <td>7</td>\n",
              "      <td>False</td>\n",
              "      <td>...</td>\n",
              "      <td>NaN</td>\n",
              "      <td>0</td>\n",
              "      <td>посёлок Шушары</td>\n",
              "      <td>NaN</td>\n",
              "      <td>NaN</td>\n",
              "      <td>NaN</td>\n",
              "      <td>NaN</td>\n",
              "      <td>NaN</td>\n",
              "      <td>NaN</td>\n",
              "      <td>29.0</td>\n",
              "    </tr>\n",
              "    <tr>\n",
              "      <td>697</td>\n",
              "      <td>12</td>\n",
              "      <td>2500000.0</td>\n",
              "      <td>24.10</td>\n",
              "      <td>2017-12-01</td>\n",
              "      <td>0</td>\n",
              "      <td>2.75</td>\n",
              "      <td>25.0</td>\n",
              "      <td>17.50</td>\n",
              "      <td>21</td>\n",
              "      <td>False</td>\n",
              "      <td>...</td>\n",
              "      <td>NaN</td>\n",
              "      <td>0</td>\n",
              "      <td>деревня Кудрово</td>\n",
              "      <td>NaN</td>\n",
              "      <td>NaN</td>\n",
              "      <td>NaN</td>\n",
              "      <td>NaN</td>\n",
              "      <td>NaN</td>\n",
              "      <td>NaN</td>\n",
              "      <td>201.0</td>\n",
              "    </tr>\n",
              "    <tr>\n",
              "      <td>716</td>\n",
              "      <td>5</td>\n",
              "      <td>1500000.0</td>\n",
              "      <td>17.00</td>\n",
              "      <td>2017-06-07</td>\n",
              "      <td>0</td>\n",
              "      <td>2.70</td>\n",
              "      <td>9.0</td>\n",
              "      <td>12.00</td>\n",
              "      <td>1</td>\n",
              "      <td>False</td>\n",
              "      <td>...</td>\n",
              "      <td>NaN</td>\n",
              "      <td>0</td>\n",
              "      <td>посёлок Шушары</td>\n",
              "      <td>18654.0</td>\n",
              "      <td>29846.0</td>\n",
              "      <td>0.0</td>\n",
              "      <td>NaN</td>\n",
              "      <td>0.0</td>\n",
              "      <td>NaN</td>\n",
              "      <td>40.0</td>\n",
              "    </tr>\n",
              "    <tr>\n",
              "      <td>...</td>\n",
              "      <td>...</td>\n",
              "      <td>...</td>\n",
              "      <td>...</td>\n",
              "      <td>...</td>\n",
              "      <td>...</td>\n",
              "      <td>...</td>\n",
              "      <td>...</td>\n",
              "      <td>...</td>\n",
              "      <td>...</td>\n",
              "      <td>...</td>\n",
              "      <td>...</td>\n",
              "      <td>...</td>\n",
              "      <td>...</td>\n",
              "      <td>...</td>\n",
              "      <td>...</td>\n",
              "      <td>...</td>\n",
              "      <td>...</td>\n",
              "      <td>...</td>\n",
              "      <td>...</td>\n",
              "      <td>...</td>\n",
              "      <td>...</td>\n",
              "    </tr>\n",
              "    <tr>\n",
              "      <td>22867</td>\n",
              "      <td>8</td>\n",
              "      <td>3090000.0</td>\n",
              "      <td>30.00</td>\n",
              "      <td>2017-12-17</td>\n",
              "      <td>0</td>\n",
              "      <td>NaN</td>\n",
              "      <td>25.0</td>\n",
              "      <td>18.20</td>\n",
              "      <td>5</td>\n",
              "      <td>False</td>\n",
              "      <td>...</td>\n",
              "      <td>NaN</td>\n",
              "      <td>0</td>\n",
              "      <td>Санкт-Петербург</td>\n",
              "      <td>35250.0</td>\n",
              "      <td>16414.0</td>\n",
              "      <td>0.0</td>\n",
              "      <td>NaN</td>\n",
              "      <td>1.0</td>\n",
              "      <td>400.0</td>\n",
              "      <td>211.0</td>\n",
              "    </tr>\n",
              "    <tr>\n",
              "      <td>22877</td>\n",
              "      <td>2</td>\n",
              "      <td>4280000.0</td>\n",
              "      <td>28.00</td>\n",
              "      <td>2017-10-26</td>\n",
              "      <td>0</td>\n",
              "      <td>2.70</td>\n",
              "      <td>19.0</td>\n",
              "      <td>18.00</td>\n",
              "      <td>10</td>\n",
              "      <td>False</td>\n",
              "      <td>...</td>\n",
              "      <td>NaN</td>\n",
              "      <td>0</td>\n",
              "      <td>Санкт-Петербург</td>\n",
              "      <td>18982.0</td>\n",
              "      <td>7206.0</td>\n",
              "      <td>0.0</td>\n",
              "      <td>NaN</td>\n",
              "      <td>1.0</td>\n",
              "      <td>415.0</td>\n",
              "      <td>151.0</td>\n",
              "    </tr>\n",
              "    <tr>\n",
              "      <td>23210</td>\n",
              "      <td>7</td>\n",
              "      <td>3200000.0</td>\n",
              "      <td>26.00</td>\n",
              "      <td>2017-09-01</td>\n",
              "      <td>0</td>\n",
              "      <td>NaN</td>\n",
              "      <td>25.0</td>\n",
              "      <td>18.00</td>\n",
              "      <td>16</td>\n",
              "      <td>False</td>\n",
              "      <td>...</td>\n",
              "      <td>NaN</td>\n",
              "      <td>0</td>\n",
              "      <td>Санкт-Петербург</td>\n",
              "      <td>11405.0</td>\n",
              "      <td>13222.0</td>\n",
              "      <td>0.0</td>\n",
              "      <td>NaN</td>\n",
              "      <td>1.0</td>\n",
              "      <td>623.0</td>\n",
              "      <td>14.0</td>\n",
              "    </tr>\n",
              "    <tr>\n",
              "      <td>23554</td>\n",
              "      <td>15</td>\n",
              "      <td>3350000.0</td>\n",
              "      <td>26.00</td>\n",
              "      <td>2018-09-07</td>\n",
              "      <td>0</td>\n",
              "      <td>NaN</td>\n",
              "      <td>19.0</td>\n",
              "      <td>NaN</td>\n",
              "      <td>8</td>\n",
              "      <td>False</td>\n",
              "      <td>...</td>\n",
              "      <td>NaN</td>\n",
              "      <td>0</td>\n",
              "      <td>Санкт-Петербург</td>\n",
              "      <td>18090.0</td>\n",
              "      <td>17092.0</td>\n",
              "      <td>0.0</td>\n",
              "      <td>NaN</td>\n",
              "      <td>2.0</td>\n",
              "      <td>112.0</td>\n",
              "      <td>31.0</td>\n",
              "    </tr>\n",
              "    <tr>\n",
              "      <td>23637</td>\n",
              "      <td>8</td>\n",
              "      <td>2350000.0</td>\n",
              "      <td>26.00</td>\n",
              "      <td>2018-06-26</td>\n",
              "      <td>0</td>\n",
              "      <td>NaN</td>\n",
              "      <td>25.0</td>\n",
              "      <td>17.00</td>\n",
              "      <td>4</td>\n",
              "      <td>False</td>\n",
              "      <td>...</td>\n",
              "      <td>NaN</td>\n",
              "      <td>2</td>\n",
              "      <td>посёлок Бугры</td>\n",
              "      <td>NaN</td>\n",
              "      <td>NaN</td>\n",
              "      <td>NaN</td>\n",
              "      <td>NaN</td>\n",
              "      <td>NaN</td>\n",
              "      <td>NaN</td>\n",
              "      <td>207.0</td>\n",
              "    </tr>\n",
              "  </tbody>\n",
              "</table>\n",
              "<p>149 rows × 22 columns</p>\n",
              "</div>"
            ],
            "text/plain": [
              "       total_images  last_price  total_area first_day_exposition  rooms  \\\n",
              "144               1   2450000.0       27.00           2017-03-30      0   \n",
              "440               8   2480000.0       27.11           2018-03-12      0   \n",
              "608               2   1850000.0       25.00           2019-02-20      0   \n",
              "697              12   2500000.0       24.10           2017-12-01      0   \n",
              "716               5   1500000.0       17.00           2017-06-07      0   \n",
              "...             ...         ...         ...                  ...    ...   \n",
              "22867             8   3090000.0       30.00           2017-12-17      0   \n",
              "22877             2   4280000.0       28.00           2017-10-26      0   \n",
              "23210             7   3200000.0       26.00           2017-09-01      0   \n",
              "23554            15   3350000.0       26.00           2018-09-07      0   \n",
              "23637             8   2350000.0       26.00           2018-06-26      0   \n",
              "\n",
              "       ceiling_height  floors_total  living_area  floor  is_apartment  ...  \\\n",
              "144               NaN          24.0        15.50      2         False  ...   \n",
              "440               NaN          17.0        24.75      4         False  ...   \n",
              "608               NaN          10.0          NaN      7         False  ...   \n",
              "697              2.75          25.0        17.50     21         False  ...   \n",
              "716              2.70           9.0        12.00      1         False  ...   \n",
              "...               ...           ...          ...    ...           ...  ...   \n",
              "22867             NaN          25.0        18.20      5         False  ...   \n",
              "22877            2.70          19.0        18.00     10         False  ...   \n",
              "23210             NaN          25.0        18.00     16         False  ...   \n",
              "23554             NaN          19.0          NaN      8         False  ...   \n",
              "23637             NaN          25.0        17.00      4         False  ...   \n",
              "\n",
              "       kitchen_area  balcony    locality_name  airports_nearest  \\\n",
              "144             NaN        2   посёлок Мурино               NaN   \n",
              "440             NaN        2  Санкт-Петербург           38171.0   \n",
              "608             NaN        0   посёлок Шушары               NaN   \n",
              "697             NaN        0  деревня Кудрово               NaN   \n",
              "716             NaN        0   посёлок Шушары           18654.0   \n",
              "...             ...      ...              ...               ...   \n",
              "22867           NaN        0  Санкт-Петербург           35250.0   \n",
              "22877           NaN        0  Санкт-Петербург           18982.0   \n",
              "23210           NaN        0  Санкт-Петербург           11405.0   \n",
              "23554           NaN        0  Санкт-Петербург           18090.0   \n",
              "23637           NaN        2    посёлок Бугры               NaN   \n",
              "\n",
              "      cityCenters_nearest  parks_around3000  parks_nearest  ponds_around3000  \\\n",
              "144                   NaN               NaN            NaN               NaN   \n",
              "440               15015.0               0.0            NaN               2.0   \n",
              "608                   NaN               NaN            NaN               NaN   \n",
              "697                   NaN               NaN            NaN               NaN   \n",
              "716               29846.0               0.0            NaN               0.0   \n",
              "...                   ...               ...            ...               ...   \n",
              "22867             16414.0               0.0            NaN               1.0   \n",
              "22877              7206.0               0.0            NaN               1.0   \n",
              "23210             13222.0               0.0            NaN               1.0   \n",
              "23554             17092.0               0.0            NaN               2.0   \n",
              "23637                 NaN               NaN            NaN               NaN   \n",
              "\n",
              "       ponds_nearest  days_exposition  \n",
              "144              NaN            181.0  \n",
              "440            982.0             64.0  \n",
              "608              NaN             29.0  \n",
              "697              NaN            201.0  \n",
              "716              NaN             40.0  \n",
              "...              ...              ...  \n",
              "22867          400.0            211.0  \n",
              "22877          415.0            151.0  \n",
              "23210          623.0             14.0  \n",
              "23554          112.0             31.0  \n",
              "23637            NaN            207.0  \n",
              "\n",
              "[149 rows x 22 columns]"
            ]
          },
          "metadata": {
            "tags": []
          },
          "execution_count": 14
        }
      ]
    },
    {
      "cell_type": "markdown",
      "metadata": {
        "id": "QirM5Bi5mkly",
        "colab_type": "text"
      },
      "source": [
        "Так как в студиях нет разделений на комнаты, то во всех строках со студиями в колонках с площадью кухни стоят пропуски. Площадь студии можно представить как сумму жилой площади, площади балконов (если они есть) и площади ванной комнаты. Поэтому пропуски в кухнях для студий можно заменить нулями."
      ]
    },
    {
      "cell_type": "code",
      "metadata": {
        "id": "aMiVcO5Jmkl2",
        "colab_type": "code",
        "colab": {}
      },
      "source": [
        "df.loc[df['studio']==True, 'kitchen_area'] = 0"
      ],
      "execution_count": 0,
      "outputs": []
    },
    {
      "cell_type": "markdown",
      "metadata": {
        "id": "KE-n8JGymkmD",
        "colab_type": "text"
      },
      "source": [
        "Посмотрим информацию о высоте потолков:"
      ]
    },
    {
      "cell_type": "code",
      "metadata": {
        "id": "1d6pyRoomkmH",
        "colab_type": "code",
        "colab": {},
        "outputId": "a6cf959c-8725-4b0c-dfd0-1a00394f76ef"
      },
      "source": [
        "df['ceiling_height'].describe()"
      ],
      "execution_count": 0,
      "outputs": [
        {
          "output_type": "execute_result",
          "data": {
            "text/plain": [
              "count    14504.000000\n",
              "mean         2.771499\n",
              "std          1.261056\n",
              "min          1.000000\n",
              "25%          2.520000\n",
              "50%          2.650000\n",
              "75%          2.800000\n",
              "max        100.000000\n",
              "Name: ceiling_height, dtype: float64"
            ]
          },
          "metadata": {
            "tags": []
          },
          "execution_count": 16
        }
      ]
    },
    {
      "cell_type": "code",
      "metadata": {
        "id": "CctAWQISmkmT",
        "colab_type": "code",
        "colab": {},
        "outputId": "fa2bc653-231b-4197-ca30-82e7469bade2"
      },
      "source": [
        "df['ceiling_height'].plot(kind='hist', bins=50, figsize=(6,6), range=(2,3))\n",
        "plt.show()"
      ],
      "execution_count": 0,
      "outputs": [
        {
          "output_type": "display_data",
          "data": {
            "image/png": "[encoded data removed]",
            "text/plain": [
              "<Figure size 432x432 with 1 Axes>"
            ]
          },
          "metadata": {
            "tags": [],
            "needs_background": "light"
          }
        }
      ]
    },
    {
      "cell_type": "markdown",
      "metadata": {
        "id": "h96zBsYcmkmd",
        "colab_type": "text"
      },
      "source": [
        "Пропуски в колонках с расстояниями до ближайшего аэропорта, расстояниями до центра и высотой потолков заменим медианным значениям для каждого конкретного населенного пункта, а также заменим везде \"поселок\" на \"посёлок\", избежав таким образом неявных дубликатов названий городов."
      ]
    },
    {
      "cell_type": "code",
      "metadata": {
        "id": "AxlQJMB9mkmh",
        "colab_type": "code",
        "colab": {}
      },
      "source": [
        "df['locality_name'] = df['locality_name'].str.replace('поселок', 'посёлок')"
      ],
      "execution_count": 0,
      "outputs": []
    },
    {
      "cell_type": "code",
      "metadata": {
        "id": "IEdwIomlmkmr",
        "colab_type": "code",
        "colab": {},
        "outputId": "298c9cd3-20df-413a-e0cf-3f854877ba82"
      },
      "source": [
        "for item in df.groupby('locality_name'):\n",
        "    city_name = item[0]\n",
        "    median_dist_aero = item[1]['airports_nearest'].median()\n",
        "    median_ceiling_height = item[1]['ceiling_height'].median()\n",
        "    median_dist_center = item[1]['cityCenters_nearest'].median()\n",
        "    df.loc[(df['airports_nearest'].isna()) & (df['locality_name'] == city_name), 'airports_nearest'] = median_dist_aero\n",
        "    df.loc[(df['ceiling_height'].isna()) & (df['locality_name'] == city_name), 'ceiling_height'] = median_ceiling_height\n",
        "    df.loc[(df['cityCenters_nearest'].isna()) & (df['locality_name'] == city_name), 'cityCenters_nearest'] = median_dist_center\n",
        "df.info()"
      ],
      "execution_count": 0,
      "outputs": [
        {
          "output_type": "stream",
          "text": [
            "/opt/conda/lib/python3.7/site-packages/numpy/lib/nanfunctions.py:1113: RuntimeWarning: Mean of empty slice\n",
            "  return np.nanmean(a, axis, out=out, keepdims=keepdims)\n"
          ],
          "name": "stderr"
        },
        {
          "output_type": "stream",
          "text": [
            "<class 'pandas.core.frame.DataFrame'>\n",
            "RangeIndex: 23699 entries, 0 to 23698\n",
            "Data columns (total 22 columns):\n",
            "total_images            23699 non-null int64\n",
            "last_price              23699 non-null float64\n",
            "total_area              23699 non-null float64\n",
            "first_day_exposition    23699 non-null datetime64[ns]\n",
            "rooms                   23699 non-null int64\n",
            "ceiling_height          23558 non-null float64\n",
            "floors_total            23613 non-null float64\n",
            "living_area             21796 non-null float64\n",
            "floor                   23699 non-null int64\n",
            "is_apartment            23699 non-null bool\n",
            "studio                  23699 non-null bool\n",
            "open_plan               23699 non-null bool\n",
            "kitchen_area            21570 non-null float64\n",
            "balcony                 23699 non-null int64\n",
            "locality_name           23650 non-null object\n",
            "airports_nearest        18827 non-null float64\n",
            "cityCenters_nearest     18827 non-null float64\n",
            "parks_around3000        18181 non-null float64\n",
            "parks_nearest           8079 non-null float64\n",
            "ponds_around3000        18181 non-null float64\n",
            "ponds_nearest           9110 non-null float64\n",
            "days_exposition         20518 non-null float64\n",
            "dtypes: bool(3), datetime64[ns](1), float64(13), int64(4), object(1)\n",
            "memory usage: 3.5+ MB\n"
          ],
          "name": "stdout"
        }
      ]
    },
    {
      "cell_type": "markdown",
      "metadata": {
        "id": "Z3HWZZPLmkm4",
        "colab_type": "text"
      },
      "source": [
        "Посмотрим на характеристики столбца с высотой потолков после замены:"
      ]
    },
    {
      "cell_type": "code",
      "metadata": {
        "id": "TqZd07Ejmkm8",
        "colab_type": "code",
        "colab": {},
        "outputId": "ba82246d-91e8-419f-d29b-dd17e2f82c87"
      },
      "source": [
        "df['ceiling_height'].describe()"
      ],
      "execution_count": 0,
      "outputs": [
        {
          "output_type": "execute_result",
          "data": {
            "text/plain": [
              "count    23558.000000\n",
              "mean         2.732502\n",
              "std          1.004616\n",
              "min          1.000000\n",
              "25%          2.550000\n",
              "50%          2.700000\n",
              "75%          2.700000\n",
              "max        100.000000\n",
              "Name: ceiling_height, dtype: float64"
            ]
          },
          "metadata": {
            "tags": []
          },
          "execution_count": 20
        }
      ]
    },
    {
      "cell_type": "code",
      "metadata": {
        "id": "Jwe870-bmknK",
        "colab_type": "code",
        "colab": {},
        "outputId": "afd5b84a-addc-4698-bc23-f0a713caf628"
      },
      "source": [
        "df['ceiling_height'].plot(kind='hist', bins=50, figsize=(6,6), range=(2,3))\n",
        "plt.show()"
      ],
      "execution_count": 0,
      "outputs": [
        {
          "output_type": "display_data",
          "data": {
            "image/png": "[encoded data removed]",
            "text/plain": [
              "<Figure size 432x432 with 1 Axes>"
            ]
          },
          "metadata": {
            "tags": [],
            "needs_background": "light"
          }
        }
      ]
    },
    {
      "cell_type": "markdown",
      "metadata": {
        "id": "y3mvnIiemknW",
        "colab_type": "text"
      },
      "source": [
        "Медианное значение изменилось на 5 см, визуально гистограммы одинаковы: будем считать замену в высоте потолков удачной."
      ]
    },
    {
      "cell_type": "markdown",
      "metadata": {
        "id": "JZFMWDYKmknf",
        "colab_type": "text"
      },
      "source": [
        "### Вывод"
      ]
    },
    {
      "cell_type": "markdown",
      "metadata": {
        "id": "HFOPVfiFmkni",
        "colab_type": "text"
      },
      "source": [
        "В результате предобработки:\n",
        "\n",
        "- были заполнены пропуски в *balcony*, *is_apartment*, *ceiling_height* и частично в *kitchen_area*, *cityCenters_nearest*, *airports_nearest*,\n",
        "- явных дубликатов не обнаружен, обнаружены неявные дубликаты в названиях населённых пунктов и произведена необходимая замена (\"поселок\"-\"посёлок\"),\n",
        "- пропуски в площадях кухни и жилой площади будут заполнены в следующей части работы после того, как будут посчитаны и добавлены в таблицу необходимые коэффициенты,\n",
        "- пропуски в остальных колонках оставлены без измений, так как в этих случаях уже либо нельзя заменить пропуски какими-либо значениями без ущерба для достоверности (к примеру, название населенного пункта), либо эти колонки менее важны, либо вообще не используются для анализа (количество парков и прудов в радиусе 3000м, площадь кухни и т.п.). "
      ]
    },
    {
      "cell_type": "markdown",
      "metadata": {
        "id": "ekSUOzAomkno",
        "colab_type": "text"
      },
      "source": [
        "### Шаг 3. Посчитайте и добавьте в таблицу"
      ]
    },
    {
      "cell_type": "markdown",
      "metadata": {
        "id": "c3_qwe_jmknr",
        "colab_type": "text"
      },
      "source": [
        "Цена квадратного метра:"
      ]
    },
    {
      "cell_type": "code",
      "metadata": {
        "id": "O0e_WWAimknu",
        "colab_type": "code",
        "colab": {},
        "outputId": "eb75ea28-d730-4e4c-bdaf-b577f7a54bc5"
      },
      "source": [
        "df['meter_price'] = round(df['last_price'] / df['total_area'])\n",
        "df"
      ],
      "execution_count": 0,
      "outputs": [
        {
          "output_type": "execute_result",
          "data": {
            "text/html": [
              "<div>\n",
              "<style scoped>\n",
              "    .dataframe tbody tr th:only-of-type {\n",
              "        vertical-align: middle;\n",
              "    }\n",
              "\n",
              "    .dataframe tbody tr th {\n",
              "        vertical-align: top;\n",
              "    }\n",
              "\n",
              "    .dataframe thead th {\n",
              "        text-align: right;\n",
              "    }\n",
              "</style>\n",
              "<table border=\"1\" class=\"dataframe\">\n",
              "  <thead>\n",
              "    <tr style=\"text-align: right;\">\n",
              "      <th></th>\n",
              "      <th>total_images</th>\n",
              "      <th>last_price</th>\n",
              "      <th>total_area</th>\n",
              "      <th>first_day_exposition</th>\n",
              "      <th>rooms</th>\n",
              "      <th>ceiling_height</th>\n",
              "      <th>floors_total</th>\n",
              "      <th>living_area</th>\n",
              "      <th>floor</th>\n",
              "      <th>is_apartment</th>\n",
              "      <th>...</th>\n",
              "      <th>balcony</th>\n",
              "      <th>locality_name</th>\n",
              "      <th>airports_nearest</th>\n",
              "      <th>cityCenters_nearest</th>\n",
              "      <th>parks_around3000</th>\n",
              "      <th>parks_nearest</th>\n",
              "      <th>ponds_around3000</th>\n",
              "      <th>ponds_nearest</th>\n",
              "      <th>days_exposition</th>\n",
              "      <th>meter_price</th>\n",
              "    </tr>\n",
              "  </thead>\n",
              "  <tbody>\n",
              "    <tr>\n",
              "      <td>0</td>\n",
              "      <td>20</td>\n",
              "      <td>13000000.0</td>\n",
              "      <td>108.00</td>\n",
              "      <td>2019-03-07</td>\n",
              "      <td>3</td>\n",
              "      <td>2.70</td>\n",
              "      <td>16.0</td>\n",
              "      <td>51.0</td>\n",
              "      <td>8</td>\n",
              "      <td>False</td>\n",
              "      <td>...</td>\n",
              "      <td>0</td>\n",
              "      <td>Санкт-Петербург</td>\n",
              "      <td>18863.0</td>\n",
              "      <td>16028.0</td>\n",
              "      <td>1.0</td>\n",
              "      <td>482.0</td>\n",
              "      <td>2.0</td>\n",
              "      <td>755.0</td>\n",
              "      <td>NaN</td>\n",
              "      <td>120370.0</td>\n",
              "    </tr>\n",
              "    <tr>\n",
              "      <td>1</td>\n",
              "      <td>7</td>\n",
              "      <td>3350000.0</td>\n",
              "      <td>40.40</td>\n",
              "      <td>2018-12-04</td>\n",
              "      <td>1</td>\n",
              "      <td>2.63</td>\n",
              "      <td>11.0</td>\n",
              "      <td>18.6</td>\n",
              "      <td>1</td>\n",
              "      <td>False</td>\n",
              "      <td>...</td>\n",
              "      <td>2</td>\n",
              "      <td>посёлок Шушары</td>\n",
              "      <td>12817.0</td>\n",
              "      <td>18603.0</td>\n",
              "      <td>0.0</td>\n",
              "      <td>NaN</td>\n",
              "      <td>0.0</td>\n",
              "      <td>NaN</td>\n",
              "      <td>81.0</td>\n",
              "      <td>82921.0</td>\n",
              "    </tr>\n",
              "    <tr>\n",
              "      <td>2</td>\n",
              "      <td>10</td>\n",
              "      <td>5196000.0</td>\n",
              "      <td>56.00</td>\n",
              "      <td>2015-08-20</td>\n",
              "      <td>2</td>\n",
              "      <td>2.70</td>\n",
              "      <td>5.0</td>\n",
              "      <td>34.3</td>\n",
              "      <td>4</td>\n",
              "      <td>False</td>\n",
              "      <td>...</td>\n",
              "      <td>0</td>\n",
              "      <td>Санкт-Петербург</td>\n",
              "      <td>21741.0</td>\n",
              "      <td>13933.0</td>\n",
              "      <td>1.0</td>\n",
              "      <td>90.0</td>\n",
              "      <td>2.0</td>\n",
              "      <td>574.0</td>\n",
              "      <td>558.0</td>\n",
              "      <td>92786.0</td>\n",
              "    </tr>\n",
              "    <tr>\n",
              "      <td>3</td>\n",
              "      <td>0</td>\n",
              "      <td>64900000.0</td>\n",
              "      <td>159.00</td>\n",
              "      <td>2015-07-24</td>\n",
              "      <td>3</td>\n",
              "      <td>2.70</td>\n",
              "      <td>14.0</td>\n",
              "      <td>NaN</td>\n",
              "      <td>9</td>\n",
              "      <td>False</td>\n",
              "      <td>...</td>\n",
              "      <td>0</td>\n",
              "      <td>Санкт-Петербург</td>\n",
              "      <td>28098.0</td>\n",
              "      <td>6800.0</td>\n",
              "      <td>2.0</td>\n",
              "      <td>84.0</td>\n",
              "      <td>3.0</td>\n",
              "      <td>234.0</td>\n",
              "      <td>424.0</td>\n",
              "      <td>408176.0</td>\n",
              "    </tr>\n",
              "    <tr>\n",
              "      <td>4</td>\n",
              "      <td>2</td>\n",
              "      <td>10000000.0</td>\n",
              "      <td>100.00</td>\n",
              "      <td>2018-06-19</td>\n",
              "      <td>2</td>\n",
              "      <td>3.03</td>\n",
              "      <td>14.0</td>\n",
              "      <td>32.0</td>\n",
              "      <td>13</td>\n",
              "      <td>False</td>\n",
              "      <td>...</td>\n",
              "      <td>0</td>\n",
              "      <td>Санкт-Петербург</td>\n",
              "      <td>31856.0</td>\n",
              "      <td>8098.0</td>\n",
              "      <td>2.0</td>\n",
              "      <td>112.0</td>\n",
              "      <td>1.0</td>\n",
              "      <td>48.0</td>\n",
              "      <td>121.0</td>\n",
              "      <td>100000.0</td>\n",
              "    </tr>\n",
              "    <tr>\n",
              "      <td>...</td>\n",
              "      <td>...</td>\n",
              "      <td>...</td>\n",
              "      <td>...</td>\n",
              "      <td>...</td>\n",
              "      <td>...</td>\n",
              "      <td>...</td>\n",
              "      <td>...</td>\n",
              "      <td>...</td>\n",
              "      <td>...</td>\n",
              "      <td>...</td>\n",
              "      <td>...</td>\n",
              "      <td>...</td>\n",
              "      <td>...</td>\n",
              "      <td>...</td>\n",
              "      <td>...</td>\n",
              "      <td>...</td>\n",
              "      <td>...</td>\n",
              "      <td>...</td>\n",
              "      <td>...</td>\n",
              "      <td>...</td>\n",
              "      <td>...</td>\n",
              "    </tr>\n",
              "    <tr>\n",
              "      <td>23694</td>\n",
              "      <td>9</td>\n",
              "      <td>9700000.0</td>\n",
              "      <td>133.81</td>\n",
              "      <td>2017-03-21</td>\n",
              "      <td>3</td>\n",
              "      <td>3.70</td>\n",
              "      <td>5.0</td>\n",
              "      <td>73.3</td>\n",
              "      <td>3</td>\n",
              "      <td>False</td>\n",
              "      <td>...</td>\n",
              "      <td>0</td>\n",
              "      <td>Санкт-Петербург</td>\n",
              "      <td>24665.0</td>\n",
              "      <td>4232.0</td>\n",
              "      <td>1.0</td>\n",
              "      <td>796.0</td>\n",
              "      <td>3.0</td>\n",
              "      <td>381.0</td>\n",
              "      <td>NaN</td>\n",
              "      <td>72491.0</td>\n",
              "    </tr>\n",
              "    <tr>\n",
              "      <td>23695</td>\n",
              "      <td>14</td>\n",
              "      <td>3100000.0</td>\n",
              "      <td>59.00</td>\n",
              "      <td>2018-01-15</td>\n",
              "      <td>3</td>\n",
              "      <td>2.50</td>\n",
              "      <td>5.0</td>\n",
              "      <td>38.0</td>\n",
              "      <td>4</td>\n",
              "      <td>False</td>\n",
              "      <td>...</td>\n",
              "      <td>0</td>\n",
              "      <td>Тосно</td>\n",
              "      <td>NaN</td>\n",
              "      <td>NaN</td>\n",
              "      <td>NaN</td>\n",
              "      <td>NaN</td>\n",
              "      <td>NaN</td>\n",
              "      <td>NaN</td>\n",
              "      <td>45.0</td>\n",
              "      <td>52542.0</td>\n",
              "    </tr>\n",
              "    <tr>\n",
              "      <td>23696</td>\n",
              "      <td>18</td>\n",
              "      <td>2500000.0</td>\n",
              "      <td>56.70</td>\n",
              "      <td>2018-02-11</td>\n",
              "      <td>2</td>\n",
              "      <td>NaN</td>\n",
              "      <td>3.0</td>\n",
              "      <td>29.7</td>\n",
              "      <td>1</td>\n",
              "      <td>False</td>\n",
              "      <td>...</td>\n",
              "      <td>0</td>\n",
              "      <td>село Рождествено</td>\n",
              "      <td>NaN</td>\n",
              "      <td>NaN</td>\n",
              "      <td>NaN</td>\n",
              "      <td>NaN</td>\n",
              "      <td>NaN</td>\n",
              "      <td>NaN</td>\n",
              "      <td>NaN</td>\n",
              "      <td>44092.0</td>\n",
              "    </tr>\n",
              "    <tr>\n",
              "      <td>23697</td>\n",
              "      <td>13</td>\n",
              "      <td>11475000.0</td>\n",
              "      <td>76.75</td>\n",
              "      <td>2017-03-28</td>\n",
              "      <td>2</td>\n",
              "      <td>3.00</td>\n",
              "      <td>17.0</td>\n",
              "      <td>NaN</td>\n",
              "      <td>12</td>\n",
              "      <td>False</td>\n",
              "      <td>...</td>\n",
              "      <td>2</td>\n",
              "      <td>Санкт-Петербург</td>\n",
              "      <td>39140.0</td>\n",
              "      <td>10364.0</td>\n",
              "      <td>2.0</td>\n",
              "      <td>173.0</td>\n",
              "      <td>3.0</td>\n",
              "      <td>196.0</td>\n",
              "      <td>602.0</td>\n",
              "      <td>149511.0</td>\n",
              "    </tr>\n",
              "    <tr>\n",
              "      <td>23698</td>\n",
              "      <td>4</td>\n",
              "      <td>1350000.0</td>\n",
              "      <td>32.30</td>\n",
              "      <td>2017-07-21</td>\n",
              "      <td>1</td>\n",
              "      <td>2.50</td>\n",
              "      <td>5.0</td>\n",
              "      <td>12.3</td>\n",
              "      <td>1</td>\n",
              "      <td>False</td>\n",
              "      <td>...</td>\n",
              "      <td>0</td>\n",
              "      <td>посёлок Новый Учхоз</td>\n",
              "      <td>NaN</td>\n",
              "      <td>NaN</td>\n",
              "      <td>NaN</td>\n",
              "      <td>NaN</td>\n",
              "      <td>NaN</td>\n",
              "      <td>NaN</td>\n",
              "      <td>NaN</td>\n",
              "      <td>41796.0</td>\n",
              "    </tr>\n",
              "  </tbody>\n",
              "</table>\n",
              "<p>23699 rows × 23 columns</p>\n",
              "</div>"
            ],
            "text/plain": [
              "       total_images  last_price  total_area first_day_exposition  rooms  \\\n",
              "0                20  13000000.0      108.00           2019-03-07      3   \n",
              "1                 7   3350000.0       40.40           2018-12-04      1   \n",
              "2                10   5196000.0       56.00           2015-08-20      2   \n",
              "3                 0  64900000.0      159.00           2015-07-24      3   \n",
              "4                 2  10000000.0      100.00           2018-06-19      2   \n",
              "...             ...         ...         ...                  ...    ...   \n",
              "23694             9   9700000.0      133.81           2017-03-21      3   \n",
              "23695            14   3100000.0       59.00           2018-01-15      3   \n",
              "23696            18   2500000.0       56.70           2018-02-11      2   \n",
              "23697            13  11475000.0       76.75           2017-03-28      2   \n",
              "23698             4   1350000.0       32.30           2017-07-21      1   \n",
              "\n",
              "       ceiling_height  floors_total  living_area  floor  is_apartment  ...  \\\n",
              "0                2.70          16.0         51.0      8         False  ...   \n",
              "1                2.63          11.0         18.6      1         False  ...   \n",
              "2                2.70           5.0         34.3      4         False  ...   \n",
              "3                2.70          14.0          NaN      9         False  ...   \n",
              "4                3.03          14.0         32.0     13         False  ...   \n",
              "...               ...           ...          ...    ...           ...  ...   \n",
              "23694            3.70           5.0         73.3      3         False  ...   \n",
              "23695            2.50           5.0         38.0      4         False  ...   \n",
              "23696             NaN           3.0         29.7      1         False  ...   \n",
              "23697            3.00          17.0          NaN     12         False  ...   \n",
              "23698            2.50           5.0         12.3      1         False  ...   \n",
              "\n",
              "       balcony        locality_name  airports_nearest  cityCenters_nearest  \\\n",
              "0            0      Санкт-Петербург           18863.0              16028.0   \n",
              "1            2       посёлок Шушары           12817.0              18603.0   \n",
              "2            0      Санкт-Петербург           21741.0              13933.0   \n",
              "3            0      Санкт-Петербург           28098.0               6800.0   \n",
              "4            0      Санкт-Петербург           31856.0               8098.0   \n",
              "...        ...                  ...               ...                  ...   \n",
              "23694        0      Санкт-Петербург           24665.0               4232.0   \n",
              "23695        0                Тосно               NaN                  NaN   \n",
              "23696        0     село Рождествено               NaN                  NaN   \n",
              "23697        2      Санкт-Петербург           39140.0              10364.0   \n",
              "23698        0  посёлок Новый Учхоз               NaN                  NaN   \n",
              "\n",
              "      parks_around3000  parks_nearest  ponds_around3000  ponds_nearest  \\\n",
              "0                  1.0          482.0               2.0          755.0   \n",
              "1                  0.0            NaN               0.0            NaN   \n",
              "2                  1.0           90.0               2.0          574.0   \n",
              "3                  2.0           84.0               3.0          234.0   \n",
              "4                  2.0          112.0               1.0           48.0   \n",
              "...                ...            ...               ...            ...   \n",
              "23694              1.0          796.0               3.0          381.0   \n",
              "23695              NaN            NaN               NaN            NaN   \n",
              "23696              NaN            NaN               NaN            NaN   \n",
              "23697              2.0          173.0               3.0          196.0   \n",
              "23698              NaN            NaN               NaN            NaN   \n",
              "\n",
              "       days_exposition  meter_price  \n",
              "0                  NaN     120370.0  \n",
              "1                 81.0      82921.0  \n",
              "2                558.0      92786.0  \n",
              "3                424.0     408176.0  \n",
              "4                121.0     100000.0  \n",
              "...                ...          ...  \n",
              "23694              NaN      72491.0  \n",
              "23695             45.0      52542.0  \n",
              "23696              NaN      44092.0  \n",
              "23697            602.0     149511.0  \n",
              "23698              NaN      41796.0  \n",
              "\n",
              "[23699 rows x 23 columns]"
            ]
          },
          "metadata": {
            "tags": []
          },
          "execution_count": 22
        }
      ]
    },
    {
      "cell_type": "markdown",
      "metadata": {
        "id": "8XgHF08Smkn5",
        "colab_type": "text"
      },
      "source": [
        "День недели, месяц, год"
      ]
    },
    {
      "cell_type": "code",
      "metadata": {
        "id": "ScOss45Bmkn8",
        "colab_type": "code",
        "colab": {}
      },
      "source": [
        "df['weekday_exposition'] = df['first_day_exposition'].dt.weekday\n",
        "df['month_exposition'] = df['first_day_exposition'].dt.month\n",
        "df['year_exposition'] = df['first_day_exposition'].dt.year"
      ],
      "execution_count": 0,
      "outputs": []
    },
    {
      "cell_type": "markdown",
      "metadata": {
        "id": "IYrx517bmkoJ",
        "colab_type": "text"
      },
      "source": [
        "Добавим классификацию этажей:"
      ]
    },
    {
      "cell_type": "code",
      "metadata": {
        "id": "wNMfc68FmkoM",
        "colab_type": "code",
        "colab": {},
        "outputId": "16b4eb1b-0858-4b3c-cf73-0097a58e6172"
      },
      "source": [
        "def assign_floor(row):\n",
        "    if row['floor'] == 1:\n",
        "        return 'первый'\n",
        "    elif row['floor'] == row['floors_total']:\n",
        "        return 'последний'\n",
        "    return 'другой'\n",
        "\n",
        "# пропущенным значениям из floors_total будет отвечать значение \"другой\" из колонки floor_category, однако это не должно \n",
        "# повлиять на результат, т.к. этих пропущенных значений всего 86\n",
        "df['floor_category'] = df.apply(assign_floor, axis=1)\n",
        "df.head()"
      ],
      "execution_count": 0,
      "outputs": [
        {
          "output_type": "execute_result",
          "data": {
            "text/html": [
              "<div>\n",
              "<style scoped>\n",
              "    .dataframe tbody tr th:only-of-type {\n",
              "        vertical-align: middle;\n",
              "    }\n",
              "\n",
              "    .dataframe tbody tr th {\n",
              "        vertical-align: top;\n",
              "    }\n",
              "\n",
              "    .dataframe thead th {\n",
              "        text-align: right;\n",
              "    }\n",
              "</style>\n",
              "<table border=\"1\" class=\"dataframe\">\n",
              "  <thead>\n",
              "    <tr style=\"text-align: right;\">\n",
              "      <th></th>\n",
              "      <th>total_images</th>\n",
              "      <th>last_price</th>\n",
              "      <th>total_area</th>\n",
              "      <th>first_day_exposition</th>\n",
              "      <th>rooms</th>\n",
              "      <th>ceiling_height</th>\n",
              "      <th>floors_total</th>\n",
              "      <th>living_area</th>\n",
              "      <th>floor</th>\n",
              "      <th>is_apartment</th>\n",
              "      <th>...</th>\n",
              "      <th>parks_around3000</th>\n",
              "      <th>parks_nearest</th>\n",
              "      <th>ponds_around3000</th>\n",
              "      <th>ponds_nearest</th>\n",
              "      <th>days_exposition</th>\n",
              "      <th>meter_price</th>\n",
              "      <th>weekday_exposition</th>\n",
              "      <th>month_exposition</th>\n",
              "      <th>year_exposition</th>\n",
              "      <th>floor_category</th>\n",
              "    </tr>\n",
              "  </thead>\n",
              "  <tbody>\n",
              "    <tr>\n",
              "      <td>0</td>\n",
              "      <td>20</td>\n",
              "      <td>13000000.0</td>\n",
              "      <td>108.0</td>\n",
              "      <td>2019-03-07</td>\n",
              "      <td>3</td>\n",
              "      <td>2.70</td>\n",
              "      <td>16.0</td>\n",
              "      <td>51.0</td>\n",
              "      <td>8</td>\n",
              "      <td>False</td>\n",
              "      <td>...</td>\n",
              "      <td>1.0</td>\n",
              "      <td>482.0</td>\n",
              "      <td>2.0</td>\n",
              "      <td>755.0</td>\n",
              "      <td>NaN</td>\n",
              "      <td>120370.0</td>\n",
              "      <td>3</td>\n",
              "      <td>3</td>\n",
              "      <td>2019</td>\n",
              "      <td>другой</td>\n",
              "    </tr>\n",
              "    <tr>\n",
              "      <td>1</td>\n",
              "      <td>7</td>\n",
              "      <td>3350000.0</td>\n",
              "      <td>40.4</td>\n",
              "      <td>2018-12-04</td>\n",
              "      <td>1</td>\n",
              "      <td>2.63</td>\n",
              "      <td>11.0</td>\n",
              "      <td>18.6</td>\n",
              "      <td>1</td>\n",
              "      <td>False</td>\n",
              "      <td>...</td>\n",
              "      <td>0.0</td>\n",
              "      <td>NaN</td>\n",
              "      <td>0.0</td>\n",
              "      <td>NaN</td>\n",
              "      <td>81.0</td>\n",
              "      <td>82921.0</td>\n",
              "      <td>1</td>\n",
              "      <td>12</td>\n",
              "      <td>2018</td>\n",
              "      <td>первый</td>\n",
              "    </tr>\n",
              "    <tr>\n",
              "      <td>2</td>\n",
              "      <td>10</td>\n",
              "      <td>5196000.0</td>\n",
              "      <td>56.0</td>\n",
              "      <td>2015-08-20</td>\n",
              "      <td>2</td>\n",
              "      <td>2.70</td>\n",
              "      <td>5.0</td>\n",
              "      <td>34.3</td>\n",
              "      <td>4</td>\n",
              "      <td>False</td>\n",
              "      <td>...</td>\n",
              "      <td>1.0</td>\n",
              "      <td>90.0</td>\n",
              "      <td>2.0</td>\n",
              "      <td>574.0</td>\n",
              "      <td>558.0</td>\n",
              "      <td>92786.0</td>\n",
              "      <td>3</td>\n",
              "      <td>8</td>\n",
              "      <td>2015</td>\n",
              "      <td>другой</td>\n",
              "    </tr>\n",
              "    <tr>\n",
              "      <td>3</td>\n",
              "      <td>0</td>\n",
              "      <td>64900000.0</td>\n",
              "      <td>159.0</td>\n",
              "      <td>2015-07-24</td>\n",
              "      <td>3</td>\n",
              "      <td>2.70</td>\n",
              "      <td>14.0</td>\n",
              "      <td>NaN</td>\n",
              "      <td>9</td>\n",
              "      <td>False</td>\n",
              "      <td>...</td>\n",
              "      <td>2.0</td>\n",
              "      <td>84.0</td>\n",
              "      <td>3.0</td>\n",
              "      <td>234.0</td>\n",
              "      <td>424.0</td>\n",
              "      <td>408176.0</td>\n",
              "      <td>4</td>\n",
              "      <td>7</td>\n",
              "      <td>2015</td>\n",
              "      <td>другой</td>\n",
              "    </tr>\n",
              "    <tr>\n",
              "      <td>4</td>\n",
              "      <td>2</td>\n",
              "      <td>10000000.0</td>\n",
              "      <td>100.0</td>\n",
              "      <td>2018-06-19</td>\n",
              "      <td>2</td>\n",
              "      <td>3.03</td>\n",
              "      <td>14.0</td>\n",
              "      <td>32.0</td>\n",
              "      <td>13</td>\n",
              "      <td>False</td>\n",
              "      <td>...</td>\n",
              "      <td>2.0</td>\n",
              "      <td>112.0</td>\n",
              "      <td>1.0</td>\n",
              "      <td>48.0</td>\n",
              "      <td>121.0</td>\n",
              "      <td>100000.0</td>\n",
              "      <td>1</td>\n",
              "      <td>6</td>\n",
              "      <td>2018</td>\n",
              "      <td>другой</td>\n",
              "    </tr>\n",
              "  </tbody>\n",
              "</table>\n",
              "<p>5 rows × 27 columns</p>\n",
              "</div>"
            ],
            "text/plain": [
              "   total_images  last_price  total_area first_day_exposition  rooms  \\\n",
              "0            20  13000000.0       108.0           2019-03-07      3   \n",
              "1             7   3350000.0        40.4           2018-12-04      1   \n",
              "2            10   5196000.0        56.0           2015-08-20      2   \n",
              "3             0  64900000.0       159.0           2015-07-24      3   \n",
              "4             2  10000000.0       100.0           2018-06-19      2   \n",
              "\n",
              "   ceiling_height  floors_total  living_area  floor  is_apartment  ...  \\\n",
              "0            2.70          16.0         51.0      8         False  ...   \n",
              "1            2.63          11.0         18.6      1         False  ...   \n",
              "2            2.70           5.0         34.3      4         False  ...   \n",
              "3            2.70          14.0          NaN      9         False  ...   \n",
              "4            3.03          14.0         32.0     13         False  ...   \n",
              "\n",
              "   parks_around3000  parks_nearest  ponds_around3000  ponds_nearest  \\\n",
              "0               1.0          482.0               2.0          755.0   \n",
              "1               0.0            NaN               0.0            NaN   \n",
              "2               1.0           90.0               2.0          574.0   \n",
              "3               2.0           84.0               3.0          234.0   \n",
              "4               2.0          112.0               1.0           48.0   \n",
              "\n",
              "  days_exposition  meter_price  weekday_exposition  month_exposition  \\\n",
              "0             NaN     120370.0                   3                 3   \n",
              "1            81.0      82921.0                   1                12   \n",
              "2           558.0      92786.0                   3                 8   \n",
              "3           424.0     408176.0                   4                 7   \n",
              "4           121.0     100000.0                   1                 6   \n",
              "\n",
              "   year_exposition  floor_category  \n",
              "0             2019          другой  \n",
              "1             2018          первый  \n",
              "2             2015          другой  \n",
              "3             2015          другой  \n",
              "4             2018          другой  \n",
              "\n",
              "[5 rows x 27 columns]"
            ]
          },
          "metadata": {
            "tags": []
          },
          "execution_count": 24
        }
      ]
    },
    {
      "cell_type": "markdown",
      "metadata": {
        "id": "7eYBcq8RmkoX",
        "colab_type": "text"
      },
      "source": [
        "Соотношение жилой и общей площади:"
      ]
    },
    {
      "cell_type": "code",
      "metadata": {
        "id": "vi-gbpaYmkoa",
        "colab_type": "code",
        "colab": {}
      },
      "source": [
        "df['living_over_total'] = (df['living_area'] / df['total_area'])  # округлим до 2 знаков после запятой"
      ],
      "execution_count": 0,
      "outputs": []
    },
    {
      "cell_type": "markdown",
      "metadata": {
        "id": "f7-TITucmkos",
        "colab_type": "text"
      },
      "source": [
        "Соотношение площади кухни и общей площади:"
      ]
    },
    {
      "cell_type": "code",
      "metadata": {
        "id": "jYwMzwlwmkox",
        "colab_type": "code",
        "colab": {},
        "outputId": "f7e83209-1a2e-4191-c071-4aa229183af1"
      },
      "source": [
        "df['kitchen_over_total'] = (df['kitchen_area'] / df['total_area']) # округлим до 2 знаков после запятой\n",
        "df"
      ],
      "execution_count": 0,
      "outputs": [
        {
          "output_type": "execute_result",
          "data": {
            "text/html": [
              "<div>\n",
              "<style scoped>\n",
              "    .dataframe tbody tr th:only-of-type {\n",
              "        vertical-align: middle;\n",
              "    }\n",
              "\n",
              "    .dataframe tbody tr th {\n",
              "        vertical-align: top;\n",
              "    }\n",
              "\n",
              "    .dataframe thead th {\n",
              "        text-align: right;\n",
              "    }\n",
              "</style>\n",
              "<table border=\"1\" class=\"dataframe\">\n",
              "  <thead>\n",
              "    <tr style=\"text-align: right;\">\n",
              "      <th></th>\n",
              "      <th>total_images</th>\n",
              "      <th>last_price</th>\n",
              "      <th>total_area</th>\n",
              "      <th>first_day_exposition</th>\n",
              "      <th>rooms</th>\n",
              "      <th>ceiling_height</th>\n",
              "      <th>floors_total</th>\n",
              "      <th>living_area</th>\n",
              "      <th>floor</th>\n",
              "      <th>is_apartment</th>\n",
              "      <th>...</th>\n",
              "      <th>ponds_around3000</th>\n",
              "      <th>ponds_nearest</th>\n",
              "      <th>days_exposition</th>\n",
              "      <th>meter_price</th>\n",
              "      <th>weekday_exposition</th>\n",
              "      <th>month_exposition</th>\n",
              "      <th>year_exposition</th>\n",
              "      <th>floor_category</th>\n",
              "      <th>living_over_total</th>\n",
              "      <th>kitchen_over_total</th>\n",
              "    </tr>\n",
              "  </thead>\n",
              "  <tbody>\n",
              "    <tr>\n",
              "      <td>0</td>\n",
              "      <td>20</td>\n",
              "      <td>13000000.0</td>\n",
              "      <td>108.00</td>\n",
              "      <td>2019-03-07</td>\n",
              "      <td>3</td>\n",
              "      <td>2.70</td>\n",
              "      <td>16.0</td>\n",
              "      <td>51.0</td>\n",
              "      <td>8</td>\n",
              "      <td>False</td>\n",
              "      <td>...</td>\n",
              "      <td>2.0</td>\n",
              "      <td>755.0</td>\n",
              "      <td>NaN</td>\n",
              "      <td>120370.0</td>\n",
              "      <td>3</td>\n",
              "      <td>3</td>\n",
              "      <td>2019</td>\n",
              "      <td>другой</td>\n",
              "      <td>0.472222</td>\n",
              "      <td>0.231481</td>\n",
              "    </tr>\n",
              "    <tr>\n",
              "      <td>1</td>\n",
              "      <td>7</td>\n",
              "      <td>3350000.0</td>\n",
              "      <td>40.40</td>\n",
              "      <td>2018-12-04</td>\n",
              "      <td>1</td>\n",
              "      <td>2.63</td>\n",
              "      <td>11.0</td>\n",
              "      <td>18.6</td>\n",
              "      <td>1</td>\n",
              "      <td>False</td>\n",
              "      <td>...</td>\n",
              "      <td>0.0</td>\n",
              "      <td>NaN</td>\n",
              "      <td>81.0</td>\n",
              "      <td>82921.0</td>\n",
              "      <td>1</td>\n",
              "      <td>12</td>\n",
              "      <td>2018</td>\n",
              "      <td>первый</td>\n",
              "      <td>0.460396</td>\n",
              "      <td>0.272277</td>\n",
              "    </tr>\n",
              "    <tr>\n",
              "      <td>2</td>\n",
              "      <td>10</td>\n",
              "      <td>5196000.0</td>\n",
              "      <td>56.00</td>\n",
              "      <td>2015-08-20</td>\n",
              "      <td>2</td>\n",
              "      <td>2.70</td>\n",
              "      <td>5.0</td>\n",
              "      <td>34.3</td>\n",
              "      <td>4</td>\n",
              "      <td>False</td>\n",
              "      <td>...</td>\n",
              "      <td>2.0</td>\n",
              "      <td>574.0</td>\n",
              "      <td>558.0</td>\n",
              "      <td>92786.0</td>\n",
              "      <td>3</td>\n",
              "      <td>8</td>\n",
              "      <td>2015</td>\n",
              "      <td>другой</td>\n",
              "      <td>0.612500</td>\n",
              "      <td>0.148214</td>\n",
              "    </tr>\n",
              "    <tr>\n",
              "      <td>3</td>\n",
              "      <td>0</td>\n",
              "      <td>64900000.0</td>\n",
              "      <td>159.00</td>\n",
              "      <td>2015-07-24</td>\n",
              "      <td>3</td>\n",
              "      <td>2.70</td>\n",
              "      <td>14.0</td>\n",
              "      <td>NaN</td>\n",
              "      <td>9</td>\n",
              "      <td>False</td>\n",
              "      <td>...</td>\n",
              "      <td>3.0</td>\n",
              "      <td>234.0</td>\n",
              "      <td>424.0</td>\n",
              "      <td>408176.0</td>\n",
              "      <td>4</td>\n",
              "      <td>7</td>\n",
              "      <td>2015</td>\n",
              "      <td>другой</td>\n",
              "      <td>NaN</td>\n",
              "      <td>NaN</td>\n",
              "    </tr>\n",
              "    <tr>\n",
              "      <td>4</td>\n",
              "      <td>2</td>\n",
              "      <td>10000000.0</td>\n",
              "      <td>100.00</td>\n",
              "      <td>2018-06-19</td>\n",
              "      <td>2</td>\n",
              "      <td>3.03</td>\n",
              "      <td>14.0</td>\n",
              "      <td>32.0</td>\n",
              "      <td>13</td>\n",
              "      <td>False</td>\n",
              "      <td>...</td>\n",
              "      <td>1.0</td>\n",
              "      <td>48.0</td>\n",
              "      <td>121.0</td>\n",
              "      <td>100000.0</td>\n",
              "      <td>1</td>\n",
              "      <td>6</td>\n",
              "      <td>2018</td>\n",
              "      <td>другой</td>\n",
              "      <td>0.320000</td>\n",
              "      <td>0.410000</td>\n",
              "    </tr>\n",
              "    <tr>\n",
              "      <td>...</td>\n",
              "      <td>...</td>\n",
              "      <td>...</td>\n",
              "      <td>...</td>\n",
              "      <td>...</td>\n",
              "      <td>...</td>\n",
              "      <td>...</td>\n",
              "      <td>...</td>\n",
              "      <td>...</td>\n",
              "      <td>...</td>\n",
              "      <td>...</td>\n",
              "      <td>...</td>\n",
              "      <td>...</td>\n",
              "      <td>...</td>\n",
              "      <td>...</td>\n",
              "      <td>...</td>\n",
              "      <td>...</td>\n",
              "      <td>...</td>\n",
              "      <td>...</td>\n",
              "      <td>...</td>\n",
              "      <td>...</td>\n",
              "      <td>...</td>\n",
              "    </tr>\n",
              "    <tr>\n",
              "      <td>23694</td>\n",
              "      <td>9</td>\n",
              "      <td>9700000.0</td>\n",
              "      <td>133.81</td>\n",
              "      <td>2017-03-21</td>\n",
              "      <td>3</td>\n",
              "      <td>3.70</td>\n",
              "      <td>5.0</td>\n",
              "      <td>73.3</td>\n",
              "      <td>3</td>\n",
              "      <td>False</td>\n",
              "      <td>...</td>\n",
              "      <td>3.0</td>\n",
              "      <td>381.0</td>\n",
              "      <td>NaN</td>\n",
              "      <td>72491.0</td>\n",
              "      <td>1</td>\n",
              "      <td>3</td>\n",
              "      <td>2017</td>\n",
              "      <td>другой</td>\n",
              "      <td>0.547792</td>\n",
              "      <td>0.103356</td>\n",
              "    </tr>\n",
              "    <tr>\n",
              "      <td>23695</td>\n",
              "      <td>14</td>\n",
              "      <td>3100000.0</td>\n",
              "      <td>59.00</td>\n",
              "      <td>2018-01-15</td>\n",
              "      <td>3</td>\n",
              "      <td>2.50</td>\n",
              "      <td>5.0</td>\n",
              "      <td>38.0</td>\n",
              "      <td>4</td>\n",
              "      <td>False</td>\n",
              "      <td>...</td>\n",
              "      <td>NaN</td>\n",
              "      <td>NaN</td>\n",
              "      <td>45.0</td>\n",
              "      <td>52542.0</td>\n",
              "      <td>0</td>\n",
              "      <td>1</td>\n",
              "      <td>2018</td>\n",
              "      <td>другой</td>\n",
              "      <td>0.644068</td>\n",
              "      <td>0.144068</td>\n",
              "    </tr>\n",
              "    <tr>\n",
              "      <td>23696</td>\n",
              "      <td>18</td>\n",
              "      <td>2500000.0</td>\n",
              "      <td>56.70</td>\n",
              "      <td>2018-02-11</td>\n",
              "      <td>2</td>\n",
              "      <td>NaN</td>\n",
              "      <td>3.0</td>\n",
              "      <td>29.7</td>\n",
              "      <td>1</td>\n",
              "      <td>False</td>\n",
              "      <td>...</td>\n",
              "      <td>NaN</td>\n",
              "      <td>NaN</td>\n",
              "      <td>NaN</td>\n",
              "      <td>44092.0</td>\n",
              "      <td>6</td>\n",
              "      <td>2</td>\n",
              "      <td>2018</td>\n",
              "      <td>первый</td>\n",
              "      <td>0.523810</td>\n",
              "      <td>NaN</td>\n",
              "    </tr>\n",
              "    <tr>\n",
              "      <td>23697</td>\n",
              "      <td>13</td>\n",
              "      <td>11475000.0</td>\n",
              "      <td>76.75</td>\n",
              "      <td>2017-03-28</td>\n",
              "      <td>2</td>\n",
              "      <td>3.00</td>\n",
              "      <td>17.0</td>\n",
              "      <td>NaN</td>\n",
              "      <td>12</td>\n",
              "      <td>False</td>\n",
              "      <td>...</td>\n",
              "      <td>3.0</td>\n",
              "      <td>196.0</td>\n",
              "      <td>602.0</td>\n",
              "      <td>149511.0</td>\n",
              "      <td>1</td>\n",
              "      <td>3</td>\n",
              "      <td>2017</td>\n",
              "      <td>другой</td>\n",
              "      <td>NaN</td>\n",
              "      <td>0.303583</td>\n",
              "    </tr>\n",
              "    <tr>\n",
              "      <td>23698</td>\n",
              "      <td>4</td>\n",
              "      <td>1350000.0</td>\n",
              "      <td>32.30</td>\n",
              "      <td>2017-07-21</td>\n",
              "      <td>1</td>\n",
              "      <td>2.50</td>\n",
              "      <td>5.0</td>\n",
              "      <td>12.3</td>\n",
              "      <td>1</td>\n",
              "      <td>False</td>\n",
              "      <td>...</td>\n",
              "      <td>NaN</td>\n",
              "      <td>NaN</td>\n",
              "      <td>NaN</td>\n",
              "      <td>41796.0</td>\n",
              "      <td>4</td>\n",
              "      <td>7</td>\n",
              "      <td>2017</td>\n",
              "      <td>первый</td>\n",
              "      <td>0.380805</td>\n",
              "      <td>0.278638</td>\n",
              "    </tr>\n",
              "  </tbody>\n",
              "</table>\n",
              "<p>23699 rows × 29 columns</p>\n",
              "</div>"
            ],
            "text/plain": [
              "       total_images  last_price  total_area first_day_exposition  rooms  \\\n",
              "0                20  13000000.0      108.00           2019-03-07      3   \n",
              "1                 7   3350000.0       40.40           2018-12-04      1   \n",
              "2                10   5196000.0       56.00           2015-08-20      2   \n",
              "3                 0  64900000.0      159.00           2015-07-24      3   \n",
              "4                 2  10000000.0      100.00           2018-06-19      2   \n",
              "...             ...         ...         ...                  ...    ...   \n",
              "23694             9   9700000.0      133.81           2017-03-21      3   \n",
              "23695            14   3100000.0       59.00           2018-01-15      3   \n",
              "23696            18   2500000.0       56.70           2018-02-11      2   \n",
              "23697            13  11475000.0       76.75           2017-03-28      2   \n",
              "23698             4   1350000.0       32.30           2017-07-21      1   \n",
              "\n",
              "       ceiling_height  floors_total  living_area  floor  is_apartment  ...  \\\n",
              "0                2.70          16.0         51.0      8         False  ...   \n",
              "1                2.63          11.0         18.6      1         False  ...   \n",
              "2                2.70           5.0         34.3      4         False  ...   \n",
              "3                2.70          14.0          NaN      9         False  ...   \n",
              "4                3.03          14.0         32.0     13         False  ...   \n",
              "...               ...           ...          ...    ...           ...  ...   \n",
              "23694            3.70           5.0         73.3      3         False  ...   \n",
              "23695            2.50           5.0         38.0      4         False  ...   \n",
              "23696             NaN           3.0         29.7      1         False  ...   \n",
              "23697            3.00          17.0          NaN     12         False  ...   \n",
              "23698            2.50           5.0         12.3      1         False  ...   \n",
              "\n",
              "       ponds_around3000  ponds_nearest  days_exposition  meter_price  \\\n",
              "0                   2.0          755.0              NaN     120370.0   \n",
              "1                   0.0            NaN             81.0      82921.0   \n",
              "2                   2.0          574.0            558.0      92786.0   \n",
              "3                   3.0          234.0            424.0     408176.0   \n",
              "4                   1.0           48.0            121.0     100000.0   \n",
              "...                 ...            ...              ...          ...   \n",
              "23694               3.0          381.0              NaN      72491.0   \n",
              "23695               NaN            NaN             45.0      52542.0   \n",
              "23696               NaN            NaN              NaN      44092.0   \n",
              "23697               3.0          196.0            602.0     149511.0   \n",
              "23698               NaN            NaN              NaN      41796.0   \n",
              "\n",
              "      weekday_exposition  month_exposition  year_exposition  floor_category  \\\n",
              "0                      3                 3             2019          другой   \n",
              "1                      1                12             2018          первый   \n",
              "2                      3                 8             2015          другой   \n",
              "3                      4                 7             2015          другой   \n",
              "4                      1                 6             2018          другой   \n",
              "...                  ...               ...              ...             ...   \n",
              "23694                  1                 3             2017          другой   \n",
              "23695                  0                 1             2018          другой   \n",
              "23696                  6                 2             2018          первый   \n",
              "23697                  1                 3             2017          другой   \n",
              "23698                  4                 7             2017          первый   \n",
              "\n",
              "       living_over_total  kitchen_over_total  \n",
              "0               0.472222            0.231481  \n",
              "1               0.460396            0.272277  \n",
              "2               0.612500            0.148214  \n",
              "3                    NaN                 NaN  \n",
              "4               0.320000            0.410000  \n",
              "...                  ...                 ...  \n",
              "23694           0.547792            0.103356  \n",
              "23695           0.644068            0.144068  \n",
              "23696           0.523810                 NaN  \n",
              "23697                NaN            0.303583  \n",
              "23698           0.380805            0.278638  \n",
              "\n",
              "[23699 rows x 29 columns]"
            ]
          },
          "metadata": {
            "tags": []
          },
          "execution_count": 26
        }
      ]
    },
    {
      "cell_type": "markdown",
      "metadata": {
        "id": "YAG4uqyAmkpA",
        "colab_type": "text"
      },
      "source": [
        "Теперь, зная доли жилой и кухонной площади, можно на основании этой информации заполнить пропуски в соответствующих колонках. Между числом комнат и жилой площадью и площадью кухни, безусловно, есть корреляция, покажем это:"
      ]
    },
    {
      "cell_type": "code",
      "metadata": {
        "id": "7fCOH5lmmkpJ",
        "colab_type": "code",
        "colab": {},
        "outputId": "a2d7e69d-d5a2-4fcc-a184-a8c0ffa7d3a7"
      },
      "source": [
        "df[['rooms', 'living_area', 'kitchen_area']].corr()"
      ],
      "execution_count": 0,
      "outputs": [
        {
          "output_type": "execute_result",
          "data": {
            "text/html": [
              "<div>\n",
              "<style scoped>\n",
              "    .dataframe tbody tr th:only-of-type {\n",
              "        vertical-align: middle;\n",
              "    }\n",
              "\n",
              "    .dataframe tbody tr th {\n",
              "        vertical-align: top;\n",
              "    }\n",
              "\n",
              "    .dataframe thead th {\n",
              "        text-align: right;\n",
              "    }\n",
              "</style>\n",
              "<table border=\"1\" class=\"dataframe\">\n",
              "  <thead>\n",
              "    <tr style=\"text-align: right;\">\n",
              "      <th></th>\n",
              "      <th>rooms</th>\n",
              "      <th>living_area</th>\n",
              "      <th>kitchen_area</th>\n",
              "    </tr>\n",
              "  </thead>\n",
              "  <tbody>\n",
              "    <tr>\n",
              "      <td>rooms</td>\n",
              "      <td>1.000000</td>\n",
              "      <td>0.845977</td>\n",
              "      <td>0.286652</td>\n",
              "    </tr>\n",
              "    <tr>\n",
              "      <td>living_area</td>\n",
              "      <td>0.845977</td>\n",
              "      <td>1.000000</td>\n",
              "      <td>0.431663</td>\n",
              "    </tr>\n",
              "    <tr>\n",
              "      <td>kitchen_area</td>\n",
              "      <td>0.286652</td>\n",
              "      <td>0.431663</td>\n",
              "      <td>1.000000</td>\n",
              "    </tr>\n",
              "  </tbody>\n",
              "</table>\n",
              "</div>"
            ],
            "text/plain": [
              "                 rooms  living_area  kitchen_area\n",
              "rooms         1.000000     0.845977      0.286652\n",
              "living_area   0.845977     1.000000      0.431663\n",
              "kitchen_area  0.286652     0.431663      1.000000"
            ]
          },
          "metadata": {
            "tags": []
          },
          "execution_count": 27
        }
      ]
    },
    {
      "cell_type": "markdown",
      "metadata": {
        "id": "jXONxJgNmkpS",
        "colab_type": "text"
      },
      "source": [
        "Корреляция числа комнат с площадью кухни меньше, т.к. при увеличении общей площади (то есть числа комнат), есть какое-то разумное предельное значение для площади кухни. Поэтому ожидается, что с увеличением числа комнат (общей площади), доля жилой площади будет немного расти, а доля площади кухни немного уменьшаться. Проверим:"
      ]
    },
    {
      "cell_type": "code",
      "metadata": {
        "id": "AQHLOIAxmkpV",
        "colab_type": "code",
        "colab": {},
        "outputId": "ad36dca1-0153-43ed-fc1f-b39c062b0f84"
      },
      "source": [
        "df[['rooms', 'living_over_total', 'kitchen_over_total']].corr()"
      ],
      "execution_count": 0,
      "outputs": [
        {
          "output_type": "execute_result",
          "data": {
            "text/html": [
              "<div>\n",
              "<style scoped>\n",
              "    .dataframe tbody tr th:only-of-type {\n",
              "        vertical-align: middle;\n",
              "    }\n",
              "\n",
              "    .dataframe tbody tr th {\n",
              "        vertical-align: top;\n",
              "    }\n",
              "\n",
              "    .dataframe thead th {\n",
              "        text-align: right;\n",
              "    }\n",
              "</style>\n",
              "<table border=\"1\" class=\"dataframe\">\n",
              "  <thead>\n",
              "    <tr style=\"text-align: right;\">\n",
              "      <th></th>\n",
              "      <th>rooms</th>\n",
              "      <th>living_over_total</th>\n",
              "      <th>kitchen_over_total</th>\n",
              "    </tr>\n",
              "  </thead>\n",
              "  <tbody>\n",
              "    <tr>\n",
              "      <td>rooms</td>\n",
              "      <td>1.000000</td>\n",
              "      <td>0.481393</td>\n",
              "      <td>-0.537580</td>\n",
              "    </tr>\n",
              "    <tr>\n",
              "      <td>living_over_total</td>\n",
              "      <td>0.481393</td>\n",
              "      <td>1.000000</td>\n",
              "      <td>-0.718764</td>\n",
              "    </tr>\n",
              "    <tr>\n",
              "      <td>kitchen_over_total</td>\n",
              "      <td>-0.537580</td>\n",
              "      <td>-0.718764</td>\n",
              "      <td>1.000000</td>\n",
              "    </tr>\n",
              "  </tbody>\n",
              "</table>\n",
              "</div>"
            ],
            "text/plain": [
              "                       rooms  living_over_total  kitchen_over_total\n",
              "rooms               1.000000           0.481393           -0.537580\n",
              "living_over_total   0.481393           1.000000           -0.718764\n",
              "kitchen_over_total -0.537580          -0.718764            1.000000"
            ]
          },
          "metadata": {
            "tags": []
          },
          "execution_count": 28
        }
      ]
    },
    {
      "cell_type": "markdown",
      "metadata": {
        "id": "0UsL-OaUmkpm",
        "colab_type": "text"
      },
      "source": [
        "На этом основании можно сначала посчитать пропущенные значения в долях жилой площади и площади кухни, группируя по числу комнат. А потом, зная общую площадь, пересчитать абсолютные значения жилой площади и кухни в колонках, где есть пропуски."
      ]
    },
    {
      "cell_type": "code",
      "metadata": {
        "id": "SfIjVxdjmkpp",
        "colab_type": "code",
        "colab": {}
      },
      "source": [
        "for item in df.groupby('rooms'):\n",
        "    number_of_rooms = item[0]\n",
        "    living_ratio_median = item[1]['living_over_total'].median() # медианная доля жилой площади для number_of_rooms комнат\n",
        "    kitchen_ratio_median = item[1]['kitchen_over_total'].median() # медианная доля площади кухни для number_of_rooms комнат\n",
        "    df.loc[(df['living_over_total'].isna()) & (df['rooms'] == number_of_rooms ), 'living_over_total'] = living_ratio_median\n",
        "    df.loc[(df['kitchen_over_total'].isna()) & (df['rooms'] == number_of_rooms ), 'kitchen_over_total'] = kitchen_ratio_median"
      ],
      "execution_count": 0,
      "outputs": []
    },
    {
      "cell_type": "code",
      "metadata": {
        "id": "jNsQYJS6mkpx",
        "colab_type": "code",
        "colab": {},
        "outputId": "14d7e2c3-6759-4e3a-ed6f-9a21feccc426"
      },
      "source": [
        "df[['living_area', 'kitchen_area']].describe()"
      ],
      "execution_count": 0,
      "outputs": [
        {
          "output_type": "execute_result",
          "data": {
            "text/html": [
              "<div>\n",
              "<style scoped>\n",
              "    .dataframe tbody tr th:only-of-type {\n",
              "        vertical-align: middle;\n",
              "    }\n",
              "\n",
              "    .dataframe tbody tr th {\n",
              "        vertical-align: top;\n",
              "    }\n",
              "\n",
              "    .dataframe thead th {\n",
              "        text-align: right;\n",
              "    }\n",
              "</style>\n",
              "<table border=\"1\" class=\"dataframe\">\n",
              "  <thead>\n",
              "    <tr style=\"text-align: right;\">\n",
              "      <th></th>\n",
              "      <th>living_area</th>\n",
              "      <th>kitchen_area</th>\n",
              "    </tr>\n",
              "  </thead>\n",
              "  <tbody>\n",
              "    <tr>\n",
              "      <td>count</td>\n",
              "      <td>21796.000000</td>\n",
              "      <td>21570.000000</td>\n",
              "    </tr>\n",
              "    <tr>\n",
              "      <td>mean</td>\n",
              "      <td>34.457852</td>\n",
              "      <td>10.496794</td>\n",
              "    </tr>\n",
              "    <tr>\n",
              "      <td>std</td>\n",
              "      <td>22.030445</td>\n",
              "      <td>5.949767</td>\n",
              "    </tr>\n",
              "    <tr>\n",
              "      <td>min</td>\n",
              "      <td>2.000000</td>\n",
              "      <td>0.000000</td>\n",
              "    </tr>\n",
              "    <tr>\n",
              "      <td>25%</td>\n",
              "      <td>18.600000</td>\n",
              "      <td>7.000000</td>\n",
              "    </tr>\n",
              "    <tr>\n",
              "      <td>50%</td>\n",
              "      <td>30.000000</td>\n",
              "      <td>9.010000</td>\n",
              "    </tr>\n",
              "    <tr>\n",
              "      <td>75%</td>\n",
              "      <td>42.300000</td>\n",
              "      <td>12.000000</td>\n",
              "    </tr>\n",
              "    <tr>\n",
              "      <td>max</td>\n",
              "      <td>409.700000</td>\n",
              "      <td>112.000000</td>\n",
              "    </tr>\n",
              "  </tbody>\n",
              "</table>\n",
              "</div>"
            ],
            "text/plain": [
              "        living_area  kitchen_area\n",
              "count  21796.000000  21570.000000\n",
              "mean      34.457852     10.496794\n",
              "std       22.030445      5.949767\n",
              "min        2.000000      0.000000\n",
              "25%       18.600000      7.000000\n",
              "50%       30.000000      9.010000\n",
              "75%       42.300000     12.000000\n",
              "max      409.700000    112.000000"
            ]
          },
          "metadata": {
            "tags": []
          },
          "execution_count": 30
        }
      ]
    },
    {
      "cell_type": "code",
      "metadata": {
        "id": "toJdX4wpmkp7",
        "colab_type": "code",
        "colab": {},
        "outputId": "116e310c-8e57-4551-deec-f3b0ab68e09d"
      },
      "source": [
        "df.loc[df['living_area'].isna(), 'living_area'] = df['total_area'] * df['living_over_total']\n",
        "df.loc[df['kitchen_area'].isna(), 'kitchen_area'] = df['total_area'] * df['kitchen_over_total']\n",
        "df.info()"
      ],
      "execution_count": 0,
      "outputs": [
        {
          "output_type": "stream",
          "text": [
            "<class 'pandas.core.frame.DataFrame'>\n",
            "RangeIndex: 23699 entries, 0 to 23698\n",
            "Data columns (total 29 columns):\n",
            "total_images            23699 non-null int64\n",
            "last_price              23699 non-null float64\n",
            "total_area              23699 non-null float64\n",
            "first_day_exposition    23699 non-null datetime64[ns]\n",
            "rooms                   23699 non-null int64\n",
            "ceiling_height          23558 non-null float64\n",
            "floors_total            23613 non-null float64\n",
            "living_area             23699 non-null float64\n",
            "floor                   23699 non-null int64\n",
            "is_apartment            23699 non-null bool\n",
            "studio                  23699 non-null bool\n",
            "open_plan               23699 non-null bool\n",
            "kitchen_area            23699 non-null float64\n",
            "balcony                 23699 non-null int64\n",
            "locality_name           23650 non-null object\n",
            "airports_nearest        18827 non-null float64\n",
            "cityCenters_nearest     18827 non-null float64\n",
            "parks_around3000        18181 non-null float64\n",
            "parks_nearest           8079 non-null float64\n",
            "ponds_around3000        18181 non-null float64\n",
            "ponds_nearest           9110 non-null float64\n",
            "days_exposition         20518 non-null float64\n",
            "meter_price             23699 non-null float64\n",
            "weekday_exposition      23699 non-null int64\n",
            "month_exposition        23699 non-null int64\n",
            "year_exposition         23699 non-null int64\n",
            "floor_category          23699 non-null object\n",
            "living_over_total       23699 non-null float64\n",
            "kitchen_over_total      23699 non-null float64\n",
            "dtypes: bool(3), datetime64[ns](1), float64(16), int64(7), object(2)\n",
            "memory usage: 4.8+ MB\n"
          ],
          "name": "stdout"
        }
      ]
    },
    {
      "cell_type": "code",
      "metadata": {
        "id": "LmFQpTNtmkqM",
        "colab_type": "code",
        "colab": {},
        "outputId": "b4a92a67-fb4a-404b-de54-cc6176fe0917"
      },
      "source": [
        "df[['living_area', 'kitchen_area']].describe()"
      ],
      "execution_count": 0,
      "outputs": [
        {
          "output_type": "execute_result",
          "data": {
            "text/html": [
              "<div>\n",
              "<style scoped>\n",
              "    .dataframe tbody tr th:only-of-type {\n",
              "        vertical-align: middle;\n",
              "    }\n",
              "\n",
              "    .dataframe tbody tr th {\n",
              "        vertical-align: top;\n",
              "    }\n",
              "\n",
              "    .dataframe thead th {\n",
              "        text-align: right;\n",
              "    }\n",
              "</style>\n",
              "<table border=\"1\" class=\"dataframe\">\n",
              "  <thead>\n",
              "    <tr style=\"text-align: right;\">\n",
              "      <th></th>\n",
              "      <th>living_area</th>\n",
              "      <th>kitchen_area</th>\n",
              "    </tr>\n",
              "  </thead>\n",
              "  <tbody>\n",
              "    <tr>\n",
              "      <td>count</td>\n",
              "      <td>23699.000000</td>\n",
              "      <td>23699.000000</td>\n",
              "    </tr>\n",
              "    <tr>\n",
              "      <td>mean</td>\n",
              "      <td>34.693060</td>\n",
              "      <td>10.399212</td>\n",
              "    </tr>\n",
              "    <tr>\n",
              "      <td>std</td>\n",
              "      <td>22.836079</td>\n",
              "      <td>5.860797</td>\n",
              "    </tr>\n",
              "    <tr>\n",
              "      <td>min</td>\n",
              "      <td>2.000000</td>\n",
              "      <td>0.000000</td>\n",
              "    </tr>\n",
              "    <tr>\n",
              "      <td>25%</td>\n",
              "      <td>18.700000</td>\n",
              "      <td>7.000000</td>\n",
              "    </tr>\n",
              "    <tr>\n",
              "      <td>50%</td>\n",
              "      <td>30.000000</td>\n",
              "      <td>9.000000</td>\n",
              "    </tr>\n",
              "    <tr>\n",
              "      <td>75%</td>\n",
              "      <td>42.400000</td>\n",
              "      <td>11.780000</td>\n",
              "    </tr>\n",
              "    <tr>\n",
              "      <td>max</td>\n",
              "      <td>430.133948</td>\n",
              "      <td>122.398591</td>\n",
              "    </tr>\n",
              "  </tbody>\n",
              "</table>\n",
              "</div>"
            ],
            "text/plain": [
              "        living_area  kitchen_area\n",
              "count  23699.000000  23699.000000\n",
              "mean      34.693060     10.399212\n",
              "std       22.836079      5.860797\n",
              "min        2.000000      0.000000\n",
              "25%       18.700000      7.000000\n",
              "50%       30.000000      9.000000\n",
              "75%       42.400000     11.780000\n",
              "max      430.133948    122.398591"
            ]
          },
          "metadata": {
            "tags": []
          },
          "execution_count": 32
        }
      ]
    },
    {
      "cell_type": "markdown",
      "metadata": {
        "id": "L1NyUjcpmkqo",
        "colab_type": "text"
      },
      "source": [
        "После заполнения пропусков основные хар-ки распределений не изменились."
      ]
    },
    {
      "cell_type": "markdown",
      "metadata": {
        "id": "cOuDNHthmkqs",
        "colab_type": "text"
      },
      "source": [
        "### Вывод"
      ]
    },
    {
      "cell_type": "markdown",
      "metadata": {
        "id": "GDO6fOpmmkqv",
        "colab_type": "text"
      },
      "source": [
        "На данном этапе:\n",
        "\n",
        "- были посчитаны и добавлены в таблицу новые величины (цена квадратного метра, день недели, месяц и год публикации объявления, соотношение жилой и общей площади, а также отношение площади кухни к общей),\n",
        "- была проведена категоризация квартир относительно этажа на 3 категории (первый, последний, другой),\n",
        "- были рассчитаны пропуски в площади кухни и жилой площади на основании медианных долей жилой и кухонной площадей, сгруппированных по кол-ву комнат."
      ]
    },
    {
      "cell_type": "markdown",
      "metadata": {
        "id": "3JZzGQ57mkq0",
        "colab_type": "text"
      },
      "source": [
        "### Шаг 4. Проведите исследовательский анализ данных и выполните инструкции:"
      ]
    },
    {
      "cell_type": "markdown",
      "metadata": {
        "id": "qeUvB8ytmkq6",
        "colab_type": "text"
      },
      "source": [
        "Построение гистограмм и диаграммы размаха автоматизируем собственной функцией."
      ]
    },
    {
      "cell_type": "code",
      "metadata": {
        "id": "C43O-pIfmkq8",
        "colab_type": "code",
        "colab": {},
        "outputId": "1869955f-9ccf-47c1-9fee-fe3d435660f3"
      },
      "source": [
        "# параметры функции learn_about\n",
        "# data - таблица\n",
        "# bins - число корзин в гистограмме\n",
        "# xlim_hist - предел по х в гистограмме\n",
        "# ylim_box - предел по у в диаграмме размаха\n",
        "# column - необходимая колонка\n",
        "\n",
        "def learn_about(data, bins, xlim_hist, ylim_box, column): # выводим гистограмму, диаграмму размаха и результат работы describe()\n",
        "    hist = data[column].hist(bins=bins, range=(0, xlim_hist), figsize=(6,6))\n",
        "    plt.show()\n",
        "    box = data[[column]].boxplot()\n",
        "    plt.ylim(0, ylim_box)\n",
        "    plt.show()\n",
        "    describe = data[column].describe(percentiles=[0.25, 0.9, 0.95, 0.75])\n",
        "    print(describe)\n",
        "    return describe['95%']\n",
        "    \n",
        "total_area_95 = learn_about(df, 100, 350, 300, 'total_area')\n"
      ],
      "execution_count": 0,
      "outputs": [
        {
          "output_type": "display_data",
          "data": {
            "image/png": "[encoded data removed]",
            "text/plain": [
              "<Figure size 432x432 with 1 Axes>"
            ]
          },
          "metadata": {
            "tags": [],
            "needs_background": "light"
          }
        },
        {
          "output_type": "display_data",
          "data": {
            "image/png": "[encoded data removed]",
            "text/plain": [
              "<Figure size 432x288 with 1 Axes>"
            ]
          },
          "metadata": {
            "tags": [],
            "needs_background": "light"
          }
        },
        {
          "output_type": "stream",
          "text": [
            "count    23699.000000\n",
            "mean        60.348651\n",
            "std         35.654083\n",
            "min         12.000000\n",
            "25%         40.000000\n",
            "50%         52.000000\n",
            "75%         69.900000\n",
            "90%         93.520000\n",
            "95%        116.000000\n",
            "max        900.000000\n",
            "Name: total_area, dtype: float64\n"
          ],
          "name": "stdout"
        }
      ]
    },
    {
      "cell_type": "code",
      "metadata": {
        "id": "11tkVuMLmkrP",
        "colab_type": "code",
        "colab": {},
        "outputId": "92418a9a-afcd-4fe7-ce7f-52d4b534b17d"
      },
      "source": [
        "last_price_95 = learn_about(df, 100, 6e7, 4e7, 'last_price')"
      ],
      "execution_count": 0,
      "outputs": [
        {
          "output_type": "display_data",
          "data": {
            "image/png": "[encoded data removed]",
            "text/plain": [
              "<Figure size 432x432 with 1 Axes>"
            ]
          },
          "metadata": {
            "tags": [],
            "needs_background": "light"
          }
        },
        {
          "output_type": "display_data",
          "data": {
            "image/png": "[encoded data removed]",
            "text/plain": [
              "<Figure size 432x288 with 1 Axes>"
            ]
          },
          "metadata": {
            "tags": [],
            "needs_background": "light"
          }
        },
        {
          "output_type": "stream",
          "text": [
            "count    2.369900e+04\n",
            "mean     6.541549e+06\n",
            "std      1.088701e+07\n",
            "min      1.219000e+04\n",
            "25%      3.400000e+06\n",
            "50%      4.650000e+06\n",
            "75%      6.800000e+06\n",
            "90%      1.091423e+07\n",
            "95%      1.530000e+07\n",
            "max      7.630000e+08\n",
            "Name: last_price, dtype: float64\n"
          ],
          "name": "stdout"
        }
      ]
    },
    {
      "cell_type": "code",
      "metadata": {
        "id": "at_DzgWKmkrU",
        "colab_type": "code",
        "colab": {},
        "outputId": "bad9a144-72a7-4024-8efe-62d3d97364b6"
      },
      "source": [
        "rooms_95 = learn_about(df, 50, 15, 15, 'rooms')"
      ],
      "execution_count": 0,
      "outputs": [
        {
          "output_type": "display_data",
          "data": {
            "image/png": "[encoded data removed]",
            "text/plain": [
              "<Figure size 432x432 with 1 Axes>"
            ]
          },
          "metadata": {
            "tags": [],
            "needs_background": "light"
          }
        },
        {
          "output_type": "display_data",
          "data": {
            "image/png": "[encoded data removed]",
            "text/plain": [
              "<Figure size 432x288 with 1 Axes>"
            ]
          },
          "metadata": {
            "tags": [],
            "needs_background": "light"
          }
        },
        {
          "output_type": "stream",
          "text": [
            "count    23699.000000\n",
            "mean         2.070636\n",
            "std          1.078405\n",
            "min          0.000000\n",
            "25%          1.000000\n",
            "50%          2.000000\n",
            "75%          3.000000\n",
            "90%          3.000000\n",
            "95%          4.000000\n",
            "max         19.000000\n",
            "Name: rooms, dtype: float64\n"
          ],
          "name": "stdout"
        }
      ]
    },
    {
      "cell_type": "code",
      "metadata": {
        "id": "eoC53xuxmkrf",
        "colab_type": "code",
        "colab": {},
        "outputId": "5939c14c-0a05-4233-dd52-c2ab05d2c326"
      },
      "source": [
        "ceiling_height_95 = learn_about(df, 50, 5, 5, 'ceiling_height')"
      ],
      "execution_count": 0,
      "outputs": [
        {
          "output_type": "display_data",
          "data": {
            "image/png": "[encoded data removed]",
            "text/plain": [
              "<Figure size 432x432 with 1 Axes>"
            ]
          },
          "metadata": {
            "tags": [],
            "needs_background": "light"
          }
        },
        {
          "output_type": "display_data",
          "data": {
            "image/png": "[encoded data removed]",
            "text/plain": [
              "<Figure size 432x288 with 1 Axes>"
            ]
          },
          "metadata": {
            "tags": [],
            "needs_background": "light"
          }
        },
        {
          "output_type": "stream",
          "text": [
            "count    23558.000000\n",
            "mean         2.732502\n",
            "std          1.004616\n",
            "min          1.000000\n",
            "25%          2.550000\n",
            "50%          2.700000\n",
            "75%          2.700000\n",
            "90%          3.000000\n",
            "95%          3.150000\n",
            "max        100.000000\n",
            "Name: ceiling_height, dtype: float64\n"
          ],
          "name": "stdout"
        }
      ]
    },
    {
      "cell_type": "code",
      "metadata": {
        "id": "1SH4iP5Gmkrk",
        "colab_type": "code",
        "colab": {},
        "outputId": "a7a2b640-defb-4ac8-986e-2857b4d57016"
      },
      "source": [
        "days_exposition_95 = learn_about(df, 100, 1000, 1000, 'days_exposition')"
      ],
      "execution_count": 0,
      "outputs": [
        {
          "output_type": "display_data",
          "data": {
            "image/png": "[encoded data removed]",
            "text/plain": [
              "<Figure size 432x432 with 1 Axes>"
            ]
          },
          "metadata": {
            "tags": [],
            "needs_background": "light"
          }
        },
        {
          "output_type": "display_data",
          "data": {
            "image/png": "[encoded data removed]",
            "text/plain": [
              "<Figure size 432x288 with 1 Axes>"
            ]
          },
          "metadata": {
            "tags": [],
            "needs_background": "light"
          }
        },
        {
          "output_type": "stream",
          "text": [
            "count    20518.000000\n",
            "mean       180.888634\n",
            "std        219.727988\n",
            "min          1.000000\n",
            "25%         45.000000\n",
            "50%         95.000000\n",
            "75%        232.000000\n",
            "90%        460.000000\n",
            "95%        647.000000\n",
            "max       1580.000000\n",
            "Name: days_exposition, dtype: float64\n"
          ],
          "name": "stdout"
        }
      ]
    },
    {
      "cell_type": "code",
      "metadata": {
        "id": "uPgrSo0Rmkr1",
        "colab_type": "code",
        "colab": {},
        "outputId": "b23cf570-25ab-4fc2-cd59-70c19f31c0ce"
      },
      "source": [
        "df.query('days_exposition > 730')['last_price'].mean()"
      ],
      "execution_count": 0,
      "outputs": [
        {
          "output_type": "execute_result",
          "data": {
            "text/plain": [
              "8868128.817576565"
            ]
          },
          "metadata": {
            "tags": []
          },
          "execution_count": 38
        }
      ]
    },
    {
      "cell_type": "markdown",
      "metadata": {
        "id": "0q6_-zvqmkr9",
        "colab_type": "text"
      },
      "source": [
        "Интересное и вполне логичное наблюдение: средняя цена медленных продаж гораздо выше общего среднего."
      ]
    },
    {
      "cell_type": "code",
      "metadata": {
        "id": "aDsIo-bBmkr-",
        "colab_type": "code",
        "colab": {},
        "outputId": "73c1b75e-936c-42a1-b8cc-c8854ed83f81"
      },
      "source": [
        "len(df.query('days_exposition > 730')) / len(df)"
      ],
      "execution_count": 0,
      "outputs": [
        {
          "output_type": "execute_result",
          "data": {
            "text/plain": [
              "0.03168910080594118"
            ]
          },
          "metadata": {
            "tags": []
          },
          "execution_count": 39
        }
      ]
    },
    {
      "cell_type": "markdown",
      "metadata": {
        "id": "e1MvCLm1mksK",
        "colab_type": "text"
      },
      "source": [
        "Среднее почти в 2 раза больше медианы. При этом 3% квартир продавались уж очень долго, больше двух лет. Эти значения-то и подняли среднее так сильно. Обычно продажа занимает 3 месяца. Быстрой можно считать продажу, совершенную приблизительно за месяц. Необычно долгой объявим продажу, которая произошла через два года и более со дня создания объявления: эти значения будут выбросами,их мы исключим из анализа."
      ]
    },
    {
      "cell_type": "code",
      "metadata": {
        "id": "XKPlpuvTmksL",
        "colab_type": "code",
        "colab": {},
        "outputId": "f8ea3b57-2e93-4d3a-a9d6-5bcd91c6d2b8"
      },
      "source": [
        "df.query('ceiling_height ==1') # всего одна такая квартира - похоже на ошибку заполнения анкеты человеком"
      ],
      "execution_count": 0,
      "outputs": [
        {
          "output_type": "execute_result",
          "data": {
            "text/html": [
              "<div>\n",
              "<style scoped>\n",
              "    .dataframe tbody tr th:only-of-type {\n",
              "        vertical-align: middle;\n",
              "    }\n",
              "\n",
              "    .dataframe tbody tr th {\n",
              "        vertical-align: top;\n",
              "    }\n",
              "\n",
              "    .dataframe thead th {\n",
              "        text-align: right;\n",
              "    }\n",
              "</style>\n",
              "<table border=\"1\" class=\"dataframe\">\n",
              "  <thead>\n",
              "    <tr style=\"text-align: right;\">\n",
              "      <th></th>\n",
              "      <th>total_images</th>\n",
              "      <th>last_price</th>\n",
              "      <th>total_area</th>\n",
              "      <th>first_day_exposition</th>\n",
              "      <th>rooms</th>\n",
              "      <th>ceiling_height</th>\n",
              "      <th>floors_total</th>\n",
              "      <th>living_area</th>\n",
              "      <th>floor</th>\n",
              "      <th>is_apartment</th>\n",
              "      <th>...</th>\n",
              "      <th>ponds_around3000</th>\n",
              "      <th>ponds_nearest</th>\n",
              "      <th>days_exposition</th>\n",
              "      <th>meter_price</th>\n",
              "      <th>weekday_exposition</th>\n",
              "      <th>month_exposition</th>\n",
              "      <th>year_exposition</th>\n",
              "      <th>floor_category</th>\n",
              "      <th>living_over_total</th>\n",
              "      <th>kitchen_over_total</th>\n",
              "    </tr>\n",
              "  </thead>\n",
              "  <tbody>\n",
              "    <tr>\n",
              "      <td>22590</td>\n",
              "      <td>16</td>\n",
              "      <td>6000000.0</td>\n",
              "      <td>55.0</td>\n",
              "      <td>2018-10-31</td>\n",
              "      <td>2</td>\n",
              "      <td>1.0</td>\n",
              "      <td>12.0</td>\n",
              "      <td>32.4</td>\n",
              "      <td>7</td>\n",
              "      <td>False</td>\n",
              "      <td>...</td>\n",
              "      <td>2.0</td>\n",
              "      <td>289.0</td>\n",
              "      <td>13.0</td>\n",
              "      <td>109091.0</td>\n",
              "      <td>2</td>\n",
              "      <td>10</td>\n",
              "      <td>2018</td>\n",
              "      <td>другой</td>\n",
              "      <td>0.589091</td>\n",
              "      <td>0.181818</td>\n",
              "    </tr>\n",
              "  </tbody>\n",
              "</table>\n",
              "<p>1 rows × 29 columns</p>\n",
              "</div>"
            ],
            "text/plain": [
              "       total_images  last_price  total_area first_day_exposition  rooms  \\\n",
              "22590            16   6000000.0        55.0           2018-10-31      2   \n",
              "\n",
              "       ceiling_height  floors_total  living_area  floor  is_apartment  ...  \\\n",
              "22590             1.0          12.0         32.4      7         False  ...   \n",
              "\n",
              "       ponds_around3000  ponds_nearest  days_exposition  meter_price  \\\n",
              "22590               2.0          289.0             13.0     109091.0   \n",
              "\n",
              "      weekday_exposition  month_exposition  year_exposition  floor_category  \\\n",
              "22590                  2                10             2018          другой   \n",
              "\n",
              "       living_over_total  kitchen_over_total  \n",
              "22590           0.589091            0.181818  \n",
              "\n",
              "[1 rows x 29 columns]"
            ]
          },
          "metadata": {
            "tags": []
          },
          "execution_count": 40
        }
      ]
    },
    {
      "cell_type": "code",
      "metadata": {
        "id": "5EcDPCgxmksT",
        "colab_type": "code",
        "colab": {},
        "outputId": "3414fa89-4fee-47c4-a448-550f1e137802"
      },
      "source": [
        "df.query('rooms==19') # cудя по большой площади, похоже на реальное значение"
      ],
      "execution_count": 0,
      "outputs": [
        {
          "output_type": "execute_result",
          "data": {
            "text/html": [
              "<div>\n",
              "<style scoped>\n",
              "    .dataframe tbody tr th:only-of-type {\n",
              "        vertical-align: middle;\n",
              "    }\n",
              "\n",
              "    .dataframe tbody tr th {\n",
              "        vertical-align: top;\n",
              "    }\n",
              "\n",
              "    .dataframe thead th {\n",
              "        text-align: right;\n",
              "    }\n",
              "</style>\n",
              "<table border=\"1\" class=\"dataframe\">\n",
              "  <thead>\n",
              "    <tr style=\"text-align: right;\">\n",
              "      <th></th>\n",
              "      <th>total_images</th>\n",
              "      <th>last_price</th>\n",
              "      <th>total_area</th>\n",
              "      <th>first_day_exposition</th>\n",
              "      <th>rooms</th>\n",
              "      <th>ceiling_height</th>\n",
              "      <th>floors_total</th>\n",
              "      <th>living_area</th>\n",
              "      <th>floor</th>\n",
              "      <th>is_apartment</th>\n",
              "      <th>...</th>\n",
              "      <th>ponds_around3000</th>\n",
              "      <th>ponds_nearest</th>\n",
              "      <th>days_exposition</th>\n",
              "      <th>meter_price</th>\n",
              "      <th>weekday_exposition</th>\n",
              "      <th>month_exposition</th>\n",
              "      <th>year_exposition</th>\n",
              "      <th>floor_category</th>\n",
              "      <th>living_over_total</th>\n",
              "      <th>kitchen_over_total</th>\n",
              "    </tr>\n",
              "  </thead>\n",
              "  <tbody>\n",
              "    <tr>\n",
              "      <td>14498</td>\n",
              "      <td>6</td>\n",
              "      <td>32250000.0</td>\n",
              "      <td>374.6</td>\n",
              "      <td>2018-06-09</td>\n",
              "      <td>19</td>\n",
              "      <td>2.7</td>\n",
              "      <td>5.0</td>\n",
              "      <td>264.5</td>\n",
              "      <td>2</td>\n",
              "      <td>False</td>\n",
              "      <td>...</td>\n",
              "      <td>2.0</td>\n",
              "      <td>548.0</td>\n",
              "      <td>114.0</td>\n",
              "      <td>86092.0</td>\n",
              "      <td>5</td>\n",
              "      <td>6</td>\n",
              "      <td>2018</td>\n",
              "      <td>другой</td>\n",
              "      <td>0.706086</td>\n",
              "      <td>0.073679</td>\n",
              "    </tr>\n",
              "  </tbody>\n",
              "</table>\n",
              "<p>1 rows × 29 columns</p>\n",
              "</div>"
            ],
            "text/plain": [
              "       total_images  last_price  total_area first_day_exposition  rooms  \\\n",
              "14498             6  32250000.0       374.6           2018-06-09     19   \n",
              "\n",
              "       ceiling_height  floors_total  living_area  floor  is_apartment  ...  \\\n",
              "14498             2.7           5.0        264.5      2         False  ...   \n",
              "\n",
              "       ponds_around3000  ponds_nearest  days_exposition  meter_price  \\\n",
              "14498               2.0          548.0            114.0      86092.0   \n",
              "\n",
              "      weekday_exposition  month_exposition  year_exposition  floor_category  \\\n",
              "14498                  5                 6             2018          другой   \n",
              "\n",
              "       living_over_total  kitchen_over_total  \n",
              "14498           0.706086            0.073679  \n",
              "\n",
              "[1 rows x 29 columns]"
            ]
          },
          "metadata": {
            "tags": []
          },
          "execution_count": 41
        }
      ]
    },
    {
      "cell_type": "markdown",
      "metadata": {
        "id": "7g0lDAKkmksZ",
        "colab_type": "text"
      },
      "source": [
        "Кроме колонки с числом комнат 95-й перцентиль почти совпадает со минимальным значениям выбросов, которое выдает диаграмма размаха. Поэтому для этих колонок будет считать выбросами все, что больше 95-го перцентиля, а минимальное значение выброса для числа комнат установим = 6 как на диаграмме размаха."
      ]
    },
    {
      "cell_type": "code",
      "metadata": {
        "scrolled": false,
        "id": "Ndk5l4JTmksb",
        "colab_type": "code",
        "colab": {},
        "outputId": "624ad288-b7a6-4d96-8b91-ee009f5a281d"
      },
      "source": [
        "new_df = df.query('days_exposition < @days_exposition_95 and rooms < 6 and last_price < @last_price_95 and ceiling_height < @ceiling_height_95')\n",
        "new_df"
      ],
      "execution_count": 0,
      "outputs": [
        {
          "output_type": "execute_result",
          "data": {
            "text/html": [
              "<div>\n",
              "<style scoped>\n",
              "    .dataframe tbody tr th:only-of-type {\n",
              "        vertical-align: middle;\n",
              "    }\n",
              "\n",
              "    .dataframe tbody tr th {\n",
              "        vertical-align: top;\n",
              "    }\n",
              "\n",
              "    .dataframe thead th {\n",
              "        text-align: right;\n",
              "    }\n",
              "</style>\n",
              "<table border=\"1\" class=\"dataframe\">\n",
              "  <thead>\n",
              "    <tr style=\"text-align: right;\">\n",
              "      <th></th>\n",
              "      <th>total_images</th>\n",
              "      <th>last_price</th>\n",
              "      <th>total_area</th>\n",
              "      <th>first_day_exposition</th>\n",
              "      <th>rooms</th>\n",
              "      <th>ceiling_height</th>\n",
              "      <th>floors_total</th>\n",
              "      <th>living_area</th>\n",
              "      <th>floor</th>\n",
              "      <th>is_apartment</th>\n",
              "      <th>...</th>\n",
              "      <th>ponds_around3000</th>\n",
              "      <th>ponds_nearest</th>\n",
              "      <th>days_exposition</th>\n",
              "      <th>meter_price</th>\n",
              "      <th>weekday_exposition</th>\n",
              "      <th>month_exposition</th>\n",
              "      <th>year_exposition</th>\n",
              "      <th>floor_category</th>\n",
              "      <th>living_over_total</th>\n",
              "      <th>kitchen_over_total</th>\n",
              "    </tr>\n",
              "  </thead>\n",
              "  <tbody>\n",
              "    <tr>\n",
              "      <td>1</td>\n",
              "      <td>7</td>\n",
              "      <td>3350000.0</td>\n",
              "      <td>40.40</td>\n",
              "      <td>2018-12-04</td>\n",
              "      <td>1</td>\n",
              "      <td>2.63</td>\n",
              "      <td>11.0</td>\n",
              "      <td>18.600000</td>\n",
              "      <td>1</td>\n",
              "      <td>False</td>\n",
              "      <td>...</td>\n",
              "      <td>0.0</td>\n",
              "      <td>NaN</td>\n",
              "      <td>81.0</td>\n",
              "      <td>82921.0</td>\n",
              "      <td>1</td>\n",
              "      <td>12</td>\n",
              "      <td>2018</td>\n",
              "      <td>первый</td>\n",
              "      <td>0.460396</td>\n",
              "      <td>0.272277</td>\n",
              "    </tr>\n",
              "    <tr>\n",
              "      <td>2</td>\n",
              "      <td>10</td>\n",
              "      <td>5196000.0</td>\n",
              "      <td>56.00</td>\n",
              "      <td>2015-08-20</td>\n",
              "      <td>2</td>\n",
              "      <td>2.70</td>\n",
              "      <td>5.0</td>\n",
              "      <td>34.300000</td>\n",
              "      <td>4</td>\n",
              "      <td>False</td>\n",
              "      <td>...</td>\n",
              "      <td>2.0</td>\n",
              "      <td>574.0</td>\n",
              "      <td>558.0</td>\n",
              "      <td>92786.0</td>\n",
              "      <td>3</td>\n",
              "      <td>8</td>\n",
              "      <td>2015</td>\n",
              "      <td>другой</td>\n",
              "      <td>0.612500</td>\n",
              "      <td>0.148214</td>\n",
              "    </tr>\n",
              "    <tr>\n",
              "      <td>4</td>\n",
              "      <td>2</td>\n",
              "      <td>10000000.0</td>\n",
              "      <td>100.00</td>\n",
              "      <td>2018-06-19</td>\n",
              "      <td>2</td>\n",
              "      <td>3.03</td>\n",
              "      <td>14.0</td>\n",
              "      <td>32.000000</td>\n",
              "      <td>13</td>\n",
              "      <td>False</td>\n",
              "      <td>...</td>\n",
              "      <td>1.0</td>\n",
              "      <td>48.0</td>\n",
              "      <td>121.0</td>\n",
              "      <td>100000.0</td>\n",
              "      <td>1</td>\n",
              "      <td>6</td>\n",
              "      <td>2018</td>\n",
              "      <td>другой</td>\n",
              "      <td>0.320000</td>\n",
              "      <td>0.410000</td>\n",
              "    </tr>\n",
              "    <tr>\n",
              "      <td>5</td>\n",
              "      <td>10</td>\n",
              "      <td>2890000.0</td>\n",
              "      <td>30.40</td>\n",
              "      <td>2018-09-10</td>\n",
              "      <td>1</td>\n",
              "      <td>2.65</td>\n",
              "      <td>12.0</td>\n",
              "      <td>14.400000</td>\n",
              "      <td>5</td>\n",
              "      <td>False</td>\n",
              "      <td>...</td>\n",
              "      <td>NaN</td>\n",
              "      <td>NaN</td>\n",
              "      <td>55.0</td>\n",
              "      <td>95066.0</td>\n",
              "      <td>0</td>\n",
              "      <td>9</td>\n",
              "      <td>2018</td>\n",
              "      <td>другой</td>\n",
              "      <td>0.473684</td>\n",
              "      <td>0.299342</td>\n",
              "    </tr>\n",
              "    <tr>\n",
              "      <td>6</td>\n",
              "      <td>6</td>\n",
              "      <td>3700000.0</td>\n",
              "      <td>37.30</td>\n",
              "      <td>2017-11-02</td>\n",
              "      <td>1</td>\n",
              "      <td>2.64</td>\n",
              "      <td>26.0</td>\n",
              "      <td>10.600000</td>\n",
              "      <td>6</td>\n",
              "      <td>False</td>\n",
              "      <td>...</td>\n",
              "      <td>0.0</td>\n",
              "      <td>NaN</td>\n",
              "      <td>155.0</td>\n",
              "      <td>99196.0</td>\n",
              "      <td>3</td>\n",
              "      <td>11</td>\n",
              "      <td>2017</td>\n",
              "      <td>другой</td>\n",
              "      <td>0.284182</td>\n",
              "      <td>0.386059</td>\n",
              "    </tr>\n",
              "    <tr>\n",
              "      <td>...</td>\n",
              "      <td>...</td>\n",
              "      <td>...</td>\n",
              "      <td>...</td>\n",
              "      <td>...</td>\n",
              "      <td>...</td>\n",
              "      <td>...</td>\n",
              "      <td>...</td>\n",
              "      <td>...</td>\n",
              "      <td>...</td>\n",
              "      <td>...</td>\n",
              "      <td>...</td>\n",
              "      <td>...</td>\n",
              "      <td>...</td>\n",
              "      <td>...</td>\n",
              "      <td>...</td>\n",
              "      <td>...</td>\n",
              "      <td>...</td>\n",
              "      <td>...</td>\n",
              "      <td>...</td>\n",
              "      <td>...</td>\n",
              "      <td>...</td>\n",
              "    </tr>\n",
              "    <tr>\n",
              "      <td>23691</td>\n",
              "      <td>11</td>\n",
              "      <td>9470000.0</td>\n",
              "      <td>72.90</td>\n",
              "      <td>2016-10-13</td>\n",
              "      <td>2</td>\n",
              "      <td>2.75</td>\n",
              "      <td>25.0</td>\n",
              "      <td>40.300000</td>\n",
              "      <td>7</td>\n",
              "      <td>False</td>\n",
              "      <td>...</td>\n",
              "      <td>1.0</td>\n",
              "      <td>806.0</td>\n",
              "      <td>519.0</td>\n",
              "      <td>129904.0</td>\n",
              "      <td>3</td>\n",
              "      <td>10</td>\n",
              "      <td>2016</td>\n",
              "      <td>другой</td>\n",
              "      <td>0.552812</td>\n",
              "      <td>0.145405</td>\n",
              "    </tr>\n",
              "    <tr>\n",
              "      <td>23692</td>\n",
              "      <td>2</td>\n",
              "      <td>1350000.0</td>\n",
              "      <td>30.00</td>\n",
              "      <td>2017-07-07</td>\n",
              "      <td>1</td>\n",
              "      <td>2.60</td>\n",
              "      <td>5.0</td>\n",
              "      <td>17.500000</td>\n",
              "      <td>4</td>\n",
              "      <td>False</td>\n",
              "      <td>...</td>\n",
              "      <td>NaN</td>\n",
              "      <td>NaN</td>\n",
              "      <td>413.0</td>\n",
              "      <td>45000.0</td>\n",
              "      <td>4</td>\n",
              "      <td>7</td>\n",
              "      <td>2017</td>\n",
              "      <td>другой</td>\n",
              "      <td>0.583333</td>\n",
              "      <td>0.200000</td>\n",
              "    </tr>\n",
              "    <tr>\n",
              "      <td>23693</td>\n",
              "      <td>9</td>\n",
              "      <td>4600000.0</td>\n",
              "      <td>62.40</td>\n",
              "      <td>2016-08-05</td>\n",
              "      <td>3</td>\n",
              "      <td>2.60</td>\n",
              "      <td>9.0</td>\n",
              "      <td>40.000000</td>\n",
              "      <td>8</td>\n",
              "      <td>False</td>\n",
              "      <td>...</td>\n",
              "      <td>1.0</td>\n",
              "      <td>675.0</td>\n",
              "      <td>239.0</td>\n",
              "      <td>73718.0</td>\n",
              "      <td>4</td>\n",
              "      <td>8</td>\n",
              "      <td>2016</td>\n",
              "      <td>другой</td>\n",
              "      <td>0.641026</td>\n",
              "      <td>0.128205</td>\n",
              "    </tr>\n",
              "    <tr>\n",
              "      <td>23695</td>\n",
              "      <td>14</td>\n",
              "      <td>3100000.0</td>\n",
              "      <td>59.00</td>\n",
              "      <td>2018-01-15</td>\n",
              "      <td>3</td>\n",
              "      <td>2.50</td>\n",
              "      <td>5.0</td>\n",
              "      <td>38.000000</td>\n",
              "      <td>4</td>\n",
              "      <td>False</td>\n",
              "      <td>...</td>\n",
              "      <td>NaN</td>\n",
              "      <td>NaN</td>\n",
              "      <td>45.0</td>\n",
              "      <td>52542.0</td>\n",
              "      <td>0</td>\n",
              "      <td>1</td>\n",
              "      <td>2018</td>\n",
              "      <td>другой</td>\n",
              "      <td>0.644068</td>\n",
              "      <td>0.144068</td>\n",
              "    </tr>\n",
              "    <tr>\n",
              "      <td>23697</td>\n",
              "      <td>13</td>\n",
              "      <td>11475000.0</td>\n",
              "      <td>76.75</td>\n",
              "      <td>2017-03-28</td>\n",
              "      <td>2</td>\n",
              "      <td>3.00</td>\n",
              "      <td>17.0</td>\n",
              "      <td>44.899452</td>\n",
              "      <td>12</td>\n",
              "      <td>False</td>\n",
              "      <td>...</td>\n",
              "      <td>3.0</td>\n",
              "      <td>196.0</td>\n",
              "      <td>602.0</td>\n",
              "      <td>149511.0</td>\n",
              "      <td>1</td>\n",
              "      <td>3</td>\n",
              "      <td>2017</td>\n",
              "      <td>другой</td>\n",
              "      <td>0.585009</td>\n",
              "      <td>0.303583</td>\n",
              "    </tr>\n",
              "  </tbody>\n",
              "</table>\n",
              "<p>17990 rows × 29 columns</p>\n",
              "</div>"
            ],
            "text/plain": [
              "       total_images  last_price  total_area first_day_exposition  rooms  \\\n",
              "1                 7   3350000.0       40.40           2018-12-04      1   \n",
              "2                10   5196000.0       56.00           2015-08-20      2   \n",
              "4                 2  10000000.0      100.00           2018-06-19      2   \n",
              "5                10   2890000.0       30.40           2018-09-10      1   \n",
              "6                 6   3700000.0       37.30           2017-11-02      1   \n",
              "...             ...         ...         ...                  ...    ...   \n",
              "23691            11   9470000.0       72.90           2016-10-13      2   \n",
              "23692             2   1350000.0       30.00           2017-07-07      1   \n",
              "23693             9   4600000.0       62.40           2016-08-05      3   \n",
              "23695            14   3100000.0       59.00           2018-01-15      3   \n",
              "23697            13  11475000.0       76.75           2017-03-28      2   \n",
              "\n",
              "       ceiling_height  floors_total  living_area  floor  is_apartment  ...  \\\n",
              "1                2.63          11.0    18.600000      1         False  ...   \n",
              "2                2.70           5.0    34.300000      4         False  ...   \n",
              "4                3.03          14.0    32.000000     13         False  ...   \n",
              "5                2.65          12.0    14.400000      5         False  ...   \n",
              "6                2.64          26.0    10.600000      6         False  ...   \n",
              "...               ...           ...          ...    ...           ...  ...   \n",
              "23691            2.75          25.0    40.300000      7         False  ...   \n",
              "23692            2.60           5.0    17.500000      4         False  ...   \n",
              "23693            2.60           9.0    40.000000      8         False  ...   \n",
              "23695            2.50           5.0    38.000000      4         False  ...   \n",
              "23697            3.00          17.0    44.899452     12         False  ...   \n",
              "\n",
              "       ponds_around3000  ponds_nearest  days_exposition  meter_price  \\\n",
              "1                   0.0            NaN             81.0      82921.0   \n",
              "2                   2.0          574.0            558.0      92786.0   \n",
              "4                   1.0           48.0            121.0     100000.0   \n",
              "5                   NaN            NaN             55.0      95066.0   \n",
              "6                   0.0            NaN            155.0      99196.0   \n",
              "...                 ...            ...              ...          ...   \n",
              "23691               1.0          806.0            519.0     129904.0   \n",
              "23692               NaN            NaN            413.0      45000.0   \n",
              "23693               1.0          675.0            239.0      73718.0   \n",
              "23695               NaN            NaN             45.0      52542.0   \n",
              "23697               3.0          196.0            602.0     149511.0   \n",
              "\n",
              "      weekday_exposition  month_exposition  year_exposition  floor_category  \\\n",
              "1                      1                12             2018          первый   \n",
              "2                      3                 8             2015          другой   \n",
              "4                      1                 6             2018          другой   \n",
              "5                      0                 9             2018          другой   \n",
              "6                      3                11             2017          другой   \n",
              "...                  ...               ...              ...             ...   \n",
              "23691                  3                10             2016          другой   \n",
              "23692                  4                 7             2017          другой   \n",
              "23693                  4                 8             2016          другой   \n",
              "23695                  0                 1             2018          другой   \n",
              "23697                  1                 3             2017          другой   \n",
              "\n",
              "       living_over_total  kitchen_over_total  \n",
              "1               0.460396            0.272277  \n",
              "2               0.612500            0.148214  \n",
              "4               0.320000            0.410000  \n",
              "5               0.473684            0.299342  \n",
              "6               0.284182            0.386059  \n",
              "...                  ...                 ...  \n",
              "23691           0.552812            0.145405  \n",
              "23692           0.583333            0.200000  \n",
              "23693           0.641026            0.128205  \n",
              "23695           0.644068            0.144068  \n",
              "23697           0.585009            0.303583  \n",
              "\n",
              "[17990 rows x 29 columns]"
            ]
          },
          "metadata": {
            "tags": []
          },
          "execution_count": 42
        }
      ]
    },
    {
      "cell_type": "code",
      "metadata": {
        "id": "HMWyn3Nemksf",
        "colab_type": "code",
        "colab": {},
        "outputId": "2155239f-79b4-45ef-9e82-5849fc3bf2ce"
      },
      "source": [
        "print('Всего было удалено {:.0%} строк'.format(1 - len(new_df) / len(df)))"
      ],
      "execution_count": 0,
      "outputs": [
        {
          "output_type": "stream",
          "text": [
            "Всего было удалено 24% строк\n"
          ],
          "name": "stdout"
        }
      ]
    },
    {
      "cell_type": "code",
      "metadata": {
        "id": "-gfXiY8Vmksq",
        "colab_type": "code",
        "colab": {},
        "outputId": "5d2cdc2c-3185-487b-b64c-cd1dabad6171"
      },
      "source": [
        "df.query('days_exposition == 1')"
      ],
      "execution_count": 0,
      "outputs": [
        {
          "output_type": "execute_result",
          "data": {
            "text/html": [
              "<div>\n",
              "<style scoped>\n",
              "    .dataframe tbody tr th:only-of-type {\n",
              "        vertical-align: middle;\n",
              "    }\n",
              "\n",
              "    .dataframe tbody tr th {\n",
              "        vertical-align: top;\n",
              "    }\n",
              "\n",
              "    .dataframe thead th {\n",
              "        text-align: right;\n",
              "    }\n",
              "</style>\n",
              "<table border=\"1\" class=\"dataframe\">\n",
              "  <thead>\n",
              "    <tr style=\"text-align: right;\">\n",
              "      <th></th>\n",
              "      <th>total_images</th>\n",
              "      <th>last_price</th>\n",
              "      <th>total_area</th>\n",
              "      <th>first_day_exposition</th>\n",
              "      <th>rooms</th>\n",
              "      <th>ceiling_height</th>\n",
              "      <th>floors_total</th>\n",
              "      <th>living_area</th>\n",
              "      <th>floor</th>\n",
              "      <th>is_apartment</th>\n",
              "      <th>...</th>\n",
              "      <th>ponds_around3000</th>\n",
              "      <th>ponds_nearest</th>\n",
              "      <th>days_exposition</th>\n",
              "      <th>meter_price</th>\n",
              "      <th>weekday_exposition</th>\n",
              "      <th>month_exposition</th>\n",
              "      <th>year_exposition</th>\n",
              "      <th>floor_category</th>\n",
              "      <th>living_over_total</th>\n",
              "      <th>kitchen_over_total</th>\n",
              "    </tr>\n",
              "  </thead>\n",
              "  <tbody>\n",
              "    <tr>\n",
              "      <td>1632</td>\n",
              "      <td>19</td>\n",
              "      <td>4000000.0</td>\n",
              "      <td>49.9</td>\n",
              "      <td>2019-05-01</td>\n",
              "      <td>2</td>\n",
              "      <td>2.5</td>\n",
              "      <td>9.0</td>\n",
              "      <td>25.0</td>\n",
              "      <td>1</td>\n",
              "      <td>False</td>\n",
              "      <td>...</td>\n",
              "      <td>1.0</td>\n",
              "      <td>681.0</td>\n",
              "      <td>1.0</td>\n",
              "      <td>80160.0</td>\n",
              "      <td>2</td>\n",
              "      <td>5</td>\n",
              "      <td>2019</td>\n",
              "      <td>первый</td>\n",
              "      <td>0.501002</td>\n",
              "      <td>0.200401</td>\n",
              "    </tr>\n",
              "  </tbody>\n",
              "</table>\n",
              "<p>1 rows × 29 columns</p>\n",
              "</div>"
            ],
            "text/plain": [
              "      total_images  last_price  total_area first_day_exposition  rooms  \\\n",
              "1632            19   4000000.0        49.9           2019-05-01      2   \n",
              "\n",
              "      ceiling_height  floors_total  living_area  floor  is_apartment  ...  \\\n",
              "1632             2.5           9.0         25.0      1         False  ...   \n",
              "\n",
              "      ponds_around3000  ponds_nearest  days_exposition  meter_price  \\\n",
              "1632               1.0          681.0              1.0      80160.0   \n",
              "\n",
              "     weekday_exposition  month_exposition  year_exposition  floor_category  \\\n",
              "1632                  2                 5             2019          первый   \n",
              "\n",
              "      living_over_total  kitchen_over_total  \n",
              "1632           0.501002            0.200401  \n",
              "\n",
              "[1 rows x 29 columns]"
            ]
          },
          "metadata": {
            "tags": []
          },
          "execution_count": 44
        }
      ]
    },
    {
      "cell_type": "markdown",
      "metadata": {
        "id": "L8z4uZjwmksu",
        "colab_type": "text"
      },
      "source": [
        "Вероятно, объявление было дано по ошибке, либо с неправильными данными, поэтому его так быстро сняли. Однако эта \"единица\" никак не влияет на среднее число дней на продаже, поэтому нет смысла убирать эту строку."
      ]
    },
    {
      "cell_type": "markdown",
      "metadata": {
        "id": "thG328Lemksx",
        "colab_type": "text"
      },
      "source": [
        "В результате анализа кроме выбросов были обнаружены явно ошибочные значения, например, 1- и 100-метровые потолки."
      ]
    },
    {
      "cell_type": "markdown",
      "metadata": {
        "id": "FPzYdM9xmksz",
        "colab_type": "text"
      },
      "source": [
        "Автоматизируем построение столбчатых диаграмм, введением пользовательской функции:"
      ]
    },
    {
      "cell_type": "code",
      "metadata": {
        "id": "Kkie2jJ6mks0",
        "colab_type": "code",
        "colab": {}
      },
      "source": [
        "def plot_mybar(data, index, values):\n",
        "    (data\n",
        "     .pivot_table(index=index, values=values, aggfunc='median')\n",
        "     .sort_values(by=values)\n",
        "     .plot(kind='bar', y=values, figsize=(6,6))\n",
        "    )"
      ],
      "execution_count": 0,
      "outputs": []
    },
    {
      "cell_type": "code",
      "metadata": {
        "id": "PFBswFn6mks4",
        "colab_type": "code",
        "colab": {},
        "outputId": "2f9c43d4-29c6-4566-b091-0626f7ab33dc"
      },
      "source": [
        "plot_mybar(new_df, 'floor_category', 'last_price')"
      ],
      "execution_count": 0,
      "outputs": [
        {
          "output_type": "display_data",
          "data": {
            "image/png": "[encoded data removed]",
            "text/plain": [
              "<Figure size 432x432 with 1 Axes>"
            ]
          },
          "metadata": {
            "tags": [],
            "needs_background": "light"
          }
        }
      ]
    },
    {
      "cell_type": "markdown",
      "metadata": {
        "id": "8gZ8DA54mktD",
        "colab_type": "text"
      },
      "source": [
        "Зависимость цены от того, на каком этаже расположена квартира: первом, последнем или другом:"
      ]
    },
    {
      "cell_type": "code",
      "metadata": {
        "id": "AgHqwUfRmktE",
        "colab_type": "code",
        "colab": {},
        "outputId": "490a117b-9bb5-42c6-8a67-a72dd5148017"
      },
      "source": [
        "new_df.pivot_table(index='floor_category', values='last_price', aggfunc='count').rename(columns={'last_price':'counts'})"
      ],
      "execution_count": 0,
      "outputs": [
        {
          "output_type": "execute_result",
          "data": {
            "text/html": [
              "<div>\n",
              "<style scoped>\n",
              "    .dataframe tbody tr th:only-of-type {\n",
              "        vertical-align: middle;\n",
              "    }\n",
              "\n",
              "    .dataframe tbody tr th {\n",
              "        vertical-align: top;\n",
              "    }\n",
              "\n",
              "    .dataframe thead th {\n",
              "        text-align: right;\n",
              "    }\n",
              "</style>\n",
              "<table border=\"1\" class=\"dataframe\">\n",
              "  <thead>\n",
              "    <tr style=\"text-align: right;\">\n",
              "      <th></th>\n",
              "      <th>counts</th>\n",
              "    </tr>\n",
              "    <tr>\n",
              "      <th>floor_category</th>\n",
              "      <th></th>\n",
              "    </tr>\n",
              "  </thead>\n",
              "  <tbody>\n",
              "    <tr>\n",
              "      <td>другой</td>\n",
              "      <td>13433</td>\n",
              "    </tr>\n",
              "    <tr>\n",
              "      <td>первый</td>\n",
              "      <td>2184</td>\n",
              "    </tr>\n",
              "    <tr>\n",
              "      <td>последний</td>\n",
              "      <td>2373</td>\n",
              "    </tr>\n",
              "  </tbody>\n",
              "</table>\n",
              "</div>"
            ],
            "text/plain": [
              "                counts\n",
              "floor_category        \n",
              "другой           13433\n",
              "первый            2184\n",
              "последний         2373"
            ]
          },
          "metadata": {
            "tags": []
          },
          "execution_count": 47
        }
      ]
    },
    {
      "cell_type": "markdown",
      "metadata": {
        "id": "t1jb5CjHmktJ",
        "colab_type": "text"
      },
      "source": [
        "Вполне ожидаемый результат: самые желанные и дорогие квартиры не на первых и не на последних этажах. Посмотрим в отдельности на коэффициенты корреляции между некоторыми парами величин:"
      ]
    },
    {
      "cell_type": "code",
      "metadata": {
        "id": "aMBqVoFTmktL",
        "colab_type": "code",
        "colab": {},
        "outputId": "9a0c0ef0-147e-4f08-ae58-b387f2bc29db"
      },
      "source": [
        "new_df['rooms'].corr(new_df['last_price'])"
      ],
      "execution_count": 0,
      "outputs": [
        {
          "output_type": "execute_result",
          "data": {
            "text/plain": [
              "0.4726650656070476"
            ]
          },
          "metadata": {
            "tags": []
          },
          "execution_count": 48
        }
      ]
    },
    {
      "cell_type": "code",
      "metadata": {
        "id": "BLxI1aFamktT",
        "colab_type": "code",
        "colab": {},
        "outputId": "f8b004c2-a90e-4eef-9d81-e0a672ba79ff"
      },
      "source": [
        "new_df['ceiling_height'].corr(new_df['last_price'])"
      ],
      "execution_count": 0,
      "outputs": [
        {
          "output_type": "execute_result",
          "data": {
            "text/plain": [
              "0.4036091037056529"
            ]
          },
          "metadata": {
            "tags": []
          },
          "execution_count": 49
        }
      ]
    },
    {
      "cell_type": "code",
      "metadata": {
        "id": "iC-oFGYUmktb",
        "colab_type": "code",
        "colab": {},
        "outputId": "908b9714-6b5a-494e-9ab1-5fbce817baab"
      },
      "source": [
        "new_df['total_area'].corr(new_df['last_price']) # cамая большая корреляция, естественно, у цены с площадью"
      ],
      "execution_count": 0,
      "outputs": [
        {
          "output_type": "execute_result",
          "data": {
            "text/plain": [
              "0.7381980847500919"
            ]
          },
          "metadata": {
            "tags": []
          },
          "execution_count": 50
        }
      ]
    },
    {
      "cell_type": "code",
      "metadata": {
        "id": "Eexqk6tPmktp",
        "colab_type": "code",
        "colab": {},
        "outputId": "b79b6c2b-f242-40fd-f88c-564463ff83fd"
      },
      "source": [
        "new_df['cityCenters_nearest'].corr(new_df['last_price'])"
      ],
      "execution_count": 0,
      "outputs": [
        {
          "output_type": "execute_result",
          "data": {
            "text/plain": [
              "-0.34071220580548445"
            ]
          },
          "metadata": {
            "tags": []
          },
          "execution_count": 51
        }
      ]
    },
    {
      "cell_type": "code",
      "metadata": {
        "id": "fKBcXPwtmktv",
        "colab_type": "code",
        "colab": {},
        "outputId": "95b112b3-11cc-432c-fa60-9e7a65bdc461"
      },
      "source": [
        "new_df['airports_nearest'].corr(new_df['last_price']) # а вот от дальности до аэропорта цена не зависит совсем"
      ],
      "execution_count": 0,
      "outputs": [
        {
          "output_type": "execute_result",
          "data": {
            "text/plain": [
              "-0.06804194249121817"
            ]
          },
          "metadata": {
            "tags": []
          },
          "execution_count": 52
        }
      ]
    },
    {
      "cell_type": "code",
      "metadata": {
        "id": "sTgBuhT_mkt5",
        "colab_type": "code",
        "colab": {},
        "outputId": "e57a6fc0-8b1c-42cc-bf08-0daad05f4f53"
      },
      "source": [
        "new_df['parks_around3000'].corr(new_df['last_price'])"
      ],
      "execution_count": 0,
      "outputs": [
        {
          "output_type": "execute_result",
          "data": {
            "text/plain": [
              "0.11440708870154595"
            ]
          },
          "metadata": {
            "tags": []
          },
          "execution_count": 53
        }
      ]
    },
    {
      "cell_type": "code",
      "metadata": {
        "id": "MoT50FDRmkuB",
        "colab_type": "code",
        "colab": {},
        "outputId": "ceb6c9f7-315f-446d-cffa-3df560eb9ed0"
      },
      "source": [
        "new_df['ponds_around3000'].corr(new_df['last_price'])"
      ],
      "execution_count": 0,
      "outputs": [
        {
          "output_type": "execute_result",
          "data": {
            "text/plain": [
              "0.14820961262181995"
            ]
          },
          "metadata": {
            "tags": []
          },
          "execution_count": 54
        }
      ]
    },
    {
      "cell_type": "code",
      "metadata": {
        "id": "8vtknu-7mkuH",
        "colab_type": "code",
        "colab": {},
        "outputId": "67369918-4492-4ec2-dbcc-94e9e6d10eab"
      },
      "source": [
        "plot_mybar(new_df, 'parks_around3000', 'last_price')"
      ],
      "execution_count": 0,
      "outputs": [
        {
          "output_type": "display_data",
          "data": {
            "image/png": "[encoded data removed]",
            "text/plain": [
              "<Figure size 432x432 with 1 Axes>"
            ]
          },
          "metadata": {
            "tags": [],
            "needs_background": "light"
          }
        }
      ]
    },
    {
      "cell_type": "code",
      "metadata": {
        "id": "hk-GYboZmkuM",
        "colab_type": "code",
        "colab": {},
        "outputId": "9d0e5647-2d3f-490c-d5f6-6f78738503cf"
      },
      "source": [
        "plot_mybar(new_df, 'ponds_around3000', 'last_price')"
      ],
      "execution_count": 0,
      "outputs": [
        {
          "output_type": "display_data",
          "data": {
            "image/png": "[encoded data removed]",
            "text/plain": [
              "<Figure size 432x432 with 1 Axes>"
            ]
          },
          "metadata": {
            "tags": [],
            "needs_background": "light"
          }
        }
      ]
    },
    {
      "cell_type": "markdown",
      "metadata": {
        "id": "6ysl9rETmkuS",
        "colab_type": "text"
      },
      "source": [
        "Наличие парков и прудов неподалеку от дома так же влияет на стоимость квартиры, однако в гораздо меньшей степени, чем число комнат, этаж, общая площадь, высота потолков и расстояние до центра."
      ]
    },
    {
      "cell_type": "code",
      "metadata": {
        "id": "t3_VP47NmkuT",
        "colab_type": "code",
        "colab": {}
      },
      "source": [
        "def plot_myline(data, index, values):\n",
        "    (data\n",
        "     .pivot_table(index=index, values=values)\n",
        "     .plot(style='-', y=values, figsize=(6,6))\n",
        "    )   "
      ],
      "execution_count": 0,
      "outputs": []
    },
    {
      "cell_type": "markdown",
      "metadata": {
        "id": "w_fxRIDCmkuY",
        "colab_type": "text"
      },
      "source": [
        "Зависимость цены от того, в какой день было размещено объявление о продаже квартиры:"
      ]
    },
    {
      "cell_type": "code",
      "metadata": {
        "id": "qXBaF6TRmkuZ",
        "colab_type": "code",
        "colab": {},
        "outputId": "764e92b3-463f-4d1d-fe61-a7d9c0283d12"
      },
      "source": [
        "plot_myline(new_df, 'weekday_exposition','last_price')"
      ],
      "execution_count": 0,
      "outputs": [
        {
          "output_type": "display_data",
          "data": {
            "image/png": "[encoded data removed]",
            "text/plain": [
              "<Figure size 432x432 with 1 Axes>"
            ]
          },
          "metadata": {
            "tags": [],
            "needs_background": "light"
          }
        }
      ]
    },
    {
      "cell_type": "markdown",
      "metadata": {
        "id": "RsFskLaKmkue",
        "colab_type": "text"
      },
      "source": [
        "Зависимость цены от того, в какой месяц было размещено объявление о продаже квартиры:"
      ]
    },
    {
      "cell_type": "code",
      "metadata": {
        "id": "uog62LBumkuf",
        "colab_type": "code",
        "colab": {},
        "outputId": "b29bd432-1e53-4586-c7fd-e7fa563f2d91"
      },
      "source": [
        "plot_myline(new_df, 'month_exposition','last_price')"
      ],
      "execution_count": 0,
      "outputs": [
        {
          "output_type": "display_data",
          "data": {
            "image/png": "[encoded data removed]",
            "text/plain": [
              "<Figure size 432x432 with 1 Axes>"
            ]
          },
          "metadata": {
            "tags": [],
            "needs_background": "light"
          }
        }
      ]
    },
    {
      "cell_type": "markdown",
      "metadata": {
        "id": "B8SuTwlImkuj",
        "colab_type": "text"
      },
      "source": [
        "Из графиков хорошо видно, что никакой зависимости цены от дня или месяца размещения квартиры нет: цены, усредненные по дню (месяцу), флуктуируют на 5-7% от дня к дню (месяца к месяцу)."
      ]
    },
    {
      "cell_type": "markdown",
      "metadata": {
        "id": "uXHL-mS7mkum",
        "colab_type": "text"
      },
      "source": [
        "Зависимость цены от того, в какой год было размещено объявление о продаже квартиры:"
      ]
    },
    {
      "cell_type": "code",
      "metadata": {
        "id": "5YuC8y2Rmkur",
        "colab_type": "code",
        "colab": {},
        "outputId": "2f3f46ff-4aed-4ba4-b483-91764ac5b877"
      },
      "source": [
        "plot_myline(new_df, 'year_exposition','last_price')"
      ],
      "execution_count": 0,
      "outputs": [
        {
          "output_type": "display_data",
          "data": {
            "image/png": "[encoded data removed]",
            "text/plain": [
              "<Figure size 432x432 with 1 Axes>"
            ]
          },
          "metadata": {
            "tags": [],
            "needs_background": "light"
          }
        }
      ]
    },
    {
      "cell_type": "markdown",
      "metadata": {
        "id": "javycgMVmku0",
        "colab_type": "text"
      },
      "source": [
        "А здесь просмативается закономерность. После введения санкций в 2014 году люди стали беднеть, цены на недвижимость падать. Однако с 2018 года снова начался рост цен на жилье."
      ]
    },
    {
      "cell_type": "markdown",
      "metadata": {
        "id": "Zj-zjqBimku2",
        "colab_type": "text"
      },
      "source": [
        "Посмотрим, есть ли зависимость цены от количества комнат и удаленности квартиры от центра. Но сначала сгруппируем на зоны по удаленности:"
      ]
    },
    {
      "cell_type": "code",
      "metadata": {
        "id": "NdNnYkHKmku3",
        "colab_type": "code",
        "colab": {},
        "outputId": "ec1c4bb7-fe99-4e14-e239-e38a451f5350"
      },
      "source": [
        "def dist_divide(dist):\n",
        "    if 0 <= dist < 2000:\n",
        "        return 'до 2 км'\n",
        "    elif 2000 <= dist < 5000:\n",
        "        return 'от 2 до 5 км'\n",
        "    elif 5000 <= dist < 8000:\n",
        "        return 'от 5 до 8 км'\n",
        "    elif 8000 <= dist < 15000:\n",
        "        return 'от 8 до 15 км'\n",
        "    elif 15000 <= dist < 30000:\n",
        "        return 'от 15 до 30 км'\n",
        "    elif dist >= 30000:\n",
        "        return 'больше 30 км'\n",
        "\n",
        "new_df['center_dist_category'] = new_df['cityCenters_nearest'].apply(dist_divide)\n",
        "plot_mybar(new_df, 'center_dist_category', 'last_price')"
      ],
      "execution_count": 0,
      "outputs": [
        {
          "output_type": "stream",
          "text": [
            "/opt/conda/lib/python3.7/site-packages/ipykernel_launcher.py:15: SettingWithCopyWarning: \n",
            "A value is trying to be set on a copy of a slice from a DataFrame.\n",
            "Try using .loc[row_indexer,col_indexer] = value instead\n",
            "\n",
            "See the caveats in the documentation: http://pandas.pydata.org/pandas-docs/stable/user_guide/indexing.html#returning-a-view-versus-a-copy\n",
            "  from ipykernel import kernelapp as app\n"
          ],
          "name": "stderr"
        },
        {
          "output_type": "display_data",
          "data": {
            "image/png": "[encoded data removed]",
            "text/plain": [
              "<Figure size 432x432 with 1 Axes>"
            ]
          },
          "metadata": {
            "tags": [],
            "needs_background": "light"
          }
        }
      ]
    },
    {
      "cell_type": "markdown",
      "metadata": {
        "id": "72XTKoJfmku7",
        "colab_type": "text"
      },
      "source": [
        "Видим, что, чем ближе к центру, тем средняя цена действительно выше."
      ]
    },
    {
      "cell_type": "code",
      "metadata": {
        "id": "_l8t9D1Lmku9",
        "colab_type": "code",
        "colab": {},
        "outputId": "2c7dbe0f-e313-4612-e37d-11cc5b61fcab"
      },
      "source": [
        "plot_mybar(new_df, 'rooms', 'last_price')"
      ],
      "execution_count": 0,
      "outputs": [
        {
          "output_type": "display_data",
          "data": {
            "image/png": "[encoded data removed]",
            "text/plain": [
              "<Figure size 432x432 with 1 Axes>"
            ]
          },
          "metadata": {
            "tags": [],
            "needs_background": "light"
          }
        }
      ]
    },
    {
      "cell_type": "markdown",
      "metadata": {
        "id": "E6U9pxj_mkvC",
        "colab_type": "text"
      },
      "source": [
        "Чем больше комнат (т.е. чем больше общая площадь), тем дороже квартира."
      ]
    },
    {
      "cell_type": "code",
      "metadata": {
        "id": "kMbjsf0PmkvD",
        "colab_type": "code",
        "colab": {}
      },
      "source": [
        "top_10 = (new_df\n",
        "          .pivot_table(index='locality_name', values='total_images', aggfunc='count')\n",
        "          .rename(columns={'total_images':'всего объявлений'})\n",
        "          .sort_values(by='всего объявлений', ascending=False)\n",
        "          .head(10)\n",
        "         )"
      ],
      "execution_count": 0,
      "outputs": []
    },
    {
      "cell_type": "code",
      "metadata": {
        "id": "gJMlV5kdmkvH",
        "colab_type": "code",
        "colab": {},
        "outputId": "a88780ad-eec6-4757-ad57-3e99f6437cec"
      },
      "source": [
        "top_10['meter_price_mean'] = (new_df\n",
        "                              .query('locality_name in @top_10.index')\n",
        "                              .groupby('locality_name')['meter_price']\n",
        "                              .mean()\n",
        "                             )\n",
        "top_10.sort_values(by='meter_price_mean',ascending=False)"
      ],
      "execution_count": 0,
      "outputs": [
        {
          "output_type": "execute_result",
          "data": {
            "text/html": [
              "<div>\n",
              "<style scoped>\n",
              "    .dataframe tbody tr th:only-of-type {\n",
              "        vertical-align: middle;\n",
              "    }\n",
              "\n",
              "    .dataframe tbody tr th {\n",
              "        vertical-align: top;\n",
              "    }\n",
              "\n",
              "    .dataframe thead th {\n",
              "        text-align: right;\n",
              "    }\n",
              "</style>\n",
              "<table border=\"1\" class=\"dataframe\">\n",
              "  <thead>\n",
              "    <tr style=\"text-align: right;\">\n",
              "      <th></th>\n",
              "      <th>всего объявлений</th>\n",
              "      <th>meter_price_mean</th>\n",
              "    </tr>\n",
              "    <tr>\n",
              "      <th>locality_name</th>\n",
              "      <th></th>\n",
              "      <th></th>\n",
              "    </tr>\n",
              "  </thead>\n",
              "  <tbody>\n",
              "    <tr>\n",
              "      <td>Санкт-Петербург</td>\n",
              "      <td>11633</td>\n",
              "      <td>105569.093011</td>\n",
              "    </tr>\n",
              "    <tr>\n",
              "      <td>Пушкин</td>\n",
              "      <td>272</td>\n",
              "      <td>100023.845588</td>\n",
              "    </tr>\n",
              "    <tr>\n",
              "      <td>деревня Кудрово</td>\n",
              "      <td>278</td>\n",
              "      <td>92670.708633</td>\n",
              "    </tr>\n",
              "    <tr>\n",
              "      <td>посёлок Парголово</td>\n",
              "      <td>292</td>\n",
              "      <td>89472.328767</td>\n",
              "    </tr>\n",
              "    <tr>\n",
              "      <td>посёлок Мурино</td>\n",
              "      <td>530</td>\n",
              "      <td>85839.726415</td>\n",
              "    </tr>\n",
              "    <tr>\n",
              "      <td>посёлок Шушары</td>\n",
              "      <td>393</td>\n",
              "      <td>77942.366412</td>\n",
              "    </tr>\n",
              "    <tr>\n",
              "      <td>Колпино</td>\n",
              "      <td>292</td>\n",
              "      <td>74676.660959</td>\n",
              "    </tr>\n",
              "    <tr>\n",
              "      <td>Гатчина</td>\n",
              "      <td>250</td>\n",
              "      <td>68063.776000</td>\n",
              "    </tr>\n",
              "    <tr>\n",
              "      <td>Всеволожск</td>\n",
              "      <td>320</td>\n",
              "      <td>66764.490625</td>\n",
              "    </tr>\n",
              "    <tr>\n",
              "      <td>Выборг</td>\n",
              "      <td>189</td>\n",
              "      <td>56864.338624</td>\n",
              "    </tr>\n",
              "  </tbody>\n",
              "</table>\n",
              "</div>"
            ],
            "text/plain": [
              "                   всего объявлений  meter_price_mean\n",
              "locality_name                                        \n",
              "Санкт-Петербург               11633     105569.093011\n",
              "Пушкин                          272     100023.845588\n",
              "деревня Кудрово                 278      92670.708633\n",
              "посёлок Парголово               292      89472.328767\n",
              "посёлок Мурино                  530      85839.726415\n",
              "посёлок Шушары                  393      77942.366412\n",
              "Колпино                         292      74676.660959\n",
              "Гатчина                         250      68063.776000\n",
              "Всеволожск                      320      66764.490625\n",
              "Выборг                          189      56864.338624"
            ]
          },
          "metadata": {
            "tags": []
          },
          "execution_count": 64
        }
      ]
    },
    {
      "cell_type": "markdown",
      "metadata": {
        "id": "JL2JA-h-mkvL",
        "colab_type": "text"
      },
      "source": [
        "В Петербурге самая большая цена за метр, а в Выборге самая маленькая. Вполне ожидаемо, что Питер дороже всех."
      ]
    },
    {
      "cell_type": "code",
      "metadata": {
        "id": "ZdgeQOrkmkvM",
        "colab_type": "code",
        "colab": {},
        "outputId": "8e140580-3736-4558-bf09-3ba7957b599a"
      },
      "source": [
        "plot_mybar(top_10, 'locality_name', 'meter_price_mean')"
      ],
      "execution_count": 0,
      "outputs": [
        {
          "output_type": "display_data",
          "data": {
            "image/png": "[encoded data removed]",
            "text/plain": [
              "<Figure size 432x432 with 1 Axes>"
            ]
          },
          "metadata": {
            "tags": [],
            "needs_background": "light"
          }
        }
      ]
    },
    {
      "cell_type": "markdown",
      "metadata": {
        "id": "VFDYTfKlmkvS",
        "colab_type": "text"
      },
      "source": [
        "Выделим объявления только из Петербурга и подсчитаем некоторые средние:"
      ]
    },
    {
      "cell_type": "code",
      "metadata": {
        "id": "R1nSZs9GmkvU",
        "colab_type": "code",
        "colab": {},
        "outputId": "f896bf46-cac4-4d41-d701-4f3ebd3045e9"
      },
      "source": [
        "peter = new_df.query('locality_name == \"Санкт-Петербург\"')\n",
        "peter['center_dist_km'] = round(peter['cityCenters_nearest'] / 1000)\n",
        "for item in peter.groupby('center_dist_km'): # группируем по расстоянию до центра в километрах\n",
        "    dist_km = item[0] # расстояние до центра\n",
        "    price_km = item[1]['meter_price'].median() # средняя цена за метр квартиры с данным расстоянием до центра\n",
        "    counts = len(item[1]['meter_price']) # число объявлений с данным расстоянием до центра\n",
        "    area_per_km = item[1]['total_area'].median() # средняя общая площадь квартиры с данным расстоянием до центра\n",
        "    peter.loc[peter['center_dist_km'] == dist_km , 'price_per_km'] = price_km\n",
        "    peter.loc[peter['center_dist_km'] == dist_km , 'counts'] = counts\n",
        "    peter.loc[peter['center_dist_km'] == dist_km , 'area_per_km'] = area_per_km\n",
        "peter[['center_dist_km', 'meter_price', 'price_per_km', 'counts', 'area_per_km']]"
      ],
      "execution_count": 0,
      "outputs": [
        {
          "output_type": "stream",
          "text": [
            "/opt/conda/lib/python3.7/site-packages/ipykernel_launcher.py:2: SettingWithCopyWarning: \n",
            "A value is trying to be set on a copy of a slice from a DataFrame.\n",
            "Try using .loc[row_indexer,col_indexer] = value instead\n",
            "\n",
            "See the caveats in the documentation: http://pandas.pydata.org/pandas-docs/stable/user_guide/indexing.html#returning-a-view-versus-a-copy\n",
            "  \n",
            "/opt/conda/lib/python3.7/site-packages/pandas/core/indexing.py:376: SettingWithCopyWarning: \n",
            "A value is trying to be set on a copy of a slice from a DataFrame.\n",
            "Try using .loc[row_indexer,col_indexer] = value instead\n",
            "\n",
            "See the caveats in the documentation: http://pandas.pydata.org/pandas-docs/stable/user_guide/indexing.html#returning-a-view-versus-a-copy\n",
            "  self.obj[key] = _infer_fill_value(value)\n",
            "/opt/conda/lib/python3.7/site-packages/pandas/core/indexing.py:494: SettingWithCopyWarning: \n",
            "A value is trying to be set on a copy of a slice from a DataFrame.\n",
            "Try using .loc[row_indexer,col_indexer] = value instead\n",
            "\n",
            "See the caveats in the documentation: http://pandas.pydata.org/pandas-docs/stable/user_guide/indexing.html#returning-a-view-versus-a-copy\n",
            "  self.obj[item] = s\n"
          ],
          "name": "stderr"
        },
        {
          "output_type": "execute_result",
          "data": {
            "text/html": [
              "<div>\n",
              "<style scoped>\n",
              "    .dataframe tbody tr th:only-of-type {\n",
              "        vertical-align: middle;\n",
              "    }\n",
              "\n",
              "    .dataframe tbody tr th {\n",
              "        vertical-align: top;\n",
              "    }\n",
              "\n",
              "    .dataframe thead th {\n",
              "        text-align: right;\n",
              "    }\n",
              "</style>\n",
              "<table border=\"1\" class=\"dataframe\">\n",
              "  <thead>\n",
              "    <tr style=\"text-align: right;\">\n",
              "      <th></th>\n",
              "      <th>center_dist_km</th>\n",
              "      <th>meter_price</th>\n",
              "      <th>price_per_km</th>\n",
              "      <th>counts</th>\n",
              "      <th>area_per_km</th>\n",
              "    </tr>\n",
              "  </thead>\n",
              "  <tbody>\n",
              "    <tr>\n",
              "      <td>2</td>\n",
              "      <td>14.0</td>\n",
              "      <td>92786.0</td>\n",
              "      <td>101034.5</td>\n",
              "      <td>1070.0</td>\n",
              "      <td>46.5</td>\n",
              "    </tr>\n",
              "    <tr>\n",
              "      <td>4</td>\n",
              "      <td>8.0</td>\n",
              "      <td>100000.0</td>\n",
              "      <td>115000.0</td>\n",
              "      <td>401.0</td>\n",
              "      <td>56.5</td>\n",
              "    </tr>\n",
              "    <tr>\n",
              "      <td>9</td>\n",
              "      <td>15.0</td>\n",
              "      <td>88525.0</td>\n",
              "      <td>100000.0</td>\n",
              "      <td>1302.0</td>\n",
              "      <td>47.0</td>\n",
              "    </tr>\n",
              "    <tr>\n",
              "      <td>10</td>\n",
              "      <td>14.0</td>\n",
              "      <td>127525.0</td>\n",
              "      <td>101034.5</td>\n",
              "      <td>1070.0</td>\n",
              "      <td>46.5</td>\n",
              "    </tr>\n",
              "    <tr>\n",
              "      <td>15</td>\n",
              "      <td>14.0</td>\n",
              "      <td>119231.0</td>\n",
              "      <td>101034.5</td>\n",
              "      <td>1070.0</td>\n",
              "      <td>46.5</td>\n",
              "    </tr>\n",
              "    <tr>\n",
              "      <td>...</td>\n",
              "      <td>...</td>\n",
              "      <td>...</td>\n",
              "      <td>...</td>\n",
              "      <td>...</td>\n",
              "      <td>...</td>\n",
              "    </tr>\n",
              "    <tr>\n",
              "      <td>23688</td>\n",
              "      <td>14.0</td>\n",
              "      <td>91089.0</td>\n",
              "      <td>101034.5</td>\n",
              "      <td>1070.0</td>\n",
              "      <td>46.5</td>\n",
              "    </tr>\n",
              "    <tr>\n",
              "      <td>23689</td>\n",
              "      <td>16.0</td>\n",
              "      <td>100567.0</td>\n",
              "      <td>96515.0</td>\n",
              "      <td>1061.0</td>\n",
              "      <td>48.0</td>\n",
              "    </tr>\n",
              "    <tr>\n",
              "      <td>23690</td>\n",
              "      <td>6.0</td>\n",
              "      <td>105769.0</td>\n",
              "      <td>119571.0</td>\n",
              "      <td>355.0</td>\n",
              "      <td>58.0</td>\n",
              "    </tr>\n",
              "    <tr>\n",
              "      <td>23691</td>\n",
              "      <td>4.0</td>\n",
              "      <td>129904.0</td>\n",
              "      <td>111667.0</td>\n",
              "      <td>329.0</td>\n",
              "      <td>66.6</td>\n",
              "    </tr>\n",
              "    <tr>\n",
              "      <td>23697</td>\n",
              "      <td>10.0</td>\n",
              "      <td>149511.0</td>\n",
              "      <td>104651.0</td>\n",
              "      <td>581.0</td>\n",
              "      <td>46.0</td>\n",
              "    </tr>\n",
              "  </tbody>\n",
              "</table>\n",
              "<p>11633 rows × 5 columns</p>\n",
              "</div>"
            ],
            "text/plain": [
              "       center_dist_km  meter_price  price_per_km  counts  area_per_km\n",
              "2                14.0      92786.0      101034.5  1070.0         46.5\n",
              "4                 8.0     100000.0      115000.0   401.0         56.5\n",
              "9                15.0      88525.0      100000.0  1302.0         47.0\n",
              "10               14.0     127525.0      101034.5  1070.0         46.5\n",
              "15               14.0     119231.0      101034.5  1070.0         46.5\n",
              "...               ...          ...           ...     ...          ...\n",
              "23688            14.0      91089.0      101034.5  1070.0         46.5\n",
              "23689            16.0     100567.0       96515.0  1061.0         48.0\n",
              "23690             6.0     105769.0      119571.0   355.0         58.0\n",
              "23691             4.0     129904.0      111667.0   329.0         66.6\n",
              "23697            10.0     149511.0      104651.0   581.0         46.0\n",
              "\n",
              "[11633 rows x 5 columns]"
            ]
          },
          "metadata": {
            "tags": []
          },
          "execution_count": 66
        }
      ]
    },
    {
      "cell_type": "code",
      "metadata": {
        "id": "_yPXT0ifmkvY",
        "colab_type": "code",
        "colab": {},
        "outputId": "74ee6580-e17b-4dda-ce31-69b74494a4da"
      },
      "source": [
        "\n",
        "peter.plot(kind='hexbin',y='center_dist_km', x='meter_price')\n"
      ],
      "execution_count": 0,
      "outputs": [
        {
          "output_type": "execute_result",
          "data": {
            "text/plain": [
              "<matplotlib.axes._subplots.AxesSubplot at 0x7f75426afd90>"
            ]
          },
          "metadata": {
            "tags": []
          },
          "execution_count": 80
        },
        {
          "output_type": "display_data",
          "data": {
            "image/png": "[encoded data removed]",
            "text/plain": [
              "<Figure size 432x288 with 2 Axes>"
            ]
          },
          "metadata": {
            "tags": [],
            "needs_background": "light"
          }
        }
      ]
    },
    {
      "cell_type": "code",
      "metadata": {
        "id": "FygPkScMmkvd",
        "colab_type": "code",
        "colab": {},
        "outputId": "d7d0261a-7e9a-4840-a8ce-bdd10fc969ff"
      },
      "source": [
        "peter.sort_values(by='center_dist_km').plot(style='o-', x='center_dist_km', y='price_per_km', figsize=(6,6), title='средняя цена за метр')\n",
        "plt.xlim(0, 30)\n",
        "plt.show()"
      ],
      "execution_count": 0,
      "outputs": [
        {
          "output_type": "display_data",
          "data": {
            "image/png": "[encoded data removed]",
            "text/plain": [
              "<Figure size 432x432 with 1 Axes>"
            ]
          },
          "metadata": {
            "tags": [],
            "needs_background": "light"
          }
        }
      ]
    },
    {
      "cell_type": "code",
      "metadata": {
        "id": "M011z9AJmkvh",
        "colab_type": "code",
        "colab": {},
        "outputId": "5fb6c32b-a37b-4fd1-df0e-a8fe7c7775cf"
      },
      "source": [
        "peter.sort_values(by='center_dist_km').plot(style='o-', x='center_dist_km', y='counts', figsize=(6,6), title='число наблюдений')\n",
        "plt.show()"
      ],
      "execution_count": 0,
      "outputs": [
        {
          "output_type": "display_data",
          "data": {
            "image/png": "[encoded data removed]",
            "text/plain": [
              "<Figure size 432x432 with 1 Axes>"
            ]
          },
          "metadata": {
            "tags": [],
            "needs_background": "light"
          }
        }
      ]
    },
    {
      "cell_type": "code",
      "metadata": {
        "id": "XGo3y4Dnmkvm",
        "colab_type": "code",
        "colab": {},
        "outputId": "415a6dd1-8c2d-4dce-c1e8-a1b96622c4cc"
      },
      "source": [
        "peter.sort_values(by='center_dist_km').plot(style='o-', x='center_dist_km', y='area_per_km', figsize=(6,6), title='средняя общая площадь')\n",
        "plt.show()"
      ],
      "execution_count": 0,
      "outputs": [
        {
          "output_type": "display_data",
          "data": {
            "image/png": "[encoded data removed]",
            "text/plain": [
              "<Figure size 432x432 with 1 Axes>"
            ]
          },
          "metadata": {
            "tags": [],
            "needs_background": "light"
          }
        }
      ]
    },
    {
      "cell_type": "markdown",
      "metadata": {
        "id": "oNCbTRM-mkvu",
        "colab_type": "text"
      },
      "source": [
        "Из графика зависимости цены кв.метра от расстояния до центра видим интенсивный пик на 26-27 км и второй по величине - на 5-8 км от центра. Всплеск на 26-27 км может быть вызван двумя факторами:\n",
        "\n",
        "- для данных величин очень мало наблюдений в сравнении с другими расстояниями, поэтому медиана цены может флуктуировать очень значительно,\n",
        "- здесь может сказываться влияние пригорода, где есть новое элитное жилье. Видно, что с расстояния 26 км наблюдается резкий рост общей площади, что сказывается на росте цены за квадратный метр.\n",
        "\n",
        "Поэтому центром будет считать область другого пика, то есть значения от 0 до 8 км включительно."
      ]
    },
    {
      "cell_type": "markdown",
      "metadata": {
        "id": "HnVOnZnQmkvz",
        "colab_type": "text"
      },
      "source": [
        "Выделим центральную область:"
      ]
    },
    {
      "cell_type": "code",
      "metadata": {
        "id": "4sOmD0oGmkv0",
        "colab_type": "code",
        "colab": {}
      },
      "source": [
        "peter_center = peter.query('center_dist_km <= 8')"
      ],
      "execution_count": 0,
      "outputs": []
    },
    {
      "cell_type": "markdown",
      "metadata": {
        "id": "lr_d4p3Amkv-",
        "colab_type": "text"
      },
      "source": [
        "Изучим параметры площадь, цена, число комнат, высота потолков для квартир в центральной зоне."
      ]
    },
    {
      "cell_type": "code",
      "metadata": {
        "id": "6nQJXyy_mkwH",
        "colab_type": "code",
        "colab": {},
        "outputId": "937e779b-73e6-4fd1-fdd0-45f3389b9aac"
      },
      "source": [
        "peter_center_stats = peter_center[['total_area', 'last_price','ceiling_height', 'rooms']].describe()\n",
        "peter_stats = peter[['total_area', 'last_price','ceiling_height', 'rooms']].describe()\n",
        "stats_compare = peter_center_stats.join(peter_stats, lsuffix='_center')\n",
        "stats_compare"
      ],
      "execution_count": 0,
      "outputs": [
        {
          "output_type": "execute_result",
          "data": {
            "text/html": [
              "<div>\n",
              "<style scoped>\n",
              "    .dataframe tbody tr th:only-of-type {\n",
              "        vertical-align: middle;\n",
              "    }\n",
              "\n",
              "    .dataframe tbody tr th {\n",
              "        vertical-align: top;\n",
              "    }\n",
              "\n",
              "    .dataframe thead th {\n",
              "        text-align: right;\n",
              "    }\n",
              "</style>\n",
              "<table border=\"1\" class=\"dataframe\">\n",
              "  <thead>\n",
              "    <tr style=\"text-align: right;\">\n",
              "      <th></th>\n",
              "      <th>total_area_center</th>\n",
              "      <th>last_price_center</th>\n",
              "      <th>ceiling_height_center</th>\n",
              "      <th>rooms_center</th>\n",
              "      <th>total_area</th>\n",
              "      <th>last_price</th>\n",
              "      <th>ceiling_height</th>\n",
              "      <th>rooms</th>\n",
              "    </tr>\n",
              "  </thead>\n",
              "  <tbody>\n",
              "    <tr>\n",
              "      <td>count</td>\n",
              "      <td>2092.000000</td>\n",
              "      <td>2.092000e+03</td>\n",
              "      <td>2092.000000</td>\n",
              "      <td>2092.000000</td>\n",
              "      <td>11633.000000</td>\n",
              "      <td>1.163300e+04</td>\n",
              "      <td>11633.000000</td>\n",
              "      <td>11633.000000</td>\n",
              "    </tr>\n",
              "    <tr>\n",
              "      <td>mean</td>\n",
              "      <td>66.134900</td>\n",
              "      <td>7.690177e+06</td>\n",
              "      <td>2.765636</td>\n",
              "      <td>2.261472</td>\n",
              "      <td>55.000359</td>\n",
              "      <td>5.754079e+06</td>\n",
              "      <td>2.681301</td>\n",
              "      <td>1.953494</td>\n",
              "    </tr>\n",
              "    <tr>\n",
              "      <td>std</td>\n",
              "      <td>25.597899</td>\n",
              "      <td>2.923135e+06</td>\n",
              "      <td>0.155035</td>\n",
              "      <td>0.997360</td>\n",
              "      <td>21.106184</td>\n",
              "      <td>2.510058e+06</td>\n",
              "      <td>0.128431</td>\n",
              "      <td>0.919650</td>\n",
              "    </tr>\n",
              "    <tr>\n",
              "      <td>min</td>\n",
              "      <td>12.000000</td>\n",
              "      <td>1.600000e+06</td>\n",
              "      <td>2.400000</td>\n",
              "      <td>0.000000</td>\n",
              "      <td>12.000000</td>\n",
              "      <td>1.219000e+04</td>\n",
              "      <td>1.000000</td>\n",
              "      <td>0.000000</td>\n",
              "    </tr>\n",
              "    <tr>\n",
              "      <td>25%</td>\n",
              "      <td>46.000000</td>\n",
              "      <td>5.499018e+06</td>\n",
              "      <td>2.700000</td>\n",
              "      <td>2.000000</td>\n",
              "      <td>40.000000</td>\n",
              "      <td>3.990900e+06</td>\n",
              "      <td>2.600000</td>\n",
              "      <td>1.000000</td>\n",
              "    </tr>\n",
              "    <tr>\n",
              "      <td>50%</td>\n",
              "      <td>62.500000</td>\n",
              "      <td>7.200000e+06</td>\n",
              "      <td>2.700000</td>\n",
              "      <td>2.000000</td>\n",
              "      <td>50.000000</td>\n",
              "      <td>5.000000e+06</td>\n",
              "      <td>2.700000</td>\n",
              "      <td>2.000000</td>\n",
              "    </tr>\n",
              "    <tr>\n",
              "      <td>75%</td>\n",
              "      <td>81.200000</td>\n",
              "      <td>9.500000e+06</td>\n",
              "      <td>2.840000</td>\n",
              "      <td>3.000000</td>\n",
              "      <td>65.600000</td>\n",
              "      <td>6.800000e+06</td>\n",
              "      <td>2.700000</td>\n",
              "      <td>3.000000</td>\n",
              "    </tr>\n",
              "    <tr>\n",
              "      <td>max</td>\n",
              "      <td>255.000000</td>\n",
              "      <td>1.520000e+07</td>\n",
              "      <td>3.140000</td>\n",
              "      <td>5.000000</td>\n",
              "      <td>255.000000</td>\n",
              "      <td>1.527600e+07</td>\n",
              "      <td>3.140000</td>\n",
              "      <td>5.000000</td>\n",
              "    </tr>\n",
              "  </tbody>\n",
              "</table>\n",
              "</div>"
            ],
            "text/plain": [
              "       total_area_center  last_price_center  ceiling_height_center  \\\n",
              "count        2092.000000       2.092000e+03            2092.000000   \n",
              "mean           66.134900       7.690177e+06               2.765636   \n",
              "std            25.597899       2.923135e+06               0.155035   \n",
              "min            12.000000       1.600000e+06               2.400000   \n",
              "25%            46.000000       5.499018e+06               2.700000   \n",
              "50%            62.500000       7.200000e+06               2.700000   \n",
              "75%            81.200000       9.500000e+06               2.840000   \n",
              "max           255.000000       1.520000e+07               3.140000   \n",
              "\n",
              "       rooms_center    total_area    last_price  ceiling_height         rooms  \n",
              "count   2092.000000  11633.000000  1.163300e+04    11633.000000  11633.000000  \n",
              "mean       2.261472     55.000359  5.754079e+06        2.681301      1.953494  \n",
              "std        0.997360     21.106184  2.510058e+06        0.128431      0.919650  \n",
              "min        0.000000     12.000000  1.219000e+04        1.000000      0.000000  \n",
              "25%        2.000000     40.000000  3.990900e+06        2.600000      1.000000  \n",
              "50%        2.000000     50.000000  5.000000e+06        2.700000      2.000000  \n",
              "75%        3.000000     65.600000  6.800000e+06        2.700000      3.000000  \n",
              "max        5.000000    255.000000  1.527600e+07        3.140000      5.000000  "
            ]
          },
          "metadata": {
            "tags": []
          },
          "execution_count": 599
        }
      ]
    },
    {
      "cell_type": "markdown",
      "metadata": {
        "id": "AN_HbUFZmkwM",
        "colab_type": "text"
      },
      "source": [
        "Посмотрим на распределение площади, цены, числа комнат и высоты потолков в ценре."
      ]
    },
    {
      "cell_type": "code",
      "metadata": {
        "id": "Jmkn_akEmkwN",
        "colab_type": "code",
        "colab": {},
        "outputId": "b78f5522-0960-4416-82d3-9308119bd91a"
      },
      "source": [
        "(peter_center\n",
        "   .pivot_table(index='rooms', values='last_price', aggfunc='median')\n",
        "   .sort_values(by='last_price')\n",
        "   .plot(kind='bar', y='last_price', figsize=(6,6))\n",
        ")\n",
        "plt.show()"
      ],
      "execution_count": 0,
      "outputs": [
        {
          "output_type": "display_data",
          "data": {
            "image/png": "[encoded data removed]",
            "text/plain": [
              "<Figure size 432x432 with 1 Axes>"
            ]
          },
          "metadata": {
            "tags": [],
            "needs_background": "light"
          }
        }
      ]
    },
    {
      "cell_type": "code",
      "metadata": {
        "id": "sREF762smkwR",
        "colab_type": "code",
        "colab": {},
        "outputId": "1daf525a-c6cf-4c4f-c487-43045e69b0d4"
      },
      "source": [
        "(peter_center.pivot_table(index='floor_category', values='last_price')\n",
        "   .sort_values(by='last_price')\n",
        "   .plot(kind='bar', y='last_price', figsize=(6,6))\n",
        ")\n",
        "plt.show()"
      ],
      "execution_count": 0,
      "outputs": [
        {
          "output_type": "display_data",
          "data": {
            "image/png": "[encoded data removed]",
            "text/plain": [
              "<Figure size 432x432 with 1 Axes>"
            ]
          },
          "metadata": {
            "tags": [],
            "needs_background": "light"
          }
        }
      ]
    },
    {
      "cell_type": "code",
      "metadata": {
        "id": "eNVEqigVmkwV",
        "colab_type": "code",
        "colab": {},
        "outputId": "4223a45d-4a08-4252-f982-a6c7d1ac800d"
      },
      "source": [
        "peter_center_floors = peter_center.pivot_table(index='floor_category', values='last_price').rename(columns={'last_price':'price_petersburg_center'})\n",
        "peter_floors = peter.pivot_table(index='floor_category', values='last_price').rename(columns={'last_price':'price_petersburg'})\n",
        "floors_compare = peter_center_floors.join(peter_floors)\n",
        "floors_compare"
      ],
      "execution_count": 0,
      "outputs": [
        {
          "output_type": "execute_result",
          "data": {
            "text/html": [
              "<div>\n",
              "<style scoped>\n",
              "    .dataframe tbody tr th:only-of-type {\n",
              "        vertical-align: middle;\n",
              "    }\n",
              "\n",
              "    .dataframe tbody tr th {\n",
              "        vertical-align: top;\n",
              "    }\n",
              "\n",
              "    .dataframe thead th {\n",
              "        text-align: right;\n",
              "    }\n",
              "</style>\n",
              "<table border=\"1\" class=\"dataframe\">\n",
              "  <thead>\n",
              "    <tr style=\"text-align: right;\">\n",
              "      <th></th>\n",
              "      <th>price_petersburg_center</th>\n",
              "      <th>price_petersburg</th>\n",
              "    </tr>\n",
              "    <tr>\n",
              "      <th>floor_category</th>\n",
              "      <th></th>\n",
              "      <th></th>\n",
              "    </tr>\n",
              "  </thead>\n",
              "  <tbody>\n",
              "    <tr>\n",
              "      <td>другой</td>\n",
              "      <td>7.939874e+06</td>\n",
              "      <td>5.856648e+06</td>\n",
              "    </tr>\n",
              "    <tr>\n",
              "      <td>первый</td>\n",
              "      <td>6.194369e+06</td>\n",
              "      <td>4.972822e+06</td>\n",
              "    </tr>\n",
              "    <tr>\n",
              "      <td>последний</td>\n",
              "      <td>7.750244e+06</td>\n",
              "      <td>5.745986e+06</td>\n",
              "    </tr>\n",
              "  </tbody>\n",
              "</table>\n",
              "</div>"
            ],
            "text/plain": [
              "                price_petersburg_center  price_petersburg\n",
              "floor_category                                           \n",
              "другой                     7.939874e+06      5.856648e+06\n",
              "первый                     6.194369e+06      4.972822e+06\n",
              "последний                  7.750244e+06      5.745986e+06"
            ]
          },
          "metadata": {
            "tags": []
          },
          "execution_count": 602
        }
      ]
    },
    {
      "cell_type": "code",
      "metadata": {
        "id": "yb4PfEVImkwd",
        "colab_type": "code",
        "colab": {},
        "outputId": "da4c055e-5253-4f57-e131-334341fcbb70"
      },
      "source": [
        "peter_center_rooms = peter_center.pivot_table(index='rooms', values='last_price').rename(columns={'last_price':'price_petersburg_center'})\n",
        "peter_rooms = peter.pivot_table(index='rooms', values='last_price').rename(columns={'last_price':'price_petersburg'})\n",
        "rooms_compare = peter_center_rooms.join(peter_rooms)\n",
        "rooms_compare"
      ],
      "execution_count": 0,
      "outputs": [
        {
          "output_type": "execute_result",
          "data": {
            "text/html": [
              "<div>\n",
              "<style scoped>\n",
              "    .dataframe tbody tr th:only-of-type {\n",
              "        vertical-align: middle;\n",
              "    }\n",
              "\n",
              "    .dataframe tbody tr th {\n",
              "        vertical-align: top;\n",
              "    }\n",
              "\n",
              "    .dataframe thead th {\n",
              "        text-align: right;\n",
              "    }\n",
              "</style>\n",
              "<table border=\"1\" class=\"dataframe\">\n",
              "  <thead>\n",
              "    <tr style=\"text-align: right;\">\n",
              "      <th></th>\n",
              "      <th>price_petersburg_center</th>\n",
              "      <th>price_petersburg</th>\n",
              "    </tr>\n",
              "    <tr>\n",
              "      <th>rooms</th>\n",
              "      <th></th>\n",
              "      <th></th>\n",
              "    </tr>\n",
              "  </thead>\n",
              "  <tbody>\n",
              "    <tr>\n",
              "      <td>0</td>\n",
              "      <td>3.946000e+06</td>\n",
              "      <td>3.344068e+06</td>\n",
              "    </tr>\n",
              "    <tr>\n",
              "      <td>1</td>\n",
              "      <td>5.842662e+06</td>\n",
              "      <td>4.291554e+06</td>\n",
              "    </tr>\n",
              "    <tr>\n",
              "      <td>2</td>\n",
              "      <td>7.339079e+06</td>\n",
              "      <td>5.952284e+06</td>\n",
              "    </tr>\n",
              "    <tr>\n",
              "      <td>3</td>\n",
              "      <td>8.887276e+06</td>\n",
              "      <td>7.275947e+06</td>\n",
              "    </tr>\n",
              "    <tr>\n",
              "      <td>4</td>\n",
              "      <td>9.824878e+06</td>\n",
              "      <td>8.149974e+06</td>\n",
              "    </tr>\n",
              "    <tr>\n",
              "      <td>5</td>\n",
              "      <td>1.129250e+07</td>\n",
              "      <td>1.049035e+07</td>\n",
              "    </tr>\n",
              "  </tbody>\n",
              "</table>\n",
              "</div>"
            ],
            "text/plain": [
              "       price_petersburg_center  price_petersburg\n",
              "rooms                                           \n",
              "0                 3.946000e+06      3.344068e+06\n",
              "1                 5.842662e+06      4.291554e+06\n",
              "2                 7.339079e+06      5.952284e+06\n",
              "3                 8.887276e+06      7.275947e+06\n",
              "4                 9.824878e+06      8.149974e+06\n",
              "5                 1.129250e+07      1.049035e+07"
            ]
          },
          "metadata": {
            "tags": []
          },
          "execution_count": 603
        }
      ]
    },
    {
      "cell_type": "markdown",
      "metadata": {
        "id": "CKmwcKKvmkwj",
        "colab_type": "text"
      },
      "source": [
        "Тенденция в росте цены от первого этажа к последнему в центре Петербурга сохранилась, однако средние цены здесь уже значительно выше. Абсолютно то же самое для зависимости от числа комнат, тренд сохранился, но средние цены выше на ~1.5 млн."
      ]
    },
    {
      "cell_type": "markdown",
      "metadata": {
        "id": "kknXZqNgmkwl",
        "colab_type": "text"
      },
      "source": [
        "Как видно из таблицы в центральной области города средние значения всех параметров из таблицы (общая площадь, высота потолков, число комнат, цена) и их квантили выше, чем те же для всего города."
      ]
    },
    {
      "cell_type": "markdown",
      "metadata": {
        "id": "50d64oTfmkwm",
        "colab_type": "text"
      },
      "source": [
        "Для центра Петербурга нет смысла исследовать зависимость цены от месяца и дня публикации объявления, она будет такой же, как и по всей области, а вот на зависимость от года посмотреть интересно:"
      ]
    },
    {
      "cell_type": "code",
      "metadata": {
        "id": "pEGg93zBmkwn",
        "colab_type": "code",
        "colab": {},
        "outputId": "7714594c-512c-4ae9-c192-1ee52ffe2aed"
      },
      "source": [
        "plot_myline(peter_center, 'year_exposition', 'last_price')"
      ],
      "execution_count": 0,
      "outputs": [
        {
          "output_type": "display_data",
          "data": {
            "image/png": "[encoded data removed]",
            "text/plain": [
              "<Figure size 432x432 with 1 Axes>"
            ]
          },
          "metadata": {
            "tags": [],
            "needs_background": "light"
          }
        }
      ]
    },
    {
      "cell_type": "markdown",
      "metadata": {
        "id": "5zWV1h9Nmkwr",
        "colab_type": "text"
      },
      "source": [
        "Кризис так же обрушил цены на квартиры в центре, однако в отличие от всей области, цены так и продолжают стремительно падать после 2018 года. Однако темпы падения уже не такие быстрые, как до 2015 года. Видимо, нужно больше времени, чтобы дорогие квартиры на Невском и напротив Эрмитажа вернули свою стоимость. Из-за кризиса у людей нет денег на жилье в центре, эти объявления стали менее востребованными."
      ]
    },
    {
      "cell_type": "code",
      "metadata": {
        "id": "Va_Zfb-ymkwx",
        "colab_type": "code",
        "colab": {},
        "outputId": "fdc26736-ee23-45b0-ce11-ca674f32799c"
      },
      "source": [
        "plot_myline(peter, 'year_exposition', 'last_price')"
      ],
      "execution_count": 0,
      "outputs": [
        {
          "output_type": "display_data",
          "data": {
            "image/png": "[encoded data removed]",
            "text/plain": [
              "<Figure size 432x432 with 1 Axes>"
            ]
          },
          "metadata": {
            "tags": [],
            "needs_background": "light"
          }
        }
      ]
    },
    {
      "cell_type": "markdown",
      "metadata": {
        "id": "8SlsL5Himkw2",
        "colab_type": "text"
      },
      "source": [
        "По всему Петербургу ситуация интересная: в 2016 году средние цены вышли на постоянное значение."
      ]
    },
    {
      "cell_type": "markdown",
      "metadata": {
        "id": "B4vs--lUmkw3",
        "colab_type": "text"
      },
      "source": [
        "### Вывод"
      ]
    },
    {
      "cell_type": "markdown",
      "metadata": {
        "id": "tpYjFWbrmkw5",
        "colab_type": "text"
      },
      "source": [
        "На данном этапе:\n",
        "\n",
        "- были обнаружены и удалены выбросы \n",
        "- изучены зависимости цены от этажа, расстояния от центра, числа комнат, даты пубикация объявления\n",
        "- из 10 населённых пунктов с самым большим числом объявлений, выделены населённые пункты с самой высокой и низкой стоимостью квадратного метра жилья\n",
        "- выделена центральная зона Петербурга из зависимости цены квартиры от расстояния до центра\n",
        "- проведено сравнение ключевых показателей, влияющих на ценообразование, на выборке объявлений по всему Петербургу и только по его центру."
      ]
    },
    {
      "cell_type": "markdown",
      "metadata": {
        "id": "U63tQ6rEmkw7",
        "colab_type": "text"
      },
      "source": [
        "### Шаг 5. Общий вывод"
      ]
    },
    {
      "cell_type": "markdown",
      "metadata": {
        "id": "nCDZQ945mkw9",
        "colab_type": "text"
      },
      "source": [
        "В результате выполнения работы было установлено, что:\n",
        "\n",
        "- обычное время продажи составляет около 3 месяцев. Быстрой можно считать продажу, совершенную менее, чем за месяц, а необычно долгую – более, чем за два года,\n",
        "- самые дешевые квартиры на первых этажах, далее по возрастанию цены расположились квартиры на последних этажах и потом квартиры на всех остальных,\n",
        "- самый большой коэффициент корреляции между общей площадью квартиры и ее ценой, что логично. Расстояние до центра, высота потолков и количество комнат влияют на цену примерно в одинаковой, но меньшей по сравнению с общей площадью, степени. Наличие парков и прудов влияет на цену в еще меньшей степени. Средняя цена квартиры без парков рядом  ~4.6 млн, а с 3 парками -  ~5.5 млн. С прудами ситуация немного интереснее: разница между ценами при 0, 1 и 2 прудами небольшая (около 5 млн), а цена квартир с 3 прудами рядом скакнула до ~6.5 млн. Расстояние до аэропорта не влияет на цену,\n",
        "- от дня и месяца размещения объявления цена не зависит, средние величины флуктуируют, как и должны. А вот зависимость от года есть, причем немного разная для квартир, находящихся в разных местах. По квартирам из всего датасета произошел обвал цен с 2014 по 2018 на 30%, после чего цены снова стали понемногу расти. Для объектов из центра Петербурга цены все так же продолжают падать по состоянию на 2019 год. А если взять квартиры всего Петербурга, то после обвала, начиная с 2016 года, средние цены зафиксировались на одной отметке. Возможно, во время кризиса дорогие квартиры в центре стали менее востребованы, их сложнее продать, цены продолжают падать. Но люди по-прежнему продолжают покупать свое жилье в других районах города и в области, где зафиксирован подъем цен с 2018 года,\n",
        "- в центральной зоне Петербурга наблюдаются те же зависимости от цены таких параметров как общая площадь, высота потолков, кол-во комнат, что и во всем городе, однако в центре средние цены выше при одинаковых других параметрах.\n"
      ]
    }
  ]
}