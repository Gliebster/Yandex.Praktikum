{
 "cells": [
  {
   "cell_type": "markdown",
   "metadata": {},
   "source": [
    "## Аналитика в Яндекс.Афише"
   ]
  },
  {
   "cell_type": "markdown",
   "metadata": {},
   "source": [
    "Имеются данные сервиса Яндекс.Афиша. Необходимо определить\n",
    "- как люди пользуются продуктом\n",
    "- когда они начинают покупать,\n",
    "- сколько денег приносит каждый клиент\n",
    "- когда клиент окупается."
   ]
  },
  {
   "cell_type": "markdown",
   "metadata": {},
   "source": [
    "Описание данных\\\n",
    "**Таблица visits (лог сервера с информацией о посещениях сайта):**\\\n",
    "Uid — уникальный идентификатор пользователя\\\n",
    "Device — категория устройства пользователя\\\n",
    "Start Ts — дата и время начала сессии\\\n",
    "End Ts — дата и время окончания сессии\\\n",
    "Source Id — идентификатор рекламного источника, из которого пришел пользователь\\\n",
    "**Таблица orders (информация о заказах):**\\\n",
    "Uid — уникальный id пользователя, который сделал заказ\\\n",
    "Buy Ts — дата и время заказа\\\n",
    "Revenue — выручка Яндекс.Афиши с этого заказа\\\n",
    "**Таблица costs (информация о затратах на маркетинг):**\\\n",
    "source_id — идентификатор рекламного источника\\\n",
    "dt — дата\\\n",
    "costs — затраты на этот рекламный источник в этот день\\"
   ]
  },
  {
   "cell_type": "markdown",
   "metadata": {},
   "source": [
    "### Шаг 1. Загрузка данных и подготовка их к анализу."
   ]
  },
  {
   "cell_type": "code",
   "execution_count": 68,
   "metadata": {},
   "outputs": [],
   "source": [
    "import pandas as pd\n",
    "import matplotlib.pyplot as plt\n",
    "import seaborn as sb\n",
    "import numpy as np"
   ]
  },
  {
   "cell_type": "code",
   "execution_count": 69,
   "metadata": {},
   "outputs": [],
   "source": [
    "visits = pd.read_csv('/datasets/visits_log.csv')\n",
    "orders = pd.read_csv('/datasets/orders_log.csv')\n",
    "costs = pd.read_csv('/datasets/costs.csv')"
   ]
  },
  {
   "cell_type": "code",
   "execution_count": 70,
   "metadata": {},
   "outputs": [
    {
     "data": {
      "text/html": [
       "<div>\n",
       "<style scoped>\n",
       "    .dataframe tbody tr th:only-of-type {\n",
       "        vertical-align: middle;\n",
       "    }\n",
       "\n",
       "    .dataframe tbody tr th {\n",
       "        vertical-align: top;\n",
       "    }\n",
       "\n",
       "    .dataframe thead th {\n",
       "        text-align: right;\n",
       "    }\n",
       "</style>\n",
       "<table border=\"1\" class=\"dataframe\">\n",
       "  <thead>\n",
       "    <tr style=\"text-align: right;\">\n",
       "      <th></th>\n",
       "      <th>Device</th>\n",
       "      <th>End Ts</th>\n",
       "      <th>Source Id</th>\n",
       "      <th>Start Ts</th>\n",
       "      <th>Uid</th>\n",
       "    </tr>\n",
       "  </thead>\n",
       "  <tbody>\n",
       "    <tr>\n",
       "      <td>0</td>\n",
       "      <td>touch</td>\n",
       "      <td>2017-12-20 17:38:00</td>\n",
       "      <td>4</td>\n",
       "      <td>2017-12-20 17:20:00</td>\n",
       "      <td>16879256277535980062</td>\n",
       "    </tr>\n",
       "    <tr>\n",
       "      <td>1</td>\n",
       "      <td>desktop</td>\n",
       "      <td>2018-02-19 17:21:00</td>\n",
       "      <td>2</td>\n",
       "      <td>2018-02-19 16:53:00</td>\n",
       "      <td>104060357244891740</td>\n",
       "    </tr>\n",
       "    <tr>\n",
       "      <td>2</td>\n",
       "      <td>touch</td>\n",
       "      <td>2017-07-01 01:54:00</td>\n",
       "      <td>5</td>\n",
       "      <td>2017-07-01 01:54:00</td>\n",
       "      <td>7459035603376831527</td>\n",
       "    </tr>\n",
       "    <tr>\n",
       "      <td>3</td>\n",
       "      <td>desktop</td>\n",
       "      <td>2018-05-20 11:23:00</td>\n",
       "      <td>9</td>\n",
       "      <td>2018-05-20 10:59:00</td>\n",
       "      <td>16174680259334210214</td>\n",
       "    </tr>\n",
       "    <tr>\n",
       "      <td>4</td>\n",
       "      <td>desktop</td>\n",
       "      <td>2017-12-27 14:06:00</td>\n",
       "      <td>3</td>\n",
       "      <td>2017-12-27 14:06:00</td>\n",
       "      <td>9969694820036681168</td>\n",
       "    </tr>\n",
       "  </tbody>\n",
       "</table>\n",
       "</div>"
      ],
      "text/plain": [
       "    Device               End Ts  Source Id             Start Ts  \\\n",
       "0    touch  2017-12-20 17:38:00          4  2017-12-20 17:20:00   \n",
       "1  desktop  2018-02-19 17:21:00          2  2018-02-19 16:53:00   \n",
       "2    touch  2017-07-01 01:54:00          5  2017-07-01 01:54:00   \n",
       "3  desktop  2018-05-20 11:23:00          9  2018-05-20 10:59:00   \n",
       "4  desktop  2017-12-27 14:06:00          3  2017-12-27 14:06:00   \n",
       "\n",
       "                    Uid  \n",
       "0  16879256277535980062  \n",
       "1    104060357244891740  \n",
       "2   7459035603376831527  \n",
       "3  16174680259334210214  \n",
       "4   9969694820036681168  "
      ]
     },
     "execution_count": 70,
     "metadata": {},
     "output_type": "execute_result"
    }
   ],
   "source": [
    "visits.head()"
   ]
  },
  {
   "cell_type": "code",
   "execution_count": 71,
   "metadata": {},
   "outputs": [
    {
     "name": "stdout",
     "output_type": "stream",
     "text": [
      "<class 'pandas.core.frame.DataFrame'>\n",
      "RangeIndex: 359400 entries, 0 to 359399\n",
      "Data columns (total 5 columns):\n",
      "Device       359400 non-null object\n",
      "End Ts       359400 non-null object\n",
      "Source Id    359400 non-null int64\n",
      "Start Ts     359400 non-null object\n",
      "Uid          359400 non-null uint64\n",
      "dtypes: int64(1), object(3), uint64(1)\n",
      "memory usage: 13.7+ MB\n"
     ]
    }
   ],
   "source": [
    "visits.info()"
   ]
  },
  {
   "cell_type": "code",
   "execution_count": 72,
   "metadata": {},
   "outputs": [
    {
     "data": {
      "text/html": [
       "<div>\n",
       "<style scoped>\n",
       "    .dataframe tbody tr th:only-of-type {\n",
       "        vertical-align: middle;\n",
       "    }\n",
       "\n",
       "    .dataframe tbody tr th {\n",
       "        vertical-align: top;\n",
       "    }\n",
       "\n",
       "    .dataframe thead th {\n",
       "        text-align: right;\n",
       "    }\n",
       "</style>\n",
       "<table border=\"1\" class=\"dataframe\">\n",
       "  <thead>\n",
       "    <tr style=\"text-align: right;\">\n",
       "      <th></th>\n",
       "      <th>Buy Ts</th>\n",
       "      <th>Revenue</th>\n",
       "      <th>Uid</th>\n",
       "    </tr>\n",
       "  </thead>\n",
       "  <tbody>\n",
       "    <tr>\n",
       "      <td>0</td>\n",
       "      <td>2017-06-01 00:10:00</td>\n",
       "      <td>17.00</td>\n",
       "      <td>10329302124590727494</td>\n",
       "    </tr>\n",
       "    <tr>\n",
       "      <td>1</td>\n",
       "      <td>2017-06-01 00:25:00</td>\n",
       "      <td>0.55</td>\n",
       "      <td>11627257723692907447</td>\n",
       "    </tr>\n",
       "    <tr>\n",
       "      <td>2</td>\n",
       "      <td>2017-06-01 00:27:00</td>\n",
       "      <td>0.37</td>\n",
       "      <td>17903680561304213844</td>\n",
       "    </tr>\n",
       "    <tr>\n",
       "      <td>3</td>\n",
       "      <td>2017-06-01 00:29:00</td>\n",
       "      <td>0.55</td>\n",
       "      <td>16109239769442553005</td>\n",
       "    </tr>\n",
       "    <tr>\n",
       "      <td>4</td>\n",
       "      <td>2017-06-01 07:58:00</td>\n",
       "      <td>0.37</td>\n",
       "      <td>14200605875248379450</td>\n",
       "    </tr>\n",
       "  </tbody>\n",
       "</table>\n",
       "</div>"
      ],
      "text/plain": [
       "                Buy Ts  Revenue                   Uid\n",
       "0  2017-06-01 00:10:00    17.00  10329302124590727494\n",
       "1  2017-06-01 00:25:00     0.55  11627257723692907447\n",
       "2  2017-06-01 00:27:00     0.37  17903680561304213844\n",
       "3  2017-06-01 00:29:00     0.55  16109239769442553005\n",
       "4  2017-06-01 07:58:00     0.37  14200605875248379450"
      ]
     },
     "execution_count": 72,
     "metadata": {},
     "output_type": "execute_result"
    }
   ],
   "source": [
    "orders.head()"
   ]
  },
  {
   "cell_type": "code",
   "execution_count": 73,
   "metadata": {},
   "outputs": [
    {
     "name": "stdout",
     "output_type": "stream",
     "text": [
      "<class 'pandas.core.frame.DataFrame'>\n",
      "RangeIndex: 50415 entries, 0 to 50414\n",
      "Data columns (total 3 columns):\n",
      "Buy Ts     50415 non-null object\n",
      "Revenue    50415 non-null float64\n",
      "Uid        50415 non-null uint64\n",
      "dtypes: float64(1), object(1), uint64(1)\n",
      "memory usage: 1.2+ MB\n"
     ]
    }
   ],
   "source": [
    "orders.info()"
   ]
  },
  {
   "cell_type": "code",
   "execution_count": 74,
   "metadata": {},
   "outputs": [
    {
     "data": {
      "text/html": [
       "<div>\n",
       "<style scoped>\n",
       "    .dataframe tbody tr th:only-of-type {\n",
       "        vertical-align: middle;\n",
       "    }\n",
       "\n",
       "    .dataframe tbody tr th {\n",
       "        vertical-align: top;\n",
       "    }\n",
       "\n",
       "    .dataframe thead th {\n",
       "        text-align: right;\n",
       "    }\n",
       "</style>\n",
       "<table border=\"1\" class=\"dataframe\">\n",
       "  <thead>\n",
       "    <tr style=\"text-align: right;\">\n",
       "      <th></th>\n",
       "      <th>source_id</th>\n",
       "      <th>dt</th>\n",
       "      <th>costs</th>\n",
       "    </tr>\n",
       "  </thead>\n",
       "  <tbody>\n",
       "    <tr>\n",
       "      <td>0</td>\n",
       "      <td>1</td>\n",
       "      <td>2017-06-01</td>\n",
       "      <td>75.20</td>\n",
       "    </tr>\n",
       "    <tr>\n",
       "      <td>1</td>\n",
       "      <td>1</td>\n",
       "      <td>2017-06-02</td>\n",
       "      <td>62.25</td>\n",
       "    </tr>\n",
       "    <tr>\n",
       "      <td>2</td>\n",
       "      <td>1</td>\n",
       "      <td>2017-06-03</td>\n",
       "      <td>36.53</td>\n",
       "    </tr>\n",
       "    <tr>\n",
       "      <td>3</td>\n",
       "      <td>1</td>\n",
       "      <td>2017-06-04</td>\n",
       "      <td>55.00</td>\n",
       "    </tr>\n",
       "    <tr>\n",
       "      <td>4</td>\n",
       "      <td>1</td>\n",
       "      <td>2017-06-05</td>\n",
       "      <td>57.08</td>\n",
       "    </tr>\n",
       "  </tbody>\n",
       "</table>\n",
       "</div>"
      ],
      "text/plain": [
       "   source_id          dt  costs\n",
       "0          1  2017-06-01  75.20\n",
       "1          1  2017-06-02  62.25\n",
       "2          1  2017-06-03  36.53\n",
       "3          1  2017-06-04  55.00\n",
       "4          1  2017-06-05  57.08"
      ]
     },
     "execution_count": 74,
     "metadata": {},
     "output_type": "execute_result"
    }
   ],
   "source": [
    "costs.head()"
   ]
  },
  {
   "cell_type": "code",
   "execution_count": 75,
   "metadata": {},
   "outputs": [
    {
     "name": "stdout",
     "output_type": "stream",
     "text": [
      "<class 'pandas.core.frame.DataFrame'>\n",
      "RangeIndex: 2542 entries, 0 to 2541\n",
      "Data columns (total 3 columns):\n",
      "source_id    2542 non-null int64\n",
      "dt           2542 non-null object\n",
      "costs        2542 non-null float64\n",
      "dtypes: float64(1), int64(1), object(1)\n",
      "memory usage: 59.7+ KB\n"
     ]
    }
   ],
   "source": [
    "costs.info()"
   ]
  },
  {
   "cell_type": "code",
   "execution_count": 76,
   "metadata": {},
   "outputs": [
    {
     "data": {
      "text/html": [
       "<div>\n",
       "<style scoped>\n",
       "    .dataframe tbody tr th:only-of-type {\n",
       "        vertical-align: middle;\n",
       "    }\n",
       "\n",
       "    .dataframe tbody tr th {\n",
       "        vertical-align: top;\n",
       "    }\n",
       "\n",
       "    .dataframe thead th {\n",
       "        text-align: right;\n",
       "    }\n",
       "</style>\n",
       "<table border=\"1\" class=\"dataframe\">\n",
       "  <thead>\n",
       "    <tr style=\"text-align: right;\">\n",
       "      <th></th>\n",
       "      <th>device</th>\n",
       "      <th>end_ts</th>\n",
       "      <th>source_id</th>\n",
       "      <th>start_ts</th>\n",
       "      <th>uid</th>\n",
       "    </tr>\n",
       "  </thead>\n",
       "  <tbody>\n",
       "    <tr>\n",
       "      <td>0</td>\n",
       "      <td>touch</td>\n",
       "      <td>2017-12-20 17:38:00</td>\n",
       "      <td>4</td>\n",
       "      <td>2017-12-20 17:20:00</td>\n",
       "      <td>16879256277535980062</td>\n",
       "    </tr>\n",
       "    <tr>\n",
       "      <td>1</td>\n",
       "      <td>desktop</td>\n",
       "      <td>2018-02-19 17:21:00</td>\n",
       "      <td>2</td>\n",
       "      <td>2018-02-19 16:53:00</td>\n",
       "      <td>104060357244891740</td>\n",
       "    </tr>\n",
       "    <tr>\n",
       "      <td>2</td>\n",
       "      <td>touch</td>\n",
       "      <td>2017-07-01 01:54:00</td>\n",
       "      <td>5</td>\n",
       "      <td>2017-07-01 01:54:00</td>\n",
       "      <td>7459035603376831527</td>\n",
       "    </tr>\n",
       "    <tr>\n",
       "      <td>3</td>\n",
       "      <td>desktop</td>\n",
       "      <td>2018-05-20 11:23:00</td>\n",
       "      <td>9</td>\n",
       "      <td>2018-05-20 10:59:00</td>\n",
       "      <td>16174680259334210214</td>\n",
       "    </tr>\n",
       "    <tr>\n",
       "      <td>4</td>\n",
       "      <td>desktop</td>\n",
       "      <td>2017-12-27 14:06:00</td>\n",
       "      <td>3</td>\n",
       "      <td>2017-12-27 14:06:00</td>\n",
       "      <td>9969694820036681168</td>\n",
       "    </tr>\n",
       "    <tr>\n",
       "      <td>...</td>\n",
       "      <td>...</td>\n",
       "      <td>...</td>\n",
       "      <td>...</td>\n",
       "      <td>...</td>\n",
       "      <td>...</td>\n",
       "    </tr>\n",
       "    <tr>\n",
       "      <td>359395</td>\n",
       "      <td>desktop</td>\n",
       "      <td>2017-07-29 19:07:19</td>\n",
       "      <td>2</td>\n",
       "      <td>2017-07-29 19:07:00</td>\n",
       "      <td>18363291481961487539</td>\n",
       "    </tr>\n",
       "    <tr>\n",
       "      <td>359396</td>\n",
       "      <td>touch</td>\n",
       "      <td>2018-01-25 17:38:19</td>\n",
       "      <td>1</td>\n",
       "      <td>2018-01-25 17:38:00</td>\n",
       "      <td>18370831553019119586</td>\n",
       "    </tr>\n",
       "    <tr>\n",
       "      <td>359397</td>\n",
       "      <td>desktop</td>\n",
       "      <td>2018-03-03 10:12:19</td>\n",
       "      <td>4</td>\n",
       "      <td>2018-03-03 10:12:00</td>\n",
       "      <td>18387297585500748294</td>\n",
       "    </tr>\n",
       "    <tr>\n",
       "      <td>359398</td>\n",
       "      <td>desktop</td>\n",
       "      <td>2017-11-02 10:12:19</td>\n",
       "      <td>5</td>\n",
       "      <td>2017-11-02 10:12:00</td>\n",
       "      <td>18388616944624776485</td>\n",
       "    </tr>\n",
       "    <tr>\n",
       "      <td>359399</td>\n",
       "      <td>touch</td>\n",
       "      <td>2017-09-10 13:13:19</td>\n",
       "      <td>2</td>\n",
       "      <td>2017-09-10 13:13:00</td>\n",
       "      <td>18396128934054549559</td>\n",
       "    </tr>\n",
       "  </tbody>\n",
       "</table>\n",
       "<p>359400 rows × 5 columns</p>\n",
       "</div>"
      ],
      "text/plain": [
       "         device              end_ts  source_id            start_ts  \\\n",
       "0         touch 2017-12-20 17:38:00          4 2017-12-20 17:20:00   \n",
       "1       desktop 2018-02-19 17:21:00          2 2018-02-19 16:53:00   \n",
       "2         touch 2017-07-01 01:54:00          5 2017-07-01 01:54:00   \n",
       "3       desktop 2018-05-20 11:23:00          9 2018-05-20 10:59:00   \n",
       "4       desktop 2017-12-27 14:06:00          3 2017-12-27 14:06:00   \n",
       "...         ...                 ...        ...                 ...   \n",
       "359395  desktop 2017-07-29 19:07:19          2 2017-07-29 19:07:00   \n",
       "359396    touch 2018-01-25 17:38:19          1 2018-01-25 17:38:00   \n",
       "359397  desktop 2018-03-03 10:12:19          4 2018-03-03 10:12:00   \n",
       "359398  desktop 2017-11-02 10:12:19          5 2017-11-02 10:12:00   \n",
       "359399    touch 2017-09-10 13:13:19          2 2017-09-10 13:13:00   \n",
       "\n",
       "                         uid  \n",
       "0       16879256277535980062  \n",
       "1         104060357244891740  \n",
       "2        7459035603376831527  \n",
       "3       16174680259334210214  \n",
       "4        9969694820036681168  \n",
       "...                      ...  \n",
       "359395  18363291481961487539  \n",
       "359396  18370831553019119586  \n",
       "359397  18387297585500748294  \n",
       "359398  18388616944624776485  \n",
       "359399  18396128934054549559  \n",
       "\n",
       "[359400 rows x 5 columns]"
      ]
     },
     "execution_count": 76,
     "metadata": {},
     "output_type": "execute_result"
    }
   ],
   "source": [
    "visits.columns = visits.columns.str.lower()\n",
    "visits = visits.rename(columns={'start ts':'start_ts', 'end ts':'end_ts', 'source id':'source_id'})\n",
    "visits['end_ts'] = pd.to_datetime(visits['end_ts'], format='%Y-%m-%d %H:%M:%S')\n",
    "visits['start_ts'] = pd.to_datetime(visits['start_ts'], format='%Y-%m-%d %H:%M:%S')\n",
    "costs['dt'] = pd.to_datetime(costs['dt'], format='%Y-%m-%d')\n",
    "visits"
   ]
  },
  {
   "cell_type": "code",
   "execution_count": 77,
   "metadata": {},
   "outputs": [
    {
     "name": "stdout",
     "output_type": "stream",
     "text": [
      "<class 'pandas.core.frame.DataFrame'>\n",
      "RangeIndex: 50415 entries, 0 to 50414\n",
      "Data columns (total 3 columns):\n",
      "buy_ts     50415 non-null datetime64[ns]\n",
      "revenue    50415 non-null float64\n",
      "uid        50415 non-null uint64\n",
      "dtypes: datetime64[ns](1), float64(1), uint64(1)\n",
      "memory usage: 1.2 MB\n"
     ]
    }
   ],
   "source": [
    "orders.columns = orders.columns.str.lower()\n",
    "orders = orders.rename(columns={'buy ts':'buy_ts'})\n",
    "orders['buy_ts'] = pd.to_datetime(orders['buy_ts'], format='%Y-%m-%d')\n",
    "orders.info()"
   ]
  },
  {
   "cell_type": "code",
   "execution_count": 78,
   "metadata": {},
   "outputs": [
    {
     "name": "stdout",
     "output_type": "stream",
     "text": [
      "<class 'pandas.core.frame.DataFrame'>\n",
      "RangeIndex: 2542 entries, 0 to 2541\n",
      "Data columns (total 3 columns):\n",
      "source_id    2542 non-null int64\n",
      "dt           2542 non-null datetime64[ns]\n",
      "costs        2542 non-null float64\n",
      "dtypes: datetime64[ns](1), float64(1), int64(1)\n",
      "memory usage: 59.7 KB\n"
     ]
    }
   ],
   "source": [
    "costs['dt'] = pd.to_datetime(costs['dt'], format='%Y-%m-%d')\n",
    "costs.info()"
   ]
  },
  {
   "cell_type": "markdown",
   "metadata": {},
   "source": [
    "### Вывод."
   ]
  },
  {
   "cell_type": "markdown",
   "metadata": {},
   "source": [
    "На данном этапе названия колонок в таблицах были приведены к нижнему регистру, а также для удобства добавлены символы нижнего подчеркивания между словами, где это было необходимо. Столбцы с датой переведены в соотвутствующий формат."
   ]
  },
  {
   "cell_type": "markdown",
   "metadata": {},
   "source": [
    "## Шаг 2. Постройте отчёты и посчитайте метрики."
   ]
  },
  {
   "cell_type": "code",
   "execution_count": 79,
   "metadata": {},
   "outputs": [
    {
     "data": {
      "text/html": [
       "<div>\n",
       "<style scoped>\n",
       "    .dataframe tbody tr th:only-of-type {\n",
       "        vertical-align: middle;\n",
       "    }\n",
       "\n",
       "    .dataframe tbody tr th {\n",
       "        vertical-align: top;\n",
       "    }\n",
       "\n",
       "    .dataframe thead th {\n",
       "        text-align: right;\n",
       "    }\n",
       "</style>\n",
       "<table border=\"1\" class=\"dataframe\">\n",
       "  <thead>\n",
       "    <tr style=\"text-align: right;\">\n",
       "      <th></th>\n",
       "      <th>end_ts</th>\n",
       "      <th>start_ts</th>\n",
       "    </tr>\n",
       "  </thead>\n",
       "  <tbody>\n",
       "    <tr>\n",
       "      <td>count</td>\n",
       "      <td>359400</td>\n",
       "      <td>359400</td>\n",
       "    </tr>\n",
       "    <tr>\n",
       "      <td>unique</td>\n",
       "      <td>224760</td>\n",
       "      <td>224303</td>\n",
       "    </tr>\n",
       "    <tr>\n",
       "      <td>top</td>\n",
       "      <td>2017-11-24 16:51:00</td>\n",
       "      <td>2017-11-24 16:06:00</td>\n",
       "    </tr>\n",
       "    <tr>\n",
       "      <td>freq</td>\n",
       "      <td>23</td>\n",
       "      <td>19</td>\n",
       "    </tr>\n",
       "    <tr>\n",
       "      <td>first</td>\n",
       "      <td>2017-06-01 00:02:00</td>\n",
       "      <td>2017-06-01 00:01:00</td>\n",
       "    </tr>\n",
       "    <tr>\n",
       "      <td>last</td>\n",
       "      <td>2018-06-01 01:26:00</td>\n",
       "      <td>2018-05-31 23:59:00</td>\n",
       "    </tr>\n",
       "  </tbody>\n",
       "</table>\n",
       "</div>"
      ],
      "text/plain": [
       "                     end_ts             start_ts\n",
       "count                359400               359400\n",
       "unique               224760               224303\n",
       "top     2017-11-24 16:51:00  2017-11-24 16:06:00\n",
       "freq                     23                   19\n",
       "first   2017-06-01 00:02:00  2017-06-01 00:01:00\n",
       "last    2018-06-01 01:26:00  2018-05-31 23:59:00"
      ]
     },
     "execution_count": 79,
     "metadata": {},
     "output_type": "execute_result"
    }
   ],
   "source": [
    "visits[['end_ts','start_ts']].describe()"
   ]
  },
  {
   "cell_type": "markdown",
   "metadata": {},
   "source": [
    "Видим, что в июне 2018 года статистика собиралась только лишь полтора часа! Естественно, посещений и покупок будет несравненно мало. Чтобы эти записи не исказили результаты, не будем учитывать это в дальнейших расчетах, т.е. будем считать, что данные собирались с 1 июня 2017 по 31 мая 2018."
   ]
  },
  {
   "cell_type": "code",
   "execution_count": 80,
   "metadata": {},
   "outputs": [
    {
     "data": {
      "text/plain": [
       "count                   50415\n",
       "unique                  45991\n",
       "top       2018-05-31 10:13:00\n",
       "freq                        9\n",
       "first     2017-06-01 00:10:00\n",
       "last      2018-06-01 00:02:00\n",
       "Name: buy_ts, dtype: object"
      ]
     },
     "execution_count": 80,
     "metadata": {},
     "output_type": "execute_result"
    }
   ],
   "source": [
    "orders['buy_ts'].describe()"
   ]
  },
  {
   "cell_type": "markdown",
   "metadata": {},
   "source": [
    "Аналогичным образом стоит поступить и с данными по продажам, т.к. в июне 2018 года есть данные только за 2 минуты. Удалим эти строки."
   ]
  },
  {
   "cell_type": "code",
   "execution_count": 81,
   "metadata": {},
   "outputs": [],
   "source": [
    "orders = orders[orders['buy_ts'] != orders['buy_ts'].max()]"
   ]
  },
  {
   "cell_type": "code",
   "execution_count": 82,
   "metadata": {},
   "outputs": [
    {
     "name": "stdout",
     "output_type": "stream",
     "text": [
      "<class 'pandas.core.frame.DataFrame'>\n",
      "RangeIndex: 359400 entries, 0 to 359399\n",
      "Data columns (total 9 columns):\n",
      "device           359400 non-null object\n",
      "end_ts           359400 non-null datetime64[ns]\n",
      "source_id        359400 non-null int64\n",
      "start_ts         359400 non-null datetime64[ns]\n",
      "uid              359400 non-null uint64\n",
      "session_date     359400 non-null datetime64[ns]\n",
      "session_week     359400 non-null int64\n",
      "session_month    359400 non-null int64\n",
      "session_year     359400 non-null int64\n",
      "dtypes: datetime64[ns](3), int64(4), object(1), uint64(1)\n",
      "memory usage: 24.7+ MB\n"
     ]
    }
   ],
   "source": [
    "# добавляем дату, неделю, месяц и год начала сессии в отдельные колонки\n",
    "visits['session_date'] = visits['start_ts'].dt.date\n",
    "visits['session_week'] = visits['start_ts'].dt.week\n",
    "visits['session_month'] = visits['start_ts'].dt.month\n",
    "visits['session_year'] = visits['start_ts'].dt.year\n",
    "visits['session_date'] = pd.to_datetime(visits['session_date'])\n",
    "visits.info()"
   ]
  },
  {
   "cell_type": "code",
   "execution_count": 83,
   "metadata": {},
   "outputs": [
    {
     "data": {
      "text/html": [
       "<div>\n",
       "<style scoped>\n",
       "    .dataframe tbody tr th:only-of-type {\n",
       "        vertical-align: middle;\n",
       "    }\n",
       "\n",
       "    .dataframe tbody tr th {\n",
       "        vertical-align: top;\n",
       "    }\n",
       "\n",
       "    .dataframe thead th {\n",
       "        text-align: right;\n",
       "    }\n",
       "</style>\n",
       "<table border=\"1\" class=\"dataframe\">\n",
       "  <thead>\n",
       "    <tr style=\"text-align: right;\">\n",
       "      <th></th>\n",
       "      <th>uid</th>\n",
       "    </tr>\n",
       "  </thead>\n",
       "  <tbody>\n",
       "    <tr>\n",
       "      <td>count</td>\n",
       "      <td>364.000000</td>\n",
       "    </tr>\n",
       "    <tr>\n",
       "      <td>mean</td>\n",
       "      <td>907.967033</td>\n",
       "    </tr>\n",
       "    <tr>\n",
       "      <td>std</td>\n",
       "      <td>370.441259</td>\n",
       "    </tr>\n",
       "    <tr>\n",
       "      <td>min</td>\n",
       "      <td>1.000000</td>\n",
       "    </tr>\n",
       "    <tr>\n",
       "      <td>25%</td>\n",
       "      <td>594.000000</td>\n",
       "    </tr>\n",
       "    <tr>\n",
       "      <td>50%</td>\n",
       "      <td>921.000000</td>\n",
       "    </tr>\n",
       "    <tr>\n",
       "      <td>75%</td>\n",
       "      <td>1173.000000</td>\n",
       "    </tr>\n",
       "    <tr>\n",
       "      <td>max</td>\n",
       "      <td>3319.000000</td>\n",
       "    </tr>\n",
       "  </tbody>\n",
       "</table>\n",
       "</div>"
      ],
      "text/plain": [
       "               uid\n",
       "count   364.000000\n",
       "mean    907.967033\n",
       "std     370.441259\n",
       "min       1.000000\n",
       "25%     594.000000\n",
       "50%     921.000000\n",
       "75%    1173.000000\n",
       "max    3319.000000"
      ]
     },
     "execution_count": 83,
     "metadata": {},
     "output_type": "execute_result"
    }
   ],
   "source": [
    "# удаляем строки с данными за 1 июня 2018\n",
    "visits = visits[(visits['session_date'] != '2018-06-01') & (visits['end_ts'] < '2018-06-01')]\n",
    "# пользовательская активность по датам: число уникальных пользователей в определенный день\n",
    "daus=visits.groupby('session_date').agg({'uid':'nunique'})\n",
    "visits.groupby('session_date').agg({'uid':'nunique'}).describe()"
   ]
  },
  {
   "cell_type": "code",
   "execution_count": 84,
   "metadata": {},
   "outputs": [
    {
     "data": {
      "text/html": [
       "<div>\n",
       "<style scoped>\n",
       "    .dataframe tbody tr th:only-of-type {\n",
       "        vertical-align: middle;\n",
       "    }\n",
       "\n",
       "    .dataframe tbody tr th {\n",
       "        vertical-align: top;\n",
       "    }\n",
       "\n",
       "    .dataframe thead th {\n",
       "        text-align: right;\n",
       "    }\n",
       "</style>\n",
       "<table border=\"1\" class=\"dataframe\">\n",
       "  <thead>\n",
       "    <tr style=\"text-align: right;\">\n",
       "      <th></th>\n",
       "      <th>uid</th>\n",
       "    </tr>\n",
       "    <tr>\n",
       "      <th>session_date</th>\n",
       "      <th></th>\n",
       "    </tr>\n",
       "  </thead>\n",
       "  <tbody>\n",
       "    <tr>\n",
       "      <td>2018-03-31</td>\n",
       "      <td>1</td>\n",
       "    </tr>\n",
       "  </tbody>\n",
       "</table>\n",
       "</div>"
      ],
      "text/plain": [
       "              uid\n",
       "session_date     \n",
       "2018-03-31      1"
      ]
     },
     "execution_count": 84,
     "metadata": {},
     "output_type": "execute_result"
    }
   ],
   "source": [
    "daus[daus['uid']==1]"
   ]
  },
  {
   "cell_type": "markdown",
   "metadata": {},
   "source": [
    "Интересно, что случилось 31 марта 2018. Может, такое мизерное число посетителей связано с тем, что сайт упал?\\\n",
    "Посчитаем метрики DAU, WAU, MAU:"
   ]
  },
  {
   "cell_type": "code",
   "execution_count": 85,
   "metadata": {},
   "outputs": [
    {
     "name": "stdout",
     "output_type": "stream",
     "text": [
      "daily active users -  907\n"
     ]
    }
   ],
   "source": [
    "dau = int(daus.mean()[0])\n",
    "print('daily active users - ', dau)"
   ]
  },
  {
   "cell_type": "code",
   "execution_count": 86,
   "metadata": {},
   "outputs": [
    {
     "name": "stdout",
     "output_type": "stream",
     "text": [
      "weekly active users -  5716\n"
     ]
    }
   ],
   "source": [
    "wau = int(visits.groupby(['session_year', 'session_week']).agg({'uid':'nunique'}).mean())\n",
    "print('weekly active users - ', wau)"
   ]
  },
  {
   "cell_type": "code",
   "execution_count": 87,
   "metadata": {},
   "outputs": [
    {
     "name": "stdout",
     "output_type": "stream",
     "text": [
      "monthly active users -  23227\n"
     ]
    }
   ],
   "source": [
    "mau = int(visits.groupby(['session_year', 'session_month']).agg({'uid':'nunique'}).mean())\n",
    "print('monthly active users - ', mau)"
   ]
  },
  {
   "cell_type": "markdown",
   "metadata": {},
   "source": [
    "Среднее число сессий в день:"
   ]
  },
  {
   "cell_type": "code",
   "execution_count": 88,
   "metadata": {},
   "outputs": [
    {
     "data": {
      "text/plain": [
       "987"
      ]
     },
     "execution_count": 88,
     "metadata": {},
     "output_type": "execute_result"
    }
   ],
   "source": [
    "session_per_day = visits.groupby('session_date')['uid'].count().mean()\n",
    "int(session_per_day)"
   ]
  },
  {
   "cell_type": "markdown",
   "metadata": {},
   "source": [
    "Средняя длительность сессии:"
   ]
  },
  {
   "cell_type": "code",
   "execution_count": 89,
   "metadata": {},
   "outputs": [
    {
     "name": "stderr",
     "output_type": "stream",
     "text": [
      "/opt/conda/lib/python3.7/site-packages/ipykernel_launcher.py:1: SettingWithCopyWarning: \n",
      "A value is trying to be set on a copy of a slice from a DataFrame.\n",
      "Try using .loc[row_indexer,col_indexer] = value instead\n",
      "\n",
      "See the caveats in the documentation: http://pandas.pydata.org/pandas-docs/stable/user_guide/indexing.html#returning-a-view-versus-a-copy\n",
      "  \"\"\"Entry point for launching an IPython kernel.\n"
     ]
    },
    {
     "data": {
      "text/plain": [
       "643.4657028058812"
      ]
     },
     "execution_count": 89,
     "metadata": {},
     "output_type": "execute_result"
    }
   ],
   "source": [
    "visits['session_duration'] = (visits['end_ts'] - visits['start_ts']).dt.seconds # длительность сессии в секундах\n",
    "asl = visits['session_duration'].mean()\n",
    "asl"
   ]
  },
  {
   "cell_type": "code",
   "execution_count": 90,
   "metadata": {},
   "outputs": [
    {
     "data": {
      "image/png": "[encoded data removed]",
      "text/plain": [
       "<Figure size 432x288 with 1 Axes>"
      ]
     },
     "metadata": {},
     "output_type": "display_data"
    }
   ],
   "source": [
    "# построим распределение числа сессий по длительности\n",
    "sb.set()\n",
    "visits['session_duration'].plot(kind='hist', bins=40, range=(0,1000))\n",
    "plt.xlabel('session duration')\n",
    "plt.show()"
   ]
  },
  {
   "cell_type": "markdown",
   "metadata": {},
   "source": [
    "Больше всего сессий продолжительности 2-3 минуты."
   ]
  },
  {
   "cell_type": "markdown",
   "metadata": {},
   "source": [
    "Как часто люди возвращаются? Чтобы ответить на этот вопрос проведем когортный анализ, где посчитаем retention. Когортой будем считать группу пользователей, которые впервые пришли на сайт в определенном месяце."
   ]
  },
  {
   "cell_type": "code",
   "execution_count": 91,
   "metadata": {},
   "outputs": [
    {
     "name": "stderr",
     "output_type": "stream",
     "text": [
      "/opt/conda/lib/python3.7/site-packages/ipykernel_launcher.py:1: SettingWithCopyWarning: \n",
      "A value is trying to be set on a copy of a slice from a DataFrame.\n",
      "Try using .loc[row_indexer,col_indexer] = value instead\n",
      "\n",
      "See the caveats in the documentation: http://pandas.pydata.org/pandas-docs/stable/user_guide/indexing.html#returning-a-view-versus-a-copy\n",
      "  \"\"\"Entry point for launching an IPython kernel.\n"
     ]
    }
   ],
   "source": [
    "visits['month_visit'] = visits['session_date'].astype('datetime64[M]') # выделяем месяц\n",
    "# выделяем месяц первого визита на сайт для каждого юзера\n",
    "first_visits = (visits\n",
    "                        .groupby('uid')\n",
    "                        .agg({'session_date':'min'})\n",
    "                        .rename(columns={'session_date':'first_visit'})\n",
    "                        .reset_index()\n",
    "               )\n",
    "visits = visits.merge(first_visits, on='uid') # соединяем с исходной таблицей"
   ]
  },
  {
   "cell_type": "code",
   "execution_count": 92,
   "metadata": {},
   "outputs": [],
   "source": [
    "visits['first_month_visit'] = visits['first_visit'].astype('datetime64[M]')\n",
    "# добавим лайфтайм когорт\n",
    "visits['cohort_lifetime'] = (((visits['month_visit'] - visits['first_month_visit']) / np.timedelta64(1,'M')).round()).astype('int')"
   ]
  },
  {
   "cell_type": "code",
   "execution_count": 93,
   "metadata": {},
   "outputs": [
    {
     "data": {
      "text/html": [
       "<div>\n",
       "<style scoped>\n",
       "    .dataframe tbody tr th:only-of-type {\n",
       "        vertical-align: middle;\n",
       "    }\n",
       "\n",
       "    .dataframe tbody tr th {\n",
       "        vertical-align: top;\n",
       "    }\n",
       "\n",
       "    .dataframe thead th {\n",
       "        text-align: right;\n",
       "    }\n",
       "</style>\n",
       "<table border=\"1\" class=\"dataframe\">\n",
       "  <thead>\n",
       "    <tr style=\"text-align: right;\">\n",
       "      <th></th>\n",
       "      <th>device</th>\n",
       "      <th>end_ts</th>\n",
       "      <th>source_id</th>\n",
       "      <th>start_ts</th>\n",
       "      <th>uid</th>\n",
       "      <th>session_date</th>\n",
       "      <th>session_week</th>\n",
       "      <th>session_month</th>\n",
       "      <th>session_year</th>\n",
       "      <th>session_duration</th>\n",
       "      <th>month_visit</th>\n",
       "      <th>first_visit</th>\n",
       "      <th>first_month_visit</th>\n",
       "      <th>cohort_lifetime</th>\n",
       "    </tr>\n",
       "  </thead>\n",
       "  <tbody>\n",
       "    <tr>\n",
       "      <td>0</td>\n",
       "      <td>touch</td>\n",
       "      <td>2017-12-20 17:38:00</td>\n",
       "      <td>4</td>\n",
       "      <td>2017-12-20 17:20:00</td>\n",
       "      <td>16879256277535980062</td>\n",
       "      <td>2017-12-20</td>\n",
       "      <td>51</td>\n",
       "      <td>12</td>\n",
       "      <td>2017</td>\n",
       "      <td>1080</td>\n",
       "      <td>2017-12-01</td>\n",
       "      <td>2017-12-20</td>\n",
       "      <td>2017-12-01</td>\n",
       "      <td>0</td>\n",
       "    </tr>\n",
       "    <tr>\n",
       "      <td>1</td>\n",
       "      <td>desktop</td>\n",
       "      <td>2018-02-19 17:21:00</td>\n",
       "      <td>2</td>\n",
       "      <td>2018-02-19 16:53:00</td>\n",
       "      <td>104060357244891740</td>\n",
       "      <td>2018-02-19</td>\n",
       "      <td>8</td>\n",
       "      <td>2</td>\n",
       "      <td>2018</td>\n",
       "      <td>1680</td>\n",
       "      <td>2018-02-01</td>\n",
       "      <td>2018-02-19</td>\n",
       "      <td>2018-02-01</td>\n",
       "      <td>0</td>\n",
       "    </tr>\n",
       "    <tr>\n",
       "      <td>2</td>\n",
       "      <td>touch</td>\n",
       "      <td>2017-07-01 01:54:00</td>\n",
       "      <td>5</td>\n",
       "      <td>2017-07-01 01:54:00</td>\n",
       "      <td>7459035603376831527</td>\n",
       "      <td>2017-07-01</td>\n",
       "      <td>26</td>\n",
       "      <td>7</td>\n",
       "      <td>2017</td>\n",
       "      <td>0</td>\n",
       "      <td>2017-07-01</td>\n",
       "      <td>2017-07-01</td>\n",
       "      <td>2017-07-01</td>\n",
       "      <td>0</td>\n",
       "    </tr>\n",
       "    <tr>\n",
       "      <td>3</td>\n",
       "      <td>desktop</td>\n",
       "      <td>2018-05-20 11:23:00</td>\n",
       "      <td>9</td>\n",
       "      <td>2018-05-20 10:59:00</td>\n",
       "      <td>16174680259334210214</td>\n",
       "      <td>2018-05-20</td>\n",
       "      <td>20</td>\n",
       "      <td>5</td>\n",
       "      <td>2018</td>\n",
       "      <td>1440</td>\n",
       "      <td>2018-05-01</td>\n",
       "      <td>2018-03-09</td>\n",
       "      <td>2018-03-01</td>\n",
       "      <td>2</td>\n",
       "    </tr>\n",
       "    <tr>\n",
       "      <td>4</td>\n",
       "      <td>desktop</td>\n",
       "      <td>2018-03-09 20:33:00</td>\n",
       "      <td>4</td>\n",
       "      <td>2018-03-09 20:05:00</td>\n",
       "      <td>16174680259334210214</td>\n",
       "      <td>2018-03-09</td>\n",
       "      <td>10</td>\n",
       "      <td>3</td>\n",
       "      <td>2018</td>\n",
       "      <td>1680</td>\n",
       "      <td>2018-03-01</td>\n",
       "      <td>2018-03-09</td>\n",
       "      <td>2018-03-01</td>\n",
       "      <td>0</td>\n",
       "    </tr>\n",
       "    <tr>\n",
       "      <td>...</td>\n",
       "      <td>...</td>\n",
       "      <td>...</td>\n",
       "      <td>...</td>\n",
       "      <td>...</td>\n",
       "      <td>...</td>\n",
       "      <td>...</td>\n",
       "      <td>...</td>\n",
       "      <td>...</td>\n",
       "      <td>...</td>\n",
       "      <td>...</td>\n",
       "      <td>...</td>\n",
       "      <td>...</td>\n",
       "      <td>...</td>\n",
       "      <td>...</td>\n",
       "    </tr>\n",
       "    <tr>\n",
       "      <td>359383</td>\n",
       "      <td>desktop</td>\n",
       "      <td>2017-11-08 13:39:00</td>\n",
       "      <td>4</td>\n",
       "      <td>2017-11-08 13:39:00</td>\n",
       "      <td>6761309174945977743</td>\n",
       "      <td>2017-11-08</td>\n",
       "      <td>45</td>\n",
       "      <td>11</td>\n",
       "      <td>2017</td>\n",
       "      <td>0</td>\n",
       "      <td>2017-11-01</td>\n",
       "      <td>2017-11-08</td>\n",
       "      <td>2017-11-01</td>\n",
       "      <td>0</td>\n",
       "    </tr>\n",
       "    <tr>\n",
       "      <td>359384</td>\n",
       "      <td>desktop</td>\n",
       "      <td>2017-07-31 12:31:00</td>\n",
       "      <td>3</td>\n",
       "      <td>2017-07-31 12:13:00</td>\n",
       "      <td>11102751930812818282</td>\n",
       "      <td>2017-07-31</td>\n",
       "      <td>31</td>\n",
       "      <td>7</td>\n",
       "      <td>2017</td>\n",
       "      <td>1080</td>\n",
       "      <td>2017-07-01</td>\n",
       "      <td>2017-07-31</td>\n",
       "      <td>2017-07-01</td>\n",
       "      <td>0</td>\n",
       "    </tr>\n",
       "    <tr>\n",
       "      <td>359385</td>\n",
       "      <td>desktop</td>\n",
       "      <td>2018-03-20 15:25:00</td>\n",
       "      <td>4</td>\n",
       "      <td>2018-03-20 15:11:00</td>\n",
       "      <td>272012551460639309</td>\n",
       "      <td>2018-03-20</td>\n",
       "      <td>12</td>\n",
       "      <td>3</td>\n",
       "      <td>2018</td>\n",
       "      <td>840</td>\n",
       "      <td>2018-03-01</td>\n",
       "      <td>2018-03-20</td>\n",
       "      <td>2018-03-01</td>\n",
       "      <td>0</td>\n",
       "    </tr>\n",
       "    <tr>\n",
       "      <td>359386</td>\n",
       "      <td>touch</td>\n",
       "      <td>2018-04-03 11:23:00</td>\n",
       "      <td>5</td>\n",
       "      <td>2018-04-03 11:19:00</td>\n",
       "      <td>3266363999948772866</td>\n",
       "      <td>2018-04-03</td>\n",
       "      <td>14</td>\n",
       "      <td>4</td>\n",
       "      <td>2018</td>\n",
       "      <td>240</td>\n",
       "      <td>2018-04-01</td>\n",
       "      <td>2018-04-03</td>\n",
       "      <td>2018-04-01</td>\n",
       "      <td>0</td>\n",
       "    </tr>\n",
       "    <tr>\n",
       "      <td>359387</td>\n",
       "      <td>desktop</td>\n",
       "      <td>2018-05-31 21:04:19</td>\n",
       "      <td>2</td>\n",
       "      <td>2018-05-31 21:04:00</td>\n",
       "      <td>12484396335714047199</td>\n",
       "      <td>2018-05-31</td>\n",
       "      <td>22</td>\n",
       "      <td>5</td>\n",
       "      <td>2018</td>\n",
       "      <td>19</td>\n",
       "      <td>2018-05-01</td>\n",
       "      <td>2018-05-31</td>\n",
       "      <td>2018-05-01</td>\n",
       "      <td>0</td>\n",
       "    </tr>\n",
       "  </tbody>\n",
       "</table>\n",
       "<p>359388 rows × 14 columns</p>\n",
       "</div>"
      ],
      "text/plain": [
       "         device              end_ts  source_id            start_ts  \\\n",
       "0         touch 2017-12-20 17:38:00          4 2017-12-20 17:20:00   \n",
       "1       desktop 2018-02-19 17:21:00          2 2018-02-19 16:53:00   \n",
       "2         touch 2017-07-01 01:54:00          5 2017-07-01 01:54:00   \n",
       "3       desktop 2018-05-20 11:23:00          9 2018-05-20 10:59:00   \n",
       "4       desktop 2018-03-09 20:33:00          4 2018-03-09 20:05:00   \n",
       "...         ...                 ...        ...                 ...   \n",
       "359383  desktop 2017-11-08 13:39:00          4 2017-11-08 13:39:00   \n",
       "359384  desktop 2017-07-31 12:31:00          3 2017-07-31 12:13:00   \n",
       "359385  desktop 2018-03-20 15:25:00          4 2018-03-20 15:11:00   \n",
       "359386    touch 2018-04-03 11:23:00          5 2018-04-03 11:19:00   \n",
       "359387  desktop 2018-05-31 21:04:19          2 2018-05-31 21:04:00   \n",
       "\n",
       "                         uid session_date  session_week  session_month  \\\n",
       "0       16879256277535980062   2017-12-20            51             12   \n",
       "1         104060357244891740   2018-02-19             8              2   \n",
       "2        7459035603376831527   2017-07-01            26              7   \n",
       "3       16174680259334210214   2018-05-20            20              5   \n",
       "4       16174680259334210214   2018-03-09            10              3   \n",
       "...                      ...          ...           ...            ...   \n",
       "359383   6761309174945977743   2017-11-08            45             11   \n",
       "359384  11102751930812818282   2017-07-31            31              7   \n",
       "359385    272012551460639309   2018-03-20            12              3   \n",
       "359386   3266363999948772866   2018-04-03            14              4   \n",
       "359387  12484396335714047199   2018-05-31            22              5   \n",
       "\n",
       "        session_year  session_duration month_visit first_visit  \\\n",
       "0               2017              1080  2017-12-01  2017-12-20   \n",
       "1               2018              1680  2018-02-01  2018-02-19   \n",
       "2               2017                 0  2017-07-01  2017-07-01   \n",
       "3               2018              1440  2018-05-01  2018-03-09   \n",
       "4               2018              1680  2018-03-01  2018-03-09   \n",
       "...              ...               ...         ...         ...   \n",
       "359383          2017                 0  2017-11-01  2017-11-08   \n",
       "359384          2017              1080  2017-07-01  2017-07-31   \n",
       "359385          2018               840  2018-03-01  2018-03-20   \n",
       "359386          2018               240  2018-04-01  2018-04-03   \n",
       "359387          2018                19  2018-05-01  2018-05-31   \n",
       "\n",
       "       first_month_visit  cohort_lifetime  \n",
       "0             2017-12-01                0  \n",
       "1             2018-02-01                0  \n",
       "2             2017-07-01                0  \n",
       "3             2018-03-01                2  \n",
       "4             2018-03-01                0  \n",
       "...                  ...              ...  \n",
       "359383        2017-11-01                0  \n",
       "359384        2017-07-01                0  \n",
       "359385        2018-03-01                0  \n",
       "359386        2018-04-01                0  \n",
       "359387        2018-05-01                0  \n",
       "\n",
       "[359388 rows x 14 columns]"
      ]
     },
     "execution_count": 93,
     "metadata": {},
     "output_type": "execute_result"
    }
   ],
   "source": [
    "visits"
   ]
  },
  {
   "cell_type": "code",
   "execution_count": 95,
   "metadata": {},
   "outputs": [],
   "source": [
    "def cohorts_one_source(df):\n",
    "    \n",
    "    # драфт таблицы с число уникальных пользователей в каждой когорте в зависимости от возраста когорты\n",
    "    cohorts = (df\n",
    "                .groupby(['first_month_visit', 'cohort_lifetime'])\n",
    "                .agg({'uid':'nunique'})\n",
    "                .reset_index()\n",
    "                .rename(columns={'uid':'n_users'})\n",
    "              )\n",
    "    # сделаем отдельную таюлицу, где будут лежать размеры когорт (число посетителей на начальный период каждой когорты)\n",
    "    cohort_sizes = (df[df['cohort_lifetime'] == 0]\n",
    "                        .groupby('first_month_visit')\n",
    "                        .agg({'uid':'nunique'})\n",
    "                        .reset_index()\n",
    "                        .rename(columns={'uid':'cohort_size'})\n",
    "                   )\n",
    "    # добавим это в общую таблицу с когортами\n",
    "    cohorts_final = cohorts.merge(cohort_sizes, on='first_month_visit')\n",
    "    # считаем retention\n",
    "    cohorts_final['retention'] = cohorts_final.n_users / cohorts_final.cohort_size\n",
    "    return cohorts_final\n",
    "\n",
    "def retention_one_source(df):\n",
    "    source = df['source_id'].unique()[0]\n",
    "    retention = cohorts_one_source(df).groupby('cohort_lifetime')['retention'].mean().reset_index()\n",
    "    retention.columns = ['cohort_lifetime',\"retention_{}_source\".format(source)]\n",
    "    return retention"
   ]
  },
  {
   "cell_type": "code",
   "execution_count": 96,
   "metadata": {},
   "outputs": [
    {
     "data": {
      "image/png": "[encoded data removed]",
      "text/plain": [
       "<Figure size 720x720 with 1 Axes>"
      ]
     },
     "metadata": {},
     "output_type": "display_data"
    }
   ],
   "source": [
    "sources = visits['source_id'].unique()\n",
    "#retention_one_source(visits[visits['source_id'] == 1])\n",
    "\n",
    "retention_all_sources = retention_one_source(visits[visits['source_id'] == sources[0]])\n",
    "for item in sources[1::]:\n",
    "    retention_all_sources = retention_all_sources.merge(retention_one_source(visits[visits['source_id'] == item]), on='cohort_lifetime', how='left')\n",
    "retention_all_sources.drop('cohort_lifetime', axis=1).plot(figsize=(10,10))\n",
    "plt.xlim(1,11)\n",
    "plt.ylim(0,0.2)\n",
    "plt.show()"
   ]
  },
  {
   "cell_type": "code",
   "execution_count": 162,
   "metadata": {},
   "outputs": [
    {
     "data": {
      "image/png": "[encoded data removed]",
      "text/plain": [
       "<Figure size 1080x648 with 2 Axes>"
      ]
     },
     "metadata": {},
     "output_type": "display_data"
    }
   ],
   "source": [
    "retention_pivot = (cohorts_one_source(visits)\n",
    "                   .query('cohort_lifetime > 0')\n",
    "                   .pivot_table(index='first_month_visit', columns='cohort_lifetime', values='retention')\n",
    "                  )\n",
    "plt.figure(figsize=(15, 9))\n",
    "sb.heatmap(retention_pivot, annot=True, fmt='.2%', linewidths=1, linecolor='gray')\n",
    "plt.title('Visit Retention Rate')\n",
    "plt.show()"
   ]
  },
  {
   "cell_type": "markdown",
   "metadata": {},
   "source": [
    "Показатели по удержанию клиентов очень низки. Интересно то, что уже через месяц лояльными остается не более 9% посетителей и далее этот процент падает еще сильнее до 2-5%."
   ]
  },
  {
   "cell_type": "code",
   "execution_count": 100,
   "metadata": {},
   "outputs": [
    {
     "data": {
      "text/html": [
       "<div>\n",
       "<style scoped>\n",
       "    .dataframe tbody tr th:only-of-type {\n",
       "        vertical-align: middle;\n",
       "    }\n",
       "\n",
       "    .dataframe tbody tr th {\n",
       "        vertical-align: top;\n",
       "    }\n",
       "\n",
       "    .dataframe thead th {\n",
       "        text-align: right;\n",
       "    }\n",
       "</style>\n",
       "<table border=\"1\" class=\"dataframe\">\n",
       "  <thead>\n",
       "    <tr style=\"text-align: right;\">\n",
       "      <th></th>\n",
       "      <th>uid</th>\n",
       "      <th>buy_ts</th>\n",
       "      <th>revenue</th>\n",
       "      <th>start_ts</th>\n",
       "      <th>end_ts</th>\n",
       "      <th>session_month</th>\n",
       "      <th>bought_in_session</th>\n",
       "      <th>bought_within</th>\n",
       "    </tr>\n",
       "  </thead>\n",
       "  <tbody>\n",
       "    <tr>\n",
       "      <td>1</td>\n",
       "      <td>16174680259334210214</td>\n",
       "      <td>2018-03-09 20:25:00</td>\n",
       "      <td>2.33</td>\n",
       "      <td>2018-03-09 20:05:00</td>\n",
       "      <td>2018-03-09 20:33:00</td>\n",
       "      <td>3</td>\n",
       "      <td>True</td>\n",
       "      <td>20.0</td>\n",
       "    </tr>\n",
       "    <tr>\n",
       "      <td>12</td>\n",
       "      <td>16007536194108375387</td>\n",
       "      <td>2017-10-28 00:01:00</td>\n",
       "      <td>1.53</td>\n",
       "      <td>2017-10-27 23:56:00</td>\n",
       "      <td>2017-10-28 00:04:00</td>\n",
       "      <td>10</td>\n",
       "      <td>True</td>\n",
       "      <td>5.0</td>\n",
       "    </tr>\n",
       "    <tr>\n",
       "      <td>29</td>\n",
       "      <td>16007536194108375387</td>\n",
       "      <td>2017-09-04 12:46:00</td>\n",
       "      <td>2.44</td>\n",
       "      <td>2017-09-04 12:44:00</td>\n",
       "      <td>2017-09-04 12:51:00</td>\n",
       "      <td>9</td>\n",
       "      <td>True</td>\n",
       "      <td>2.0</td>\n",
       "    </tr>\n",
       "    <tr>\n",
       "      <td>797</td>\n",
       "      <td>8056418121947262981</td>\n",
       "      <td>2017-10-28 14:32:00</td>\n",
       "      <td>4.28</td>\n",
       "      <td>2017-10-28 14:29:00</td>\n",
       "      <td>2017-10-28 14:37:00</td>\n",
       "      <td>10</td>\n",
       "      <td>True</td>\n",
       "      <td>3.0</td>\n",
       "    </tr>\n",
       "    <tr>\n",
       "      <td>1602</td>\n",
       "      <td>8056418121947262981</td>\n",
       "      <td>2017-06-26 09:14:00</td>\n",
       "      <td>3.67</td>\n",
       "      <td>2017-06-26 08:13:00</td>\n",
       "      <td>2017-06-26 09:16:00</td>\n",
       "      <td>6</td>\n",
       "      <td>True</td>\n",
       "      <td>61.0</td>\n",
       "    </tr>\n",
       "    <tr>\n",
       "      <td>...</td>\n",
       "      <td>...</td>\n",
       "      <td>...</td>\n",
       "      <td>...</td>\n",
       "      <td>...</td>\n",
       "      <td>...</td>\n",
       "      <td>...</td>\n",
       "      <td>...</td>\n",
       "      <td>...</td>\n",
       "    </tr>\n",
       "    <tr>\n",
       "      <td>761795</td>\n",
       "      <td>6752020629696526518</td>\n",
       "      <td>2017-12-04 12:46:00</td>\n",
       "      <td>4.15</td>\n",
       "      <td>2017-12-04 12:42:00</td>\n",
       "      <td>2017-12-04 12:50:00</td>\n",
       "      <td>12</td>\n",
       "      <td>True</td>\n",
       "      <td>4.0</td>\n",
       "    </tr>\n",
       "    <tr>\n",
       "      <td>761796</td>\n",
       "      <td>11750532881998794555</td>\n",
       "      <td>2017-11-20 23:43:00</td>\n",
       "      <td>3.67</td>\n",
       "      <td>2017-11-20 23:33:00</td>\n",
       "      <td>2017-11-20 23:44:00</td>\n",
       "      <td>11</td>\n",
       "      <td>True</td>\n",
       "      <td>10.0</td>\n",
       "    </tr>\n",
       "    <tr>\n",
       "      <td>761797</td>\n",
       "      <td>11202626539189016002</td>\n",
       "      <td>2017-11-29 20:33:00</td>\n",
       "      <td>3.05</td>\n",
       "      <td>2017-11-29 20:27:00</td>\n",
       "      <td>2017-11-29 20:48:00</td>\n",
       "      <td>11</td>\n",
       "      <td>True</td>\n",
       "      <td>6.0</td>\n",
       "    </tr>\n",
       "    <tr>\n",
       "      <td>761798</td>\n",
       "      <td>12734910664455613822</td>\n",
       "      <td>2018-04-23 21:16:00</td>\n",
       "      <td>0.49</td>\n",
       "      <td>2018-04-23 21:11:00</td>\n",
       "      <td>2018-04-23 21:19:00</td>\n",
       "      <td>4</td>\n",
       "      <td>True</td>\n",
       "      <td>5.0</td>\n",
       "    </tr>\n",
       "    <tr>\n",
       "      <td>761799</td>\n",
       "      <td>11102751930812818282</td>\n",
       "      <td>2017-07-31 12:27:00</td>\n",
       "      <td>2.44</td>\n",
       "      <td>2017-07-31 12:13:00</td>\n",
       "      <td>2017-07-31 12:31:00</td>\n",
       "      <td>7</td>\n",
       "      <td>True</td>\n",
       "      <td>14.0</td>\n",
       "    </tr>\n",
       "  </tbody>\n",
       "</table>\n",
       "<p>29580 rows × 8 columns</p>\n",
       "</div>"
      ],
      "text/plain": [
       "                         uid              buy_ts  revenue            start_ts  \\\n",
       "1       16174680259334210214 2018-03-09 20:25:00     2.33 2018-03-09 20:05:00   \n",
       "12      16007536194108375387 2017-10-28 00:01:00     1.53 2017-10-27 23:56:00   \n",
       "29      16007536194108375387 2017-09-04 12:46:00     2.44 2017-09-04 12:44:00   \n",
       "797      8056418121947262981 2017-10-28 14:32:00     4.28 2017-10-28 14:29:00   \n",
       "1602     8056418121947262981 2017-06-26 09:14:00     3.67 2017-06-26 08:13:00   \n",
       "...                      ...                 ...      ...                 ...   \n",
       "761795   6752020629696526518 2017-12-04 12:46:00     4.15 2017-12-04 12:42:00   \n",
       "761796  11750532881998794555 2017-11-20 23:43:00     3.67 2017-11-20 23:33:00   \n",
       "761797  11202626539189016002 2017-11-29 20:33:00     3.05 2017-11-29 20:27:00   \n",
       "761798  12734910664455613822 2018-04-23 21:16:00     0.49 2018-04-23 21:11:00   \n",
       "761799  11102751930812818282 2017-07-31 12:27:00     2.44 2017-07-31 12:13:00   \n",
       "\n",
       "                    end_ts  session_month  bought_in_session  bought_within  \n",
       "1      2018-03-09 20:33:00              3               True           20.0  \n",
       "12     2017-10-28 00:04:00             10               True            5.0  \n",
       "29     2017-09-04 12:51:00              9               True            2.0  \n",
       "797    2017-10-28 14:37:00             10               True            3.0  \n",
       "1602   2017-06-26 09:16:00              6               True           61.0  \n",
       "...                    ...            ...                ...            ...  \n",
       "761795 2017-12-04 12:50:00             12               True            4.0  \n",
       "761796 2017-11-20 23:44:00             11               True           10.0  \n",
       "761797 2017-11-29 20:48:00             11               True            6.0  \n",
       "761798 2018-04-23 21:19:00              4               True            5.0  \n",
       "761799 2017-07-31 12:31:00              7               True           14.0  \n",
       "\n",
       "[29580 rows x 8 columns]"
      ]
     },
     "execution_count": 100,
     "metadata": {},
     "output_type": "execute_result"
    }
   ],
   "source": [
    "buyers = orders.uid # список юзеров, которые что-то купили на сайте\n",
    "sales = visits.query('uid in @buyers').merge(orders, how='left', on='uid')[['uid','buy_ts', 'revenue','start_ts','end_ts','session_month']]\n",
    "# оставляем только те записи, когда время покупки между началом и концом сессии:\n",
    "sales['bought_in_session'] = (sales['buy_ts'] < sales['end_ts']) & (sales['start_ts'] < sales['buy_ts'])\n",
    "sales = sales.query('bought_in_session == True')\n",
    "\n",
    "# время, через которое после начала сессии пользователь сделал покупку\n",
    "sales['bought_within'] = ((sales['buy_ts'] - sales['start_ts']).dt.seconds) / 60 \n",
    "sales"
   ]
  },
  {
   "cell_type": "markdown",
   "metadata": {},
   "source": [
    "Заметим, что по каким-то причинам не все покупки попадают в границы сессий, должно быть, это ошибки в отправке аналитической телеметрии."
   ]
  },
  {
   "cell_type": "markdown",
   "metadata": {},
   "source": [
    "Посмотрим, сколько в среднем занимает времени сделать покупку, считая от начала сессии до момента совершения покупки:"
   ]
  },
  {
   "cell_type": "code",
   "execution_count": 101,
   "metadata": {},
   "outputs": [
    {
     "data": {
      "image/png": "[encoded data removed]",
      "text/plain": [
       "<Figure size 720x576 with 1 Axes>"
      ]
     },
     "metadata": {},
     "output_type": "display_data"
    }
   ],
   "source": [
    "sales.groupby('session_month')['bought_within'].mean().reset_index().plot(kind='bar', x='session_month', y='bought_within',figsize=(10,8))\n",
    "plt.ylabel('минуты')\n",
    "plt.title('Зависимость времени от начала сессии до покупки от месяца')\n",
    "plt.show()"
   ]
  },
  {
   "cell_type": "markdown",
   "metadata": {},
   "source": [
    "В принципе нельзя сказать, что ситуация как-то зависит от месяца. Между заходом на сайт и покупкой проходит 10-12 минут. "
   ]
  },
  {
   "cell_type": "markdown",
   "metadata": {},
   "source": [
    "Определим число покупок в месяц:"
   ]
  },
  {
   "cell_type": "code",
   "execution_count": 102,
   "metadata": {},
   "outputs": [
    {
     "data": {
      "image/png": "[encoded data removed]",
      "text/plain": [
       "<Figure size 720x576 with 1 Axes>"
      ]
     },
     "metadata": {},
     "output_type": "display_data"
    }
   ],
   "source": [
    "orders['buy_month'] = orders['buy_ts'].dt.month\n",
    "orders.groupby('buy_month')['uid'].count().reset_index().plot(kind='bar', x='buy_month', y='uid',figsize=(10,8))\n",
    "plt.title('Число покупок по месяцам')\n",
    "plt.ylabel('число покупок')\n",
    "plt.show()"
   ]
  },
  {
   "cell_type": "markdown",
   "metadata": {},
   "source": [
    "В летние месяцы покупок в 2-3 раза меньше, чем в остальное время. Это можно объяснить тем, что в театрах сезон обычно начинается осенью, летом представлений, как правило, меньше. Но все равно в таком случае не мешает проверить, все ли было в порядке с сервисом в эти месяцы."
   ]
  },
  {
   "cell_type": "code",
   "execution_count": 103,
   "metadata": {},
   "outputs": [
    {
     "data": {
      "image/png": "[encoded data removed]",
      "text/plain": [
       "<Figure size 720x576 with 1 Axes>"
      ]
     },
     "metadata": {},
     "output_type": "display_data"
    }
   ],
   "source": [
    "# средний чек по месяцам\n",
    "ax=orders.groupby('buy_month')['revenue'].mean().reset_index().plot(kind='bar', x='buy_month', y='revenue', figsize=(10,8))\n",
    "# красной горизонтальной линией обозначим годовой средний чек\n",
    "ax.hlines(orders['revenue'].mean(), -1, 12, color='r', label='общее среднее=4.99')\n",
    "plt.title('Средний чек по месяцам')\n",
    "plt.ylabel('средний чек')\n",
    "plt.legend()\n",
    "plt.show()"
   ]
  },
  {
   "cell_type": "markdown",
   "metadata": {},
   "source": [
    "Средний чек не сильно отличается от месяца к месяцу. Малое число покупок в летние месяцы, как видим, не сильно повлияло на средний чек."
   ]
  },
  {
   "cell_type": "markdown",
   "metadata": {},
   "source": [
    "Чтобы рассчитать затраты по привлечению клиентов в каждом источнике рекламы, нужно каждой покупке поставить в соответствие источник рекламы, из которого этот клиент пришел. Так как один и тот же клиент мог в разное время перейти из разных источников, мы будем считать, что покупка сделана благодаря источнику, соответствующему первому заходу на сайт."
   ]
  },
  {
   "cell_type": "code",
   "execution_count": 127,
   "metadata": {},
   "outputs": [
    {
     "data": {
      "text/html": [
       "<div>\n",
       "<style scoped>\n",
       "    .dataframe tbody tr th:only-of-type {\n",
       "        vertical-align: middle;\n",
       "    }\n",
       "\n",
       "    .dataframe tbody tr th {\n",
       "        vertical-align: top;\n",
       "    }\n",
       "\n",
       "    .dataframe thead th {\n",
       "        text-align: right;\n",
       "    }\n",
       "</style>\n",
       "<table border=\"1\" class=\"dataframe\">\n",
       "  <thead>\n",
       "    <tr style=\"text-align: right;\">\n",
       "      <th></th>\n",
       "      <th>uid</th>\n",
       "      <th>start_ts</th>\n",
       "      <th>source_id</th>\n",
       "      <th>order_month</th>\n",
       "      <th>revenue</th>\n",
       "      <th>buy_month</th>\n",
       "      <th>first_order_month</th>\n",
       "      <th>cohort_lifetime</th>\n",
       "    </tr>\n",
       "  </thead>\n",
       "  <tbody>\n",
       "    <tr>\n",
       "      <td>0</td>\n",
       "      <td>313578113262317</td>\n",
       "      <td>2017-09-18</td>\n",
       "      <td>2</td>\n",
       "      <td>2018-01-01</td>\n",
       "      <td>0.55</td>\n",
       "      <td>1</td>\n",
       "      <td>2018-01-01</td>\n",
       "      <td>0</td>\n",
       "    </tr>\n",
       "    <tr>\n",
       "      <td>1</td>\n",
       "      <td>1575281904278712</td>\n",
       "      <td>2017-06-03</td>\n",
       "      <td>10</td>\n",
       "      <td>2017-06-01</td>\n",
       "      <td>1.22</td>\n",
       "      <td>6</td>\n",
       "      <td>2017-06-01</td>\n",
       "      <td>0</td>\n",
       "    </tr>\n",
       "    <tr>\n",
       "      <td>2</td>\n",
       "      <td>1575281904278712</td>\n",
       "      <td>2017-06-03</td>\n",
       "      <td>10</td>\n",
       "      <td>2017-06-01</td>\n",
       "      <td>1.83</td>\n",
       "      <td>6</td>\n",
       "      <td>2017-06-01</td>\n",
       "      <td>0</td>\n",
       "    </tr>\n",
       "    <tr>\n",
       "      <td>3</td>\n",
       "      <td>2429014661409475</td>\n",
       "      <td>2017-10-11</td>\n",
       "      <td>3</td>\n",
       "      <td>2017-10-01</td>\n",
       "      <td>73.33</td>\n",
       "      <td>10</td>\n",
       "      <td>2017-10-01</td>\n",
       "      <td>0</td>\n",
       "    </tr>\n",
       "    <tr>\n",
       "      <td>4</td>\n",
       "      <td>2464366381792757</td>\n",
       "      <td>2018-01-27</td>\n",
       "      <td>5</td>\n",
       "      <td>2018-01-01</td>\n",
       "      <td>2.44</td>\n",
       "      <td>1</td>\n",
       "      <td>2018-01-01</td>\n",
       "      <td>0</td>\n",
       "    </tr>\n",
       "    <tr>\n",
       "      <td>...</td>\n",
       "      <td>...</td>\n",
       "      <td>...</td>\n",
       "      <td>...</td>\n",
       "      <td>...</td>\n",
       "      <td>...</td>\n",
       "      <td>...</td>\n",
       "      <td>...</td>\n",
       "      <td>...</td>\n",
       "    </tr>\n",
       "    <tr>\n",
       "      <td>50409</td>\n",
       "      <td>18445407535914413204</td>\n",
       "      <td>2017-09-22</td>\n",
       "      <td>3</td>\n",
       "      <td>2017-09-01</td>\n",
       "      <td>0.24</td>\n",
       "      <td>9</td>\n",
       "      <td>2017-09-01</td>\n",
       "      <td>0</td>\n",
       "    </tr>\n",
       "    <tr>\n",
       "      <td>50410</td>\n",
       "      <td>18445407535914413204</td>\n",
       "      <td>2017-09-22</td>\n",
       "      <td>3</td>\n",
       "      <td>2017-09-01</td>\n",
       "      <td>0.12</td>\n",
       "      <td>9</td>\n",
       "      <td>2017-09-01</td>\n",
       "      <td>0</td>\n",
       "    </tr>\n",
       "    <tr>\n",
       "      <td>50411</td>\n",
       "      <td>18445601152732270159</td>\n",
       "      <td>2017-08-07</td>\n",
       "      <td>2</td>\n",
       "      <td>2018-03-01</td>\n",
       "      <td>4.22</td>\n",
       "      <td>3</td>\n",
       "      <td>2018-03-01</td>\n",
       "      <td>0</td>\n",
       "    </tr>\n",
       "    <tr>\n",
       "      <td>50412</td>\n",
       "      <td>18446156210226471712</td>\n",
       "      <td>2017-11-07</td>\n",
       "      <td>3</td>\n",
       "      <td>2018-02-01</td>\n",
       "      <td>9.78</td>\n",
       "      <td>2</td>\n",
       "      <td>2018-02-01</td>\n",
       "      <td>0</td>\n",
       "    </tr>\n",
       "    <tr>\n",
       "      <td>50413</td>\n",
       "      <td>18446167067214817906</td>\n",
       "      <td>2017-10-17</td>\n",
       "      <td>5</td>\n",
       "      <td>2017-10-01</td>\n",
       "      <td>7.94</td>\n",
       "      <td>10</td>\n",
       "      <td>2017-10-01</td>\n",
       "      <td>0</td>\n",
       "    </tr>\n",
       "  </tbody>\n",
       "</table>\n",
       "<p>50414 rows × 8 columns</p>\n",
       "</div>"
      ],
      "text/plain": [
       "                        uid   start_ts  source_id order_month  revenue  \\\n",
       "0           313578113262317 2017-09-18          2  2018-01-01     0.55   \n",
       "1          1575281904278712 2017-06-03         10  2017-06-01     1.22   \n",
       "2          1575281904278712 2017-06-03         10  2017-06-01     1.83   \n",
       "3          2429014661409475 2017-10-11          3  2017-10-01    73.33   \n",
       "4          2464366381792757 2018-01-27          5  2018-01-01     2.44   \n",
       "...                     ...        ...        ...         ...      ...   \n",
       "50409  18445407535914413204 2017-09-22          3  2017-09-01     0.24   \n",
       "50410  18445407535914413204 2017-09-22          3  2017-09-01     0.12   \n",
       "50411  18445601152732270159 2017-08-07          2  2018-03-01     4.22   \n",
       "50412  18446156210226471712 2017-11-07          3  2018-02-01     9.78   \n",
       "50413  18446167067214817906 2017-10-17          5  2017-10-01     7.94   \n",
       "\n",
       "       buy_month first_order_month  cohort_lifetime  \n",
       "0              1        2018-01-01                0  \n",
       "1              6        2017-06-01                0  \n",
       "2              6        2017-06-01                0  \n",
       "3             10        2017-10-01                0  \n",
       "4              1        2018-01-01                0  \n",
       "...          ...               ...              ...  \n",
       "50409          9        2017-09-01                0  \n",
       "50410          9        2017-09-01                0  \n",
       "50411          3        2018-03-01                0  \n",
       "50412          2        2018-02-01                0  \n",
       "50413         10        2017-10-01                0  \n",
       "\n",
       "[50414 rows x 8 columns]"
      ]
     },
     "execution_count": 127,
     "metadata": {},
     "output_type": "execute_result"
    }
   ],
   "source": [
    "# делаем таблицу для когортного анализа в общем и в отдельности по каждому каналу привлечения\n",
    "\n",
    "# присоединяем к дате первого визита на сайт рекламный источник, из которого пришел клиент\n",
    "first_visit_source = (visits.groupby(['uid'])\n",
    "                      .agg({'start_ts':'min'})\n",
    "                      .reset_index()\n",
    "                      .merge(visits[['uid','start_ts','source_id']], on=['uid','start_ts'],how='left')\n",
    "                     )\n",
    "first_visit_source['start_ts'] = first_visit_source['start_ts'].dt.date\n",
    "first_visit_source['start_ts'] = pd.to_datetime(first_visit_source['start_ts'])\n",
    "\n",
    "# присоединяем данные о покупках: время, выручку\n",
    "costs_orders_source = (first_visit_source\n",
    "                       .merge(orders, how='right', on='uid')\n",
    "                      )\n",
    "costs_orders_source['buy_ts'] = costs_orders_source['buy_ts'].astype('datetime64[M]')\n",
    "# добавляем месяц первой покупки\n",
    "costs_orders_source = (costs_orders_source\n",
    "                       .merge\n",
    "                       (costs_orders_source\n",
    "                              .groupby('uid')\n",
    "                              .agg({'buy_ts':'min'})\n",
    "                              .rename(columns={'buy_ts':'first_order_month'})\n",
    "                              .reset_index(), on='uid',how='left')\n",
    "                       \n",
    "                      )\n",
    "# возраст когорт\n",
    "costs_orders_source['cohort_lifetime'] = (((costs_orders_source['buy_ts'] - costs_orders_source['first_order_month']) / np.timedelta64(1,'M'))\n",
    "                                          .round()\n",
    "                                          .astype('int')\n",
    "                                         )\n",
    "costs_orders_source = costs_orders_source.rename(columns={'buy_ts':'order_month'})\n",
    "costs_orders_source"
   ]
  },
  {
   "cell_type": "markdown",
   "metadata": {},
   "source": [
    "Полученная таблица *costs_orders_source* - очень важный результат. Теперь используя ее, можно расчитать LTV и ROI как для всей выборки, так и по каждому рекламному каналу в отдельности."
   ]
  },
  {
   "cell_type": "markdown",
   "metadata": {},
   "source": [
    "Для начала проведем расчеты без деления на источники привлечения, рассчитаем LTV:"
   ]
  },
  {
   "cell_type": "code",
   "execution_count": 105,
   "metadata": {},
   "outputs": [
    {
     "data": {
      "text/html": [
       "<div>\n",
       "<style scoped>\n",
       "    .dataframe tbody tr th:only-of-type {\n",
       "        vertical-align: middle;\n",
       "    }\n",
       "\n",
       "    .dataframe tbody tr th {\n",
       "        vertical-align: top;\n",
       "    }\n",
       "\n",
       "    .dataframe thead th {\n",
       "        text-align: right;\n",
       "    }\n",
       "</style>\n",
       "<table border=\"1\" class=\"dataframe\">\n",
       "  <thead>\n",
       "    <tr style=\"text-align: right;\">\n",
       "      <th></th>\n",
       "      <th>first_order_month</th>\n",
       "      <th>cohort_lifetime</th>\n",
       "      <th>revenue</th>\n",
       "      <th>cohort_size</th>\n",
       "      <th>ltv</th>\n",
       "    </tr>\n",
       "  </thead>\n",
       "  <tbody>\n",
       "    <tr>\n",
       "      <td>0</td>\n",
       "      <td>2017-06-01</td>\n",
       "      <td>0</td>\n",
       "      <td>9557.49</td>\n",
       "      <td>2023</td>\n",
       "      <td>4.724414</td>\n",
       "    </tr>\n",
       "    <tr>\n",
       "      <td>1</td>\n",
       "      <td>2017-06-01</td>\n",
       "      <td>1</td>\n",
       "      <td>981.82</td>\n",
       "      <td>2023</td>\n",
       "      <td>0.485329</td>\n",
       "    </tr>\n",
       "    <tr>\n",
       "      <td>2</td>\n",
       "      <td>2017-06-01</td>\n",
       "      <td>2</td>\n",
       "      <td>885.34</td>\n",
       "      <td>2023</td>\n",
       "      <td>0.437637</td>\n",
       "    </tr>\n",
       "    <tr>\n",
       "      <td>3</td>\n",
       "      <td>2017-06-01</td>\n",
       "      <td>3</td>\n",
       "      <td>1931.30</td>\n",
       "      <td>2023</td>\n",
       "      <td>0.954671</td>\n",
       "    </tr>\n",
       "    <tr>\n",
       "      <td>4</td>\n",
       "      <td>2017-06-01</td>\n",
       "      <td>4</td>\n",
       "      <td>2068.58</td>\n",
       "      <td>2023</td>\n",
       "      <td>1.022531</td>\n",
       "    </tr>\n",
       "    <tr>\n",
       "      <td>...</td>\n",
       "      <td>...</td>\n",
       "      <td>...</td>\n",
       "      <td>...</td>\n",
       "      <td>...</td>\n",
       "      <td>...</td>\n",
       "    </tr>\n",
       "    <tr>\n",
       "      <td>73</td>\n",
       "      <td>2018-03-01</td>\n",
       "      <td>1</td>\n",
       "      <td>1063.05</td>\n",
       "      <td>3533</td>\n",
       "      <td>0.300892</td>\n",
       "    </tr>\n",
       "    <tr>\n",
       "      <td>74</td>\n",
       "      <td>2018-03-01</td>\n",
       "      <td>2</td>\n",
       "      <td>1114.87</td>\n",
       "      <td>3533</td>\n",
       "      <td>0.315559</td>\n",
       "    </tr>\n",
       "    <tr>\n",
       "      <td>75</td>\n",
       "      <td>2018-04-01</td>\n",
       "      <td>0</td>\n",
       "      <td>10600.69</td>\n",
       "      <td>2276</td>\n",
       "      <td>4.657597</td>\n",
       "    </tr>\n",
       "    <tr>\n",
       "      <td>76</td>\n",
       "      <td>2018-04-01</td>\n",
       "      <td>1</td>\n",
       "      <td>1209.92</td>\n",
       "      <td>2276</td>\n",
       "      <td>0.531599</td>\n",
       "    </tr>\n",
       "    <tr>\n",
       "      <td>77</td>\n",
       "      <td>2018-05-01</td>\n",
       "      <td>0</td>\n",
       "      <td>13925.76</td>\n",
       "      <td>2988</td>\n",
       "      <td>4.660562</td>\n",
       "    </tr>\n",
       "  </tbody>\n",
       "</table>\n",
       "<p>78 rows × 5 columns</p>\n",
       "</div>"
      ],
      "text/plain": [
       "   first_order_month  cohort_lifetime   revenue  cohort_size       ltv\n",
       "0         2017-06-01                0   9557.49         2023  4.724414\n",
       "1         2017-06-01                1    981.82         2023  0.485329\n",
       "2         2017-06-01                2    885.34         2023  0.437637\n",
       "3         2017-06-01                3   1931.30         2023  0.954671\n",
       "4         2017-06-01                4   2068.58         2023  1.022531\n",
       "..               ...              ...       ...          ...       ...\n",
       "73        2018-03-01                1   1063.05         3533  0.300892\n",
       "74        2018-03-01                2   1114.87         3533  0.315559\n",
       "75        2018-04-01                0  10600.69         2276  4.657597\n",
       "76        2018-04-01                1   1209.92         2276  0.531599\n",
       "77        2018-05-01                0  13925.76         2988  4.660562\n",
       "\n",
       "[78 rows x 5 columns]"
      ]
     },
     "execution_count": 105,
     "metadata": {},
     "output_type": "execute_result"
    }
   ],
   "source": [
    "# заготовок финальной таблицы, считаем суммарную выручку в каждом месяце по когортам\n",
    "cohorts_orders = costs_orders_source.groupby(['first_order_month','cohort_lifetime']).agg({'revenue':'sum'}).reset_index()\n",
    "# найдем число людей в когорте:\n",
    "cohort_orders_sizes = costs_orders_source.groupby('first_order_month').agg({'uid':'nunique'}).reset_index()\n",
    "cohort_orders_sizes.columns = ['first_order_month', 'cohort_size']\n",
    "cohorts_orders_final = cohorts_orders.merge(cohort_orders_sizes, on='first_order_month')\n",
    "# считаем LTV\n",
    "cohorts_orders_final['ltv'] = cohorts_orders_final['revenue'] / cohorts_orders_final['cohort_size']\n",
    "cohorts_orders_final"
   ]
  },
  {
   "cell_type": "code",
   "execution_count": 106,
   "metadata": {},
   "outputs": [
    {
     "data": {
      "image/png": "[encoded data removed]",
      "text/plain": [
       "<Figure size 1080x648 with 2 Axes>"
      ]
     },
     "metadata": {},
     "output_type": "display_data"
    }
   ],
   "source": [
    "orders_pivot = cohorts_orders_final.pivot_table(index='first_order_month', columns='cohort_lifetime',values='ltv')\n",
    "plt.figure(figsize=(15,9))\n",
    "sb.heatmap(orders_pivot.cumsum(axis=1), annot=True, fmt='.1f', linewidths=1, linecolor='gray')\n",
    "plt.show()"
   ]
  },
  {
   "cell_type": "markdown",
   "metadata": {},
   "source": [
    "Через месяц выручка от каждой когорты падает почти в 10 раз. Очень маленький процент клиентов остается лояльным и продолжает покупать в следующие месяцы после момента первой покупки."
   ]
  },
  {
   "cell_type": "markdown",
   "metadata": {},
   "source": [
    "### Маркетинг"
   ]
  },
  {
   "cell_type": "markdown",
   "metadata": {},
   "source": [
    "Посмотрим, насколько в целом окупился продукт. Для этого посчитаем ROI."
   ]
  },
  {
   "cell_type": "code",
   "execution_count": 107,
   "metadata": {},
   "outputs": [],
   "source": [
    "# выделим месяц покупки\n",
    "costs['month'] = costs['dt'].astype('datetime64[M]')\n",
    "# считаем суммарные траты за каждый месяц\n",
    "costs_monthly = costs.groupby('month').agg({'costs':'sum'}).reset_index()\n",
    "cohorts_orders_final = costs_monthly.merge(cohorts_orders_final, left_on='month', right_on='first_order_month')"
   ]
  },
  {
   "cell_type": "code",
   "execution_count": 108,
   "metadata": {},
   "outputs": [
    {
     "data": {
      "image/png": "[encoded data removed]",
      "text/plain": [
       "<Figure size 1080x648 with 2 Axes>"
      ]
     },
     "metadata": {},
     "output_type": "display_data"
    }
   ],
   "source": [
    "# считаем цену привлечения клиента в каждой когорте\n",
    "cohorts_orders_final['cac'] = cohorts_orders_final['costs'] / cohorts_orders_final['cohort_size']\n",
    "# считаем ROI\n",
    "cohorts_orders_final['roi'] = cohorts_orders_final['ltv'] / cohorts_orders_final['cac']\n",
    "report_roi = cohorts_orders_final.pivot_table(index='first_order_month', columns='cohort_lifetime', values='roi')\n",
    "plt.figure(figsize=(15,9))\n",
    "# выводим в таблице кумулятивный показатель\n",
    "sb.heatmap(report_roi.cumsum(axis=1),annot=True, fmt='.2f', linewidths=1, linecolor='gray')\n",
    "plt.show()"
   ]
  },
  {
   "cell_type": "markdown",
   "metadata": {},
   "source": [
    "Окупилась только июньская и сентябрьская когорта на 6 и 3 месяц, соответственно. Остальные когорты далеки от окупаемости. Похоже, что их ROI в определенный момент вышел на уровень насыщения и стремительно расти дальше скорее всего не будет."
   ]
  },
  {
   "cell_type": "code",
   "execution_count": 109,
   "metadata": {},
   "outputs": [
    {
     "data": {
      "text/plain": [
       "cohort_lifetime\n",
       "0     0.540816\n",
       "1     0.581985\n",
       "2     0.631069\n",
       "3     0.719740\n",
       "4     0.782946\n",
       "5     0.859876\n",
       "6     0.896819\n",
       "7     0.969951\n",
       "8     1.053871\n",
       "9     0.964488\n",
       "10    1.094658\n",
       "11    1.333982\n",
       "dtype: float64"
      ]
     },
     "execution_count": 109,
     "metadata": {},
     "output_type": "execute_result"
    }
   ],
   "source": [
    "# средний ROI по когортам\n",
    "report_roi.cumsum(axis=1).mean()"
   ]
  },
  {
   "cell_type": "code",
   "execution_count": 110,
   "metadata": {},
   "outputs": [
    {
     "data": {
      "text/html": [
       "<div>\n",
       "<style scoped>\n",
       "    .dataframe tbody tr th:only-of-type {\n",
       "        vertical-align: middle;\n",
       "    }\n",
       "\n",
       "    .dataframe tbody tr th {\n",
       "        vertical-align: top;\n",
       "    }\n",
       "\n",
       "    .dataframe thead th {\n",
       "        text-align: right;\n",
       "    }\n",
       "</style>\n",
       "<table border=\"1\" class=\"dataframe\">\n",
       "  <thead>\n",
       "    <tr style=\"text-align: right;\">\n",
       "      <th></th>\n",
       "      <th>month</th>\n",
       "      <th>costs</th>\n",
       "      <th>first_order_month</th>\n",
       "      <th>cohort_lifetime</th>\n",
       "      <th>revenue</th>\n",
       "      <th>cohort_size</th>\n",
       "      <th>ltv</th>\n",
       "      <th>cac</th>\n",
       "      <th>roi</th>\n",
       "    </tr>\n",
       "  </thead>\n",
       "  <tbody>\n",
       "    <tr>\n",
       "      <td>0</td>\n",
       "      <td>2017-06-01</td>\n",
       "      <td>18015.00</td>\n",
       "      <td>2017-06-01</td>\n",
       "      <td>0</td>\n",
       "      <td>9557.49</td>\n",
       "      <td>2023</td>\n",
       "      <td>4.724414</td>\n",
       "      <td>8.905091</td>\n",
       "      <td>0.530530</td>\n",
       "    </tr>\n",
       "    <tr>\n",
       "      <td>1</td>\n",
       "      <td>2017-06-01</td>\n",
       "      <td>18015.00</td>\n",
       "      <td>2017-06-01</td>\n",
       "      <td>1</td>\n",
       "      <td>981.82</td>\n",
       "      <td>2023</td>\n",
       "      <td>0.485329</td>\n",
       "      <td>8.905091</td>\n",
       "      <td>0.054500</td>\n",
       "    </tr>\n",
       "    <tr>\n",
       "      <td>2</td>\n",
       "      <td>2017-06-01</td>\n",
       "      <td>18015.00</td>\n",
       "      <td>2017-06-01</td>\n",
       "      <td>2</td>\n",
       "      <td>885.34</td>\n",
       "      <td>2023</td>\n",
       "      <td>0.437637</td>\n",
       "      <td>8.905091</td>\n",
       "      <td>0.049145</td>\n",
       "    </tr>\n",
       "    <tr>\n",
       "      <td>3</td>\n",
       "      <td>2017-06-01</td>\n",
       "      <td>18015.00</td>\n",
       "      <td>2017-06-01</td>\n",
       "      <td>3</td>\n",
       "      <td>1931.30</td>\n",
       "      <td>2023</td>\n",
       "      <td>0.954671</td>\n",
       "      <td>8.905091</td>\n",
       "      <td>0.107205</td>\n",
       "    </tr>\n",
       "    <tr>\n",
       "      <td>4</td>\n",
       "      <td>2017-06-01</td>\n",
       "      <td>18015.00</td>\n",
       "      <td>2017-06-01</td>\n",
       "      <td>4</td>\n",
       "      <td>2068.58</td>\n",
       "      <td>2023</td>\n",
       "      <td>1.022531</td>\n",
       "      <td>8.905091</td>\n",
       "      <td>0.114825</td>\n",
       "    </tr>\n",
       "    <tr>\n",
       "      <td>...</td>\n",
       "      <td>...</td>\n",
       "      <td>...</td>\n",
       "      <td>...</td>\n",
       "      <td>...</td>\n",
       "      <td>...</td>\n",
       "      <td>...</td>\n",
       "      <td>...</td>\n",
       "      <td>...</td>\n",
       "      <td>...</td>\n",
       "    </tr>\n",
       "    <tr>\n",
       "      <td>73</td>\n",
       "      <td>2018-03-01</td>\n",
       "      <td>30415.27</td>\n",
       "      <td>2018-03-01</td>\n",
       "      <td>1</td>\n",
       "      <td>1063.05</td>\n",
       "      <td>3533</td>\n",
       "      <td>0.300892</td>\n",
       "      <td>8.608907</td>\n",
       "      <td>0.034951</td>\n",
       "    </tr>\n",
       "    <tr>\n",
       "      <td>74</td>\n",
       "      <td>2018-03-01</td>\n",
       "      <td>30415.27</td>\n",
       "      <td>2018-03-01</td>\n",
       "      <td>2</td>\n",
       "      <td>1114.87</td>\n",
       "      <td>3533</td>\n",
       "      <td>0.315559</td>\n",
       "      <td>8.608907</td>\n",
       "      <td>0.036655</td>\n",
       "    </tr>\n",
       "    <tr>\n",
       "      <td>75</td>\n",
       "      <td>2018-04-01</td>\n",
       "      <td>22289.38</td>\n",
       "      <td>2018-04-01</td>\n",
       "      <td>0</td>\n",
       "      <td>10600.69</td>\n",
       "      <td>2276</td>\n",
       "      <td>4.657597</td>\n",
       "      <td>9.793225</td>\n",
       "      <td>0.475594</td>\n",
       "    </tr>\n",
       "    <tr>\n",
       "      <td>76</td>\n",
       "      <td>2018-04-01</td>\n",
       "      <td>22289.38</td>\n",
       "      <td>2018-04-01</td>\n",
       "      <td>1</td>\n",
       "      <td>1209.92</td>\n",
       "      <td>2276</td>\n",
       "      <td>0.531599</td>\n",
       "      <td>9.793225</td>\n",
       "      <td>0.054282</td>\n",
       "    </tr>\n",
       "    <tr>\n",
       "      <td>77</td>\n",
       "      <td>2018-05-01</td>\n",
       "      <td>22224.27</td>\n",
       "      <td>2018-05-01</td>\n",
       "      <td>0</td>\n",
       "      <td>13925.76</td>\n",
       "      <td>2988</td>\n",
       "      <td>4.660562</td>\n",
       "      <td>7.437841</td>\n",
       "      <td>0.626601</td>\n",
       "    </tr>\n",
       "  </tbody>\n",
       "</table>\n",
       "<p>78 rows × 9 columns</p>\n",
       "</div>"
      ],
      "text/plain": [
       "        month     costs first_order_month  cohort_lifetime   revenue  \\\n",
       "0  2017-06-01  18015.00        2017-06-01                0   9557.49   \n",
       "1  2017-06-01  18015.00        2017-06-01                1    981.82   \n",
       "2  2017-06-01  18015.00        2017-06-01                2    885.34   \n",
       "3  2017-06-01  18015.00        2017-06-01                3   1931.30   \n",
       "4  2017-06-01  18015.00        2017-06-01                4   2068.58   \n",
       "..        ...       ...               ...              ...       ...   \n",
       "73 2018-03-01  30415.27        2018-03-01                1   1063.05   \n",
       "74 2018-03-01  30415.27        2018-03-01                2   1114.87   \n",
       "75 2018-04-01  22289.38        2018-04-01                0  10600.69   \n",
       "76 2018-04-01  22289.38        2018-04-01                1   1209.92   \n",
       "77 2018-05-01  22224.27        2018-05-01                0  13925.76   \n",
       "\n",
       "    cohort_size       ltv       cac       roi  \n",
       "0          2023  4.724414  8.905091  0.530530  \n",
       "1          2023  0.485329  8.905091  0.054500  \n",
       "2          2023  0.437637  8.905091  0.049145  \n",
       "3          2023  0.954671  8.905091  0.107205  \n",
       "4          2023  1.022531  8.905091  0.114825  \n",
       "..          ...       ...       ...       ...  \n",
       "73         3533  0.300892  8.608907  0.034951  \n",
       "74         3533  0.315559  8.608907  0.036655  \n",
       "75         2276  4.657597  9.793225  0.475594  \n",
       "76         2276  0.531599  9.793225  0.054282  \n",
       "77         2988  4.660562  7.437841  0.626601  \n",
       "\n",
       "[78 rows x 9 columns]"
      ]
     },
     "execution_count": 110,
     "metadata": {},
     "output_type": "execute_result"
    }
   ],
   "source": [
    "cohorts_orders_final"
   ]
  },
  {
   "cell_type": "markdown",
   "metadata": {},
   "source": [
    "Сколько всего потрачено средств на привлечение:"
   ]
  },
  {
   "cell_type": "code",
   "execution_count": 111,
   "metadata": {},
   "outputs": [
    {
     "data": {
      "text/plain": [
       "329131.62"
      ]
     },
     "execution_count": 111,
     "metadata": {},
     "output_type": "execute_result"
    }
   ],
   "source": [
    "costs['costs'].sum()"
   ]
  },
  {
   "cell_type": "markdown",
   "metadata": {},
   "source": [
    "### LTV & ROI для каждого канала: определяем наиболее перспективные источники рекламы"
   ]
  },
  {
   "cell_type": "markdown",
   "metadata": {},
   "source": [
    "Здесь мы не будем для каждого источника производить дополнительное деление по месяцу первой покупки каждого из клиентов. Когортой поэтому будем считать группу людей, сделавших покупку,прийдя из n-го источника, за всё время наблюдения независимо от даты первой покупки. Тогда размер когорты - это число клиентов, сделавших покупку, благодаря n-му источнику рекламы. Размерностью возраста когорты так же как и в общем случае будет один месяц. "
   ]
  },
  {
   "cell_type": "code",
   "execution_count": 157,
   "metadata": {},
   "outputs": [
    {
     "data": {
      "text/html": [
       "<div>\n",
       "<style scoped>\n",
       "    .dataframe tbody tr th:only-of-type {\n",
       "        vertical-align: middle;\n",
       "    }\n",
       "\n",
       "    .dataframe tbody tr th {\n",
       "        vertical-align: top;\n",
       "    }\n",
       "\n",
       "    .dataframe thead th {\n",
       "        text-align: right;\n",
       "    }\n",
       "</style>\n",
       "<table border=\"1\" class=\"dataframe\">\n",
       "  <thead>\n",
       "    <tr style=\"text-align: right;\">\n",
       "      <th>cohort_lifetime</th>\n",
       "      <th>0</th>\n",
       "      <th>1</th>\n",
       "      <th>2</th>\n",
       "      <th>3</th>\n",
       "      <th>4</th>\n",
       "      <th>5</th>\n",
       "      <th>6</th>\n",
       "      <th>7</th>\n",
       "      <th>8</th>\n",
       "      <th>9</th>\n",
       "      <th>10</th>\n",
       "      <th>11</th>\n",
       "    </tr>\n",
       "    <tr>\n",
       "      <th>source_id</th>\n",
       "      <th></th>\n",
       "      <th></th>\n",
       "      <th></th>\n",
       "      <th></th>\n",
       "      <th></th>\n",
       "      <th></th>\n",
       "      <th></th>\n",
       "      <th></th>\n",
       "      <th></th>\n",
       "      <th></th>\n",
       "      <th></th>\n",
       "      <th></th>\n",
       "    </tr>\n",
       "  </thead>\n",
       "  <tbody>\n",
       "    <tr>\n",
       "      <td>1</td>\n",
       "      <td>0.868964</td>\n",
       "      <td>0.997220</td>\n",
       "      <td>1.106797</td>\n",
       "      <td>1.208097</td>\n",
       "      <td>1.264397</td>\n",
       "      <td>1.299583</td>\n",
       "      <td>1.335420</td>\n",
       "      <td>1.386377</td>\n",
       "      <td>1.432026</td>\n",
       "      <td>1.459000</td>\n",
       "      <td>1.477115</td>\n",
       "      <td>1.492351</td>\n",
       "    </tr>\n",
       "    <tr>\n",
       "      <td>2</td>\n",
       "      <td>0.541456</td>\n",
       "      <td>0.657607</td>\n",
       "      <td>0.789183</td>\n",
       "      <td>0.921301</td>\n",
       "      <td>0.978708</td>\n",
       "      <td>1.022240</td>\n",
       "      <td>1.052232</td>\n",
       "      <td>1.068387</td>\n",
       "      <td>1.079204</td>\n",
       "      <td>1.084587</td>\n",
       "      <td>1.093813</td>\n",
       "      <td>1.096191</td>\n",
       "    </tr>\n",
       "    <tr>\n",
       "      <td>3</td>\n",
       "      <td>0.332639</td>\n",
       "      <td>0.352633</td>\n",
       "      <td>0.363392</td>\n",
       "      <td>0.370702</td>\n",
       "      <td>0.375968</td>\n",
       "      <td>0.379491</td>\n",
       "      <td>0.381493</td>\n",
       "      <td>0.383335</td>\n",
       "      <td>0.384718</td>\n",
       "      <td>0.385251</td>\n",
       "      <td>0.385579</td>\n",
       "      <td>0.385725</td>\n",
       "    </tr>\n",
       "    <tr>\n",
       "      <td>4</td>\n",
       "      <td>0.767890</td>\n",
       "      <td>0.799386</td>\n",
       "      <td>0.815510</td>\n",
       "      <td>0.837698</td>\n",
       "      <td>0.854664</td>\n",
       "      <td>0.873244</td>\n",
       "      <td>0.902292</td>\n",
       "      <td>0.909103</td>\n",
       "      <td>0.912314</td>\n",
       "      <td>0.918940</td>\n",
       "      <td>0.927706</td>\n",
       "      <td>0.928280</td>\n",
       "    </tr>\n",
       "    <tr>\n",
       "      <td>5</td>\n",
       "      <td>0.648265</td>\n",
       "      <td>0.682064</td>\n",
       "      <td>0.709620</td>\n",
       "      <td>0.910585</td>\n",
       "      <td>0.937135</td>\n",
       "      <td>0.969766</td>\n",
       "      <td>0.986648</td>\n",
       "      <td>0.998196</td>\n",
       "      <td>1.005004</td>\n",
       "      <td>1.014115</td>\n",
       "      <td>1.015884</td>\n",
       "      <td>1.016750</td>\n",
       "    </tr>\n",
       "    <tr>\n",
       "      <td>7</td>\n",
       "      <td>0.000000</td>\n",
       "      <td>NaN</td>\n",
       "      <td>NaN</td>\n",
       "      <td>NaN</td>\n",
       "      <td>NaN</td>\n",
       "      <td>NaN</td>\n",
       "      <td>NaN</td>\n",
       "      <td>NaN</td>\n",
       "      <td>NaN</td>\n",
       "      <td>NaN</td>\n",
       "      <td>NaN</td>\n",
       "      <td>NaN</td>\n",
       "    </tr>\n",
       "    <tr>\n",
       "      <td>9</td>\n",
       "      <td>0.767568</td>\n",
       "      <td>0.823280</td>\n",
       "      <td>0.877961</td>\n",
       "      <td>0.921810</td>\n",
       "      <td>0.949997</td>\n",
       "      <td>0.975208</td>\n",
       "      <td>0.996618</td>\n",
       "      <td>1.012837</td>\n",
       "      <td>1.038751</td>\n",
       "      <td>1.042150</td>\n",
       "      <td>1.043844</td>\n",
       "      <td>NaN</td>\n",
       "    </tr>\n",
       "    <tr>\n",
       "      <td>10</td>\n",
       "      <td>0.722145</td>\n",
       "      <td>0.736996</td>\n",
       "      <td>0.743259</td>\n",
       "      <td>0.752084</td>\n",
       "      <td>0.756178</td>\n",
       "      <td>0.758461</td>\n",
       "      <td>0.760381</td>\n",
       "      <td>0.763180</td>\n",
       "      <td>0.763757</td>\n",
       "      <td>0.764335</td>\n",
       "      <td>NaN</td>\n",
       "      <td>NaN</td>\n",
       "    </tr>\n",
       "  </tbody>\n",
       "</table>\n",
       "</div>"
      ],
      "text/plain": [
       "cohort_lifetime        0         1         2         3         4         5   \\\n",
       "source_id                                                                     \n",
       "1                0.868964  0.997220  1.106797  1.208097  1.264397  1.299583   \n",
       "2                0.541456  0.657607  0.789183  0.921301  0.978708  1.022240   \n",
       "3                0.332639  0.352633  0.363392  0.370702  0.375968  0.379491   \n",
       "4                0.767890  0.799386  0.815510  0.837698  0.854664  0.873244   \n",
       "5                0.648265  0.682064  0.709620  0.910585  0.937135  0.969766   \n",
       "7                0.000000       NaN       NaN       NaN       NaN       NaN   \n",
       "9                0.767568  0.823280  0.877961  0.921810  0.949997  0.975208   \n",
       "10               0.722145  0.736996  0.743259  0.752084  0.756178  0.758461   \n",
       "\n",
       "cohort_lifetime        6         7         8         9         10        11  \n",
       "source_id                                                                    \n",
       "1                1.335420  1.386377  1.432026  1.459000  1.477115  1.492351  \n",
       "2                1.052232  1.068387  1.079204  1.084587  1.093813  1.096191  \n",
       "3                0.381493  0.383335  0.384718  0.385251  0.385579  0.385725  \n",
       "4                0.902292  0.909103  0.912314  0.918940  0.927706  0.928280  \n",
       "5                0.986648  0.998196  1.005004  1.014115  1.015884  1.016750  \n",
       "7                     NaN       NaN       NaN       NaN       NaN       NaN  \n",
       "9                0.996618  1.012837  1.038751  1.042150  1.043844       NaN  \n",
       "10               0.760381  0.763180  0.763757  0.764335       NaN       NaN  "
      ]
     },
     "execution_count": 157,
     "metadata": {},
     "output_type": "execute_result"
    }
   ],
   "source": [
    "temp = (costs_orders_source\n",
    "                     .groupby('source_id')\n",
    "                     .agg({'uid':'nunique'})\n",
    "                     .rename(columns={'uid':'cohort_size'})\n",
    "                     .reset_index()\n",
    "                    )\n",
    "cohorts_by_source = costs_orders_source.merge(temp, how='left', on='source_id')\n",
    "# удельный доход, то есть это доход одного заказа, деленный на размер когорты. Далее мы просуммируем по всем таким удельным доходам\n",
    "# в пределах когорты и получим значение LTV для конкретного месяца. Далее суммируя кумулятивно, получим LTV\n",
    "cohorts_by_source['revenue_per_one'] = cohorts_by_source['revenue'] / cohorts_by_source['cohort_size']\n",
    "# считаем LTV\n",
    "ltv_by_source = cohorts_by_source.pivot_table(index='source_id', columns='cohort_lifetime',values='revenue_per_one', aggfunc='sum').cumsum(axis=1)\n",
    "# Сколько всего потрачено средств на привлечение для каждого источника\n",
    "costs_by_source = costs.groupby('source_id')['costs'].sum().reset_index()\n",
    "cohorts_by_source = cohorts_by_source.merge(costs_by_source, on='source_id', how='left')\n",
    "cohorts_by_source['cac'] = cohorts_by_source['costs'] / cohorts_by_source['cohort_size']\n",
    "# удельный ROI, то есть это доход одного заказа, деленный на размер когорты и деленный на САС\n",
    "cohorts_by_source['roi_per_one'] = cohorts_by_source.revenue_per_one / cohorts_by_source.cac\n",
    "# roi\n",
    "roi_by_source = cohorts_by_source.pivot_table(index='source_id', columns='cohort_lifetime',values='roi_per_one', aggfunc='sum')\n",
    "roi_by_source.cumsum(axis=1)"
   ]
  },
  {
   "cell_type": "code",
   "execution_count": 158,
   "metadata": {},
   "outputs": [
    {
     "data": {
      "image/png": "[encoded data removed]",
      "text/plain": [
       "<Figure size 720x720 with 2 Axes>"
      ]
     },
     "metadata": {},
     "output_type": "display_data"
    }
   ],
   "source": [
    "plt.figure(figsize=(10,10))\n",
    "sb.heatmap(roi_by_source.cumsum(axis=1),annot=True, fmt='.2f', linewidths=1, linecolor='gray')\n",
    "plt.show()"
   ]
  },
  {
   "cell_type": "markdown",
   "metadata": {},
   "source": [
    "Источники номер 3 и 10 очень плохо окупаются. Самые успешные - это 1,2,5,9."
   ]
  },
  {
   "cell_type": "code",
   "execution_count": 113,
   "metadata": {},
   "outputs": [
    {
     "data": {
      "text/html": [
       "<div>\n",
       "<style scoped>\n",
       "    .dataframe tbody tr th:only-of-type {\n",
       "        vertical-align: middle;\n",
       "    }\n",
       "\n",
       "    .dataframe tbody tr th {\n",
       "        vertical-align: top;\n",
       "    }\n",
       "\n",
       "    .dataframe thead th {\n",
       "        text-align: right;\n",
       "    }\n",
       "</style>\n",
       "<table border=\"1\" class=\"dataframe\">\n",
       "  <thead>\n",
       "    <tr style=\"text-align: right;\">\n",
       "      <th></th>\n",
       "      <th>source_id</th>\n",
       "      <th>clients</th>\n",
       "    </tr>\n",
       "  </thead>\n",
       "  <tbody>\n",
       "    <tr>\n",
       "      <td>0</td>\n",
       "      <td>1</td>\n",
       "      <td>7138</td>\n",
       "    </tr>\n",
       "    <tr>\n",
       "      <td>1</td>\n",
       "      <td>2</td>\n",
       "      <td>7304</td>\n",
       "    </tr>\n",
       "    <tr>\n",
       "      <td>2</td>\n",
       "      <td>3</td>\n",
       "      <td>13846</td>\n",
       "    </tr>\n",
       "    <tr>\n",
       "      <td>3</td>\n",
       "      <td>4</td>\n",
       "      <td>14252</td>\n",
       "    </tr>\n",
       "    <tr>\n",
       "      <td>4</td>\n",
       "      <td>5</td>\n",
       "      <td>10156</td>\n",
       "    </tr>\n",
       "    <tr>\n",
       "      <td>5</td>\n",
       "      <td>7</td>\n",
       "      <td>1</td>\n",
       "    </tr>\n",
       "    <tr>\n",
       "      <td>6</td>\n",
       "      <td>9</td>\n",
       "      <td>2793</td>\n",
       "    </tr>\n",
       "    <tr>\n",
       "      <td>7</td>\n",
       "      <td>10</td>\n",
       "      <td>1773</td>\n",
       "    </tr>\n",
       "  </tbody>\n",
       "</table>\n",
       "</div>"
      ],
      "text/plain": [
       "   source_id  clients\n",
       "0          1     7138\n",
       "1          2     7304\n",
       "2          3    13846\n",
       "3          4    14252\n",
       "4          5    10156\n",
       "5          7        1\n",
       "6          9     2793\n",
       "7         10     1773"
      ]
     },
     "execution_count": 113,
     "metadata": {},
     "output_type": "execute_result"
    }
   ],
   "source": [
    "# смотрим распределение по каналам привлечения людей, пришедших на сайт И сделавших покупку\n",
    "clients_by_source = (visits\n",
    "                     .query('uid in @buyers')\n",
    "                     .groupby('source_id')\n",
    "                     .agg({'uid':'nunique'})\n",
    "                     .reset_index()\n",
    "                     .rename(columns={'uid':'clients'})\n",
    "                    )\n",
    "clients_by_source"
   ]
  },
  {
   "cell_type": "code",
   "execution_count": 114,
   "metadata": {},
   "outputs": [
    {
     "data": {
      "text/html": [
       "<div>\n",
       "<style scoped>\n",
       "    .dataframe tbody tr th:only-of-type {\n",
       "        vertical-align: middle;\n",
       "    }\n",
       "\n",
       "    .dataframe tbody tr th {\n",
       "        vertical-align: top;\n",
       "    }\n",
       "\n",
       "    .dataframe thead th {\n",
       "        text-align: right;\n",
       "    }\n",
       "</style>\n",
       "<table border=\"1\" class=\"dataframe\">\n",
       "  <thead>\n",
       "    <tr style=\"text-align: right;\">\n",
       "      <th></th>\n",
       "      <th>source_id</th>\n",
       "      <th>costs</th>\n",
       "      <th>clients</th>\n",
       "    </tr>\n",
       "  </thead>\n",
       "  <tbody>\n",
       "    <tr>\n",
       "      <td>0</td>\n",
       "      <td>1</td>\n",
       "      <td>20833.27</td>\n",
       "      <td>7138</td>\n",
       "    </tr>\n",
       "    <tr>\n",
       "      <td>1</td>\n",
       "      <td>2</td>\n",
       "      <td>42806.04</td>\n",
       "      <td>7304</td>\n",
       "    </tr>\n",
       "    <tr>\n",
       "      <td>2</td>\n",
       "      <td>3</td>\n",
       "      <td>141321.63</td>\n",
       "      <td>13846</td>\n",
       "    </tr>\n",
       "    <tr>\n",
       "      <td>3</td>\n",
       "      <td>4</td>\n",
       "      <td>61073.60</td>\n",
       "      <td>14252</td>\n",
       "    </tr>\n",
       "    <tr>\n",
       "      <td>4</td>\n",
       "      <td>5</td>\n",
       "      <td>51757.10</td>\n",
       "      <td>10156</td>\n",
       "    </tr>\n",
       "    <tr>\n",
       "      <td>5</td>\n",
       "      <td>9</td>\n",
       "      <td>5517.49</td>\n",
       "      <td>2793</td>\n",
       "    </tr>\n",
       "    <tr>\n",
       "      <td>6</td>\n",
       "      <td>10</td>\n",
       "      <td>5822.49</td>\n",
       "      <td>1773</td>\n",
       "    </tr>\n",
       "  </tbody>\n",
       "</table>\n",
       "</div>"
      ],
      "text/plain": [
       "   source_id      costs  clients\n",
       "0          1   20833.27     7138\n",
       "1          2   42806.04     7304\n",
       "2          3  141321.63    13846\n",
       "3          4   61073.60    14252\n",
       "4          5   51757.10    10156\n",
       "5          9    5517.49     2793\n",
       "6         10    5822.49     1773"
      ]
     },
     "execution_count": 114,
     "metadata": {},
     "output_type": "execute_result"
    }
   ],
   "source": [
    "# таблица пригодится для расчета стоимости привлечения одного клиента в зависимости от источника\n",
    "acquis_cost_source = costs_by_source.merge(clients_by_source, how='left', on='source_id')\n",
    "acquis_cost_source"
   ]
  },
  {
   "cell_type": "code",
   "execution_count": 115,
   "metadata": {},
   "outputs": [
    {
     "data": {
      "text/html": [
       "<div>\n",
       "<style scoped>\n",
       "    .dataframe tbody tr th:only-of-type {\n",
       "        vertical-align: middle;\n",
       "    }\n",
       "\n",
       "    .dataframe tbody tr th {\n",
       "        vertical-align: top;\n",
       "    }\n",
       "\n",
       "    .dataframe thead th {\n",
       "        text-align: right;\n",
       "    }\n",
       "</style>\n",
       "<table border=\"1\" class=\"dataframe\">\n",
       "  <thead>\n",
       "    <tr style=\"text-align: right;\">\n",
       "      <th></th>\n",
       "      <th>source_id</th>\n",
       "      <th>costs</th>\n",
       "      <th>clients</th>\n",
       "      <th>cac_by_source</th>\n",
       "    </tr>\n",
       "  </thead>\n",
       "  <tbody>\n",
       "    <tr>\n",
       "      <td>0</td>\n",
       "      <td>1</td>\n",
       "      <td>20833.27</td>\n",
       "      <td>7138</td>\n",
       "      <td>2.918642</td>\n",
       "    </tr>\n",
       "    <tr>\n",
       "      <td>1</td>\n",
       "      <td>2</td>\n",
       "      <td>42806.04</td>\n",
       "      <td>7304</td>\n",
       "      <td>5.860630</td>\n",
       "    </tr>\n",
       "    <tr>\n",
       "      <td>2</td>\n",
       "      <td>3</td>\n",
       "      <td>141321.63</td>\n",
       "      <td>13846</td>\n",
       "      <td>10.206676</td>\n",
       "    </tr>\n",
       "    <tr>\n",
       "      <td>3</td>\n",
       "      <td>4</td>\n",
       "      <td>61073.60</td>\n",
       "      <td>14252</td>\n",
       "      <td>4.285265</td>\n",
       "    </tr>\n",
       "    <tr>\n",
       "      <td>4</td>\n",
       "      <td>5</td>\n",
       "      <td>51757.10</td>\n",
       "      <td>10156</td>\n",
       "      <td>5.096209</td>\n",
       "    </tr>\n",
       "    <tr>\n",
       "      <td>5</td>\n",
       "      <td>9</td>\n",
       "      <td>5517.49</td>\n",
       "      <td>2793</td>\n",
       "      <td>1.975471</td>\n",
       "    </tr>\n",
       "    <tr>\n",
       "      <td>6</td>\n",
       "      <td>10</td>\n",
       "      <td>5822.49</td>\n",
       "      <td>1773</td>\n",
       "      <td>3.283976</td>\n",
       "    </tr>\n",
       "  </tbody>\n",
       "</table>\n",
       "</div>"
      ],
      "text/plain": [
       "   source_id      costs  clients  cac_by_source\n",
       "0          1   20833.27     7138       2.918642\n",
       "1          2   42806.04     7304       5.860630\n",
       "2          3  141321.63    13846      10.206676\n",
       "3          4   61073.60    14252       4.285265\n",
       "4          5   51757.10    10156       5.096209\n",
       "5          9    5517.49     2793       1.975471\n",
       "6         10    5822.49     1773       3.283976"
      ]
     },
     "execution_count": 115,
     "metadata": {},
     "output_type": "execute_result"
    }
   ],
   "source": [
    "acquis_cost_source['cac_by_source'] = acquis_cost_source['costs'] / acquis_cost_source['clients']\n",
    "acquis_cost_source"
   ]
  },
  {
   "cell_type": "code",
   "execution_count": 116,
   "metadata": {},
   "outputs": [
    {
     "data": {
      "image/png": "[encoded data removed]",
      "text/plain": [
       "<Figure size 576x576 with 1 Axes>"
      ]
     },
     "metadata": {},
     "output_type": "display_data"
    }
   ],
   "source": [
    "(acquis_cost_source\n",
    "     .sort_values(by='cac_by_source', ascending=False)\n",
    "     .plot(kind='bar', x='source_id',y='cac_by_source', figsize=(8,8))\n",
    ")\n",
    "plt.show()"
   ]
  },
  {
   "cell_type": "markdown",
   "metadata": {},
   "source": [
    "У источника под номером \"3\" огромная цена привлечения клиента: денег инвестируем много, а приходит людей мало. Данный канал не эффективен, от него стоит отказаться и перенаправить ресурсы в другие более выгодные источники."
   ]
  },
  {
   "cell_type": "markdown",
   "metadata": {},
   "source": [
    "Посчитаем, сколько уходит ресурсов на привлечение через каждый из каналов по месяцам:"
   ]
  },
  {
   "cell_type": "code",
   "execution_count": 117,
   "metadata": {},
   "outputs": [
    {
     "data": {
      "text/html": [
       "<div>\n",
       "<style scoped>\n",
       "    .dataframe tbody tr th:only-of-type {\n",
       "        vertical-align: middle;\n",
       "    }\n",
       "\n",
       "    .dataframe tbody tr th {\n",
       "        vertical-align: top;\n",
       "    }\n",
       "\n",
       "    .dataframe thead th {\n",
       "        text-align: right;\n",
       "    }\n",
       "</style>\n",
       "<table border=\"1\" class=\"dataframe\">\n",
       "  <thead>\n",
       "    <tr style=\"text-align: right;\">\n",
       "      <th></th>\n",
       "      <th>month</th>\n",
       "      <th>source_id</th>\n",
       "      <th>costs</th>\n",
       "    </tr>\n",
       "  </thead>\n",
       "  <tbody>\n",
       "    <tr>\n",
       "      <td>0</td>\n",
       "      <td>2017-06-01</td>\n",
       "      <td>1</td>\n",
       "      <td>1125.61</td>\n",
       "    </tr>\n",
       "    <tr>\n",
       "      <td>1</td>\n",
       "      <td>2017-06-01</td>\n",
       "      <td>2</td>\n",
       "      <td>2427.38</td>\n",
       "    </tr>\n",
       "    <tr>\n",
       "      <td>2</td>\n",
       "      <td>2017-06-01</td>\n",
       "      <td>3</td>\n",
       "      <td>7731.65</td>\n",
       "    </tr>\n",
       "    <tr>\n",
       "      <td>3</td>\n",
       "      <td>2017-06-01</td>\n",
       "      <td>4</td>\n",
       "      <td>3514.80</td>\n",
       "    </tr>\n",
       "    <tr>\n",
       "      <td>4</td>\n",
       "      <td>2017-06-01</td>\n",
       "      <td>5</td>\n",
       "      <td>2616.12</td>\n",
       "    </tr>\n",
       "    <tr>\n",
       "      <td>...</td>\n",
       "      <td>...</td>\n",
       "      <td>...</td>\n",
       "      <td>...</td>\n",
       "    </tr>\n",
       "    <tr>\n",
       "      <td>79</td>\n",
       "      <td>2018-05-01</td>\n",
       "      <td>3</td>\n",
       "      <td>9411.42</td>\n",
       "    </tr>\n",
       "    <tr>\n",
       "      <td>80</td>\n",
       "      <td>2018-05-01</td>\n",
       "      <td>4</td>\n",
       "      <td>4214.21</td>\n",
       "    </tr>\n",
       "    <tr>\n",
       "      <td>81</td>\n",
       "      <td>2018-05-01</td>\n",
       "      <td>5</td>\n",
       "      <td>3669.56</td>\n",
       "    </tr>\n",
       "    <tr>\n",
       "      <td>82</td>\n",
       "      <td>2018-05-01</td>\n",
       "      <td>9</td>\n",
       "      <td>362.17</td>\n",
       "    </tr>\n",
       "    <tr>\n",
       "      <td>83</td>\n",
       "      <td>2018-05-01</td>\n",
       "      <td>10</td>\n",
       "      <td>409.86</td>\n",
       "    </tr>\n",
       "  </tbody>\n",
       "</table>\n",
       "<p>84 rows × 3 columns</p>\n",
       "</div>"
      ],
      "text/plain": [
       "        month  source_id    costs\n",
       "0  2017-06-01          1  1125.61\n",
       "1  2017-06-01          2  2427.38\n",
       "2  2017-06-01          3  7731.65\n",
       "3  2017-06-01          4  3514.80\n",
       "4  2017-06-01          5  2616.12\n",
       "..        ...        ...      ...\n",
       "79 2018-05-01          3  9411.42\n",
       "80 2018-05-01          4  4214.21\n",
       "81 2018-05-01          5  3669.56\n",
       "82 2018-05-01          9   362.17\n",
       "83 2018-05-01         10   409.86\n",
       "\n",
       "[84 rows x 3 columns]"
      ]
     },
     "execution_count": 117,
     "metadata": {},
     "output_type": "execute_result"
    }
   ],
   "source": [
    "costs_month_source = costs.groupby(['month', 'source_id']).agg({'costs':'sum'}).reset_index()\n",
    "costs_month_source"
   ]
  },
  {
   "cell_type": "code",
   "execution_count": 118,
   "metadata": {},
   "outputs": [
    {
     "data": {
      "image/png": "[encoded data removed]",
      "text/plain": [
       "<Figure size 1080x720 with 12 Axes>"
      ]
     },
     "metadata": {},
     "output_type": "display_data"
    }
   ],
   "source": [
    "# построим графики суммарных затрат на привлечение клиентов в зависимости от источника для всех месяцев наблюдения\n",
    "fig, ax = plt.subplots(4,3, figsize=(15,10))\n",
    "months = costs_month_source['month'].unique()\n",
    "k=0\n",
    "for i in range(0,4):\n",
    "    for j in range(0,3):\n",
    "        costs_month_source.query('month == @months[@k]').plot(kind='bar', x='source_id',y='costs', ax=ax[i,j])\n",
    "        ax[i,j].set_xlabel(months[k])\n",
    "        k+=1\n",
    "        \n",
    "plt.tight_layout()"
   ]
  },
  {
   "cell_type": "markdown",
   "metadata": {},
   "source": [
    "Видим, что распределение средств на маркетинг по разным каналам в каждый месяц качественно одинаково. На третий канал тратится больше всего, на 9 и 10-й меньше всего."
   ]
  },
  {
   "cell_type": "markdown",
   "metadata": {},
   "source": [
    "А теперь посчитаем затраты на маркетинг просто по месяцам:"
   ]
  },
  {
   "cell_type": "code",
   "execution_count": 119,
   "metadata": {},
   "outputs": [
    {
     "data": {
      "image/png": "[encoded data removed]",
      "text/plain": [
       "<Figure size 720x576 with 1 Axes>"
      ]
     },
     "metadata": {},
     "output_type": "display_data"
    }
   ],
   "source": [
    "costs.groupby('month')['costs'].sum().plot(kind='bar', figsize=(10,8))\n",
    "plt.show()"
   ]
  },
  {
   "cell_type": "markdown",
   "metadata": {},
   "source": [
    "Летом 2017 года и в апреле-мае 2018 тратили на маркетинг меньше всего, возможно, поэтому число покупок в это время так же самое меньшее среди остальных месяцев."
   ]
  },
  {
   "cell_type": "code",
   "execution_count": 121,
   "metadata": {},
   "outputs": [
    {
     "data": {
      "text/html": [
       "<div>\n",
       "<style scoped>\n",
       "    .dataframe tbody tr th:only-of-type {\n",
       "        vertical-align: middle;\n",
       "    }\n",
       "\n",
       "    .dataframe tbody tr th {\n",
       "        vertical-align: top;\n",
       "    }\n",
       "\n",
       "    .dataframe thead th {\n",
       "        text-align: right;\n",
       "    }\n",
       "</style>\n",
       "<table border=\"1\" class=\"dataframe\">\n",
       "  <thead>\n",
       "    <tr style=\"text-align: right;\">\n",
       "      <th></th>\n",
       "      <th>buy_ts</th>\n",
       "      <th>revenue</th>\n",
       "      <th>uid</th>\n",
       "      <th>buy_month</th>\n",
       "    </tr>\n",
       "  </thead>\n",
       "  <tbody>\n",
       "    <tr>\n",
       "      <td>0</td>\n",
       "      <td>2017-06-01 00:10:00</td>\n",
       "      <td>17.00</td>\n",
       "      <td>10329302124590727494</td>\n",
       "      <td>6</td>\n",
       "    </tr>\n",
       "    <tr>\n",
       "      <td>1</td>\n",
       "      <td>2017-06-01 00:25:00</td>\n",
       "      <td>0.55</td>\n",
       "      <td>11627257723692907447</td>\n",
       "      <td>6</td>\n",
       "    </tr>\n",
       "    <tr>\n",
       "      <td>2</td>\n",
       "      <td>2017-06-01 00:27:00</td>\n",
       "      <td>0.37</td>\n",
       "      <td>17903680561304213844</td>\n",
       "      <td>6</td>\n",
       "    </tr>\n",
       "    <tr>\n",
       "      <td>3</td>\n",
       "      <td>2017-06-01 00:29:00</td>\n",
       "      <td>0.55</td>\n",
       "      <td>16109239769442553005</td>\n",
       "      <td>6</td>\n",
       "    </tr>\n",
       "    <tr>\n",
       "      <td>4</td>\n",
       "      <td>2017-06-01 07:58:00</td>\n",
       "      <td>0.37</td>\n",
       "      <td>14200605875248379450</td>\n",
       "      <td>6</td>\n",
       "    </tr>\n",
       "    <tr>\n",
       "      <td>...</td>\n",
       "      <td>...</td>\n",
       "      <td>...</td>\n",
       "      <td>...</td>\n",
       "      <td>...</td>\n",
       "    </tr>\n",
       "    <tr>\n",
       "      <td>50409</td>\n",
       "      <td>2018-05-31 23:43:00</td>\n",
       "      <td>3.67</td>\n",
       "      <td>1805512004303848280</td>\n",
       "      <td>5</td>\n",
       "    </tr>\n",
       "    <tr>\n",
       "      <td>50410</td>\n",
       "      <td>2018-05-31 23:50:00</td>\n",
       "      <td>4.64</td>\n",
       "      <td>12296626599487328624</td>\n",
       "      <td>5</td>\n",
       "    </tr>\n",
       "    <tr>\n",
       "      <td>50411</td>\n",
       "      <td>2018-05-31 23:50:00</td>\n",
       "      <td>5.80</td>\n",
       "      <td>11369640365507475976</td>\n",
       "      <td>5</td>\n",
       "    </tr>\n",
       "    <tr>\n",
       "      <td>50412</td>\n",
       "      <td>2018-05-31 23:54:00</td>\n",
       "      <td>0.30</td>\n",
       "      <td>1786462140797698849</td>\n",
       "      <td>5</td>\n",
       "    </tr>\n",
       "    <tr>\n",
       "      <td>50413</td>\n",
       "      <td>2018-05-31 23:56:00</td>\n",
       "      <td>3.67</td>\n",
       "      <td>3993697860786194247</td>\n",
       "      <td>5</td>\n",
       "    </tr>\n",
       "  </tbody>\n",
       "</table>\n",
       "<p>50414 rows × 4 columns</p>\n",
       "</div>"
      ],
      "text/plain": [
       "                   buy_ts  revenue                   uid  buy_month\n",
       "0     2017-06-01 00:10:00    17.00  10329302124590727494          6\n",
       "1     2017-06-01 00:25:00     0.55  11627257723692907447          6\n",
       "2     2017-06-01 00:27:00     0.37  17903680561304213844          6\n",
       "3     2017-06-01 00:29:00     0.55  16109239769442553005          6\n",
       "4     2017-06-01 07:58:00     0.37  14200605875248379450          6\n",
       "...                   ...      ...                   ...        ...\n",
       "50409 2018-05-31 23:43:00     3.67   1805512004303848280          5\n",
       "50410 2018-05-31 23:50:00     4.64  12296626599487328624          5\n",
       "50411 2018-05-31 23:50:00     5.80  11369640365507475976          5\n",
       "50412 2018-05-31 23:54:00     0.30   1786462140797698849          5\n",
       "50413 2018-05-31 23:56:00     3.67   3993697860786194247          5\n",
       "\n",
       "[50414 rows x 4 columns]"
      ]
     },
     "execution_count": 121,
     "metadata": {},
     "output_type": "execute_result"
    }
   ],
   "source": [
    "orders"
   ]
  },
  {
   "cell_type": "code",
   "execution_count": 122,
   "metadata": {},
   "outputs": [
    {
     "data": {
      "text/plain": [
       "buy_month\n",
       "1     4721\n",
       "2     5281\n",
       "3     5326\n",
       "4     3273\n",
       "5     4346\n",
       "6     2354\n",
       "7     2363\n",
       "8     1807\n",
       "9     3387\n",
       "10    5679\n",
       "11    5659\n",
       "12    6218\n",
       "Name: uid, dtype: int64"
      ]
     },
     "execution_count": 122,
     "metadata": {},
     "output_type": "execute_result"
    }
   ],
   "source": [
    "orders.groupby('buy_month')['uid'].count()"
   ]
  },
  {
   "cell_type": "markdown",
   "metadata": {},
   "source": [
    "## Общий вывод."
   ]
  },
  {
   "cell_type": "markdown",
   "metadata": {},
   "source": [
    "- стоит в 10 раз сократить затраты на привлечение клиентов через 3, 4 и 10 источники и перераспределить эти средства между 1,2,9 каналами. Возможно, от канала 3 стоит отказаться, он вносит большой вклад в убыточность;\n",
    "- в летние месяцы покупок в 2-3 раза меньше, чем в остальное время. Это можно объяснить тем, что в театрах сезон обычно начинается осенью, летом представлений, как правило, меньше. Но все равно в таком случае не мешает проверить, все ли было в порядке с сервисом в эти месяцы;\n",
    "- у сервиса крайне низкий retention: после первого визита на сайт в следующий месяц переходит лишь 8-9% аудитории. Среди каналов рекламы самыми успешными по показателю удержания являются 1,2 и 9;\n",
    "- низкий retention и неэффективные траты на маркетинг в результате дают плохую окупаемость. Согласно среднему по всем когортам значению ROI, затраты окупаются только через 8 месяцев."
   ]
  }
 ],
 "metadata": {
  "kernelspec": {
   "display_name": "Python 3",
   "language": "python",
   "name": "python3"
  },
  "language_info": {
   "codemirror_mode": {
    "name": "ipython",
    "version": 3
   },
   "file_extension": ".py",
   "mimetype": "text/x-python",
   "name": "python",
   "nbconvert_exporter": "python",
   "pygments_lexer": "ipython3",
   "version": "3.7.4"
  }
 },
 "nbformat": 4,
 "nbformat_minor": 2
}
